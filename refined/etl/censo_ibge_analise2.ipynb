{
 "cells": [
  {
   "cell_type": "code",
   "execution_count": 1,
   "id": "c61d3daa",
   "metadata": {},
   "outputs": [
    {
     "name": "stdout",
     "output_type": "stream",
     "text": [
      "Tempo inicial da execucao: 2025-07-02 16:41:08.492903\n",
      "User: tatiane\n",
      "Node: Inspiron-3583\n",
      "AppID:  local-1751485213258\n"
     ]
    }
   ],
   "source": [
    "import sys, os, time, getpass\n",
    "\n",
    "sys.path.append(\"/home/tatiane/lib/\")\n",
    "\n",
    "import pessoal\n",
    "from pessoal import *\n",
    "print('AppID: ', sc.applicationId)\n",
    "\n",
    "# Pedir ao spark para exibir só erros, escondendo avisos (WARN) e infos\n",
    "# O correto é resolver a causa como, por exemplo: ordenados = Window.partitionBy().orderBy(dfs[i].columns[0])\n",
    "spark.sparkContext.setLogLevel(\"ERROR\")"
   ]
  },
  {
   "cell_type": "markdown",
   "id": "75d6ff8b",
   "metadata": {},
   "source": [
    "# Censo escolar 2023"
   ]
  },
  {
   "cell_type": "code",
   "execution_count": 2,
   "id": "35923a71",
   "metadata": {},
   "outputs": [
    {
     "name": "stderr",
     "output_type": "stream",
     "text": [
      "                                                                                \r"
     ]
    }
   ],
   "source": [
    "# Leitura com encoding apropriado para o conteúdo da base\n",
    "censo = spark.read.csv('/home/tatiane/Documentos/censo_escolar2/projeto_2/microdados_censo_escolar_2023/dados/microdados_ed_basica_2023.csv', header = True, multiLine = True, sep = ';', encoding=\"latin1\")\n",
    "write_path = '/home/tatiane/Documentos/censo_escolar2/projeto_2/analise2/'"
   ]
  },
  {
   "cell_type": "code",
   "execution_count": 3,
   "id": "10f0a27d",
   "metadata": {
    "scrolled": true
   },
   "outputs": [
    {
     "name": "stderr",
     "output_type": "stream",
     "text": [
      "\r",
      "[Stage 1:>                                                          (0 + 1) / 1]\r"
     ]
    },
    {
     "name": "stdout",
     "output_type": "stream",
     "text": [
      "Qtd. registros: 217625 | Quantidade de colunas:  408\n",
      "root\n",
      " |-- NU_ANO_CENSO: string (nullable = true)\n",
      " |-- NO_REGIAO: string (nullable = true)\n",
      " |-- CO_REGIAO: string (nullable = true)\n",
      " |-- NO_UF: string (nullable = true)\n",
      " |-- SG_UF: string (nullable = true)\n",
      " |-- CO_UF: string (nullable = true)\n",
      " |-- NO_MUNICIPIO: string (nullable = true)\n",
      " |-- CO_MUNICIPIO: string (nullable = true)\n",
      " |-- NO_REGIAO_GEOG_INTERM: string (nullable = true)\n",
      " |-- CO_REGIAO_GEOG_INTERM: string (nullable = true)\n",
      " |-- NO_REGIAO_GEOG_IMED: string (nullable = true)\n",
      " |-- CO_REGIAO_GEOG_IMED: string (nullable = true)\n",
      " |-- NO_MESORREGIAO: string (nullable = true)\n",
      " |-- CO_MESORREGIAO: string (nullable = true)\n",
      " |-- NO_MICRORREGIAO: string (nullable = true)\n",
      " |-- CO_MICRORREGIAO: string (nullable = true)\n",
      " |-- CO_DISTRITO: string (nullable = true)\n",
      " |-- NO_ENTIDADE: string (nullable = true)\n",
      " |-- CO_ENTIDADE: string (nullable = true)\n",
      " |-- TP_DEPENDENCIA: string (nullable = true)\n",
      " |-- TP_CATEGORIA_ESCOLA_PRIVADA: string (nullable = true)\n",
      " |-- TP_LOCALIZACAO: string (nullable = true)\n",
      " |-- TP_LOCALIZACAO_DIFERENCIADA: string (nullable = true)\n",
      " |-- DS_ENDERECO: string (nullable = true)\n",
      " |-- NU_ENDERECO: string (nullable = true)\n",
      " |-- DS_COMPLEMENTO: string (nullable = true)\n",
      " |-- NO_BAIRRO: string (nullable = true)\n",
      " |-- CO_CEP: string (nullable = true)\n",
      " |-- NU_DDD: string (nullable = true)\n",
      " |-- NU_TELEFONE: string (nullable = true)\n",
      " |-- TP_SITUACAO_FUNCIONAMENTO: string (nullable = true)\n",
      " |-- CO_ORGAO_REGIONAL: string (nullable = true)\n",
      " |-- DT_ANO_LETIVO_INICIO: string (nullable = true)\n",
      " |-- DT_ANO_LETIVO_TERMINO: string (nullable = true)\n",
      " |-- IN_VINCULO_SECRETARIA_EDUCACAO: string (nullable = true)\n",
      " |-- IN_VINCULO_SEGURANCA_PUBLICA: string (nullable = true)\n",
      " |-- IN_VINCULO_SECRETARIA_SAUDE: string (nullable = true)\n",
      " |-- IN_VINCULO_OUTRO_ORGAO: string (nullable = true)\n",
      " |-- IN_PODER_PUBLICO_PARCERIA: string (nullable = true)\n",
      " |-- TP_PODER_PUBLICO_PARCERIA: string (nullable = true)\n",
      " |-- IN_FORMA_CONT_TERMO_COLABORA: string (nullable = true)\n",
      " |-- IN_FORMA_CONT_TERMO_FOMENTO: string (nullable = true)\n",
      " |-- IN_FORMA_CONT_ACORDO_COOP: string (nullable = true)\n",
      " |-- IN_FORMA_CONT_PRESTACAO_SERV: string (nullable = true)\n",
      " |-- IN_FORMA_CONT_COOP_TEC_FIN: string (nullable = true)\n",
      " |-- IN_FORMA_CONT_CONSORCIO_PUB: string (nullable = true)\n",
      " |-- IN_FORMA_CONT_MU_TERMO_COLAB: string (nullable = true)\n",
      " |-- IN_FORMA_CONT_MU_TERMO_FOMENTO: string (nullable = true)\n",
      " |-- IN_FORMA_CONT_MU_ACORDO_COOP: string (nullable = true)\n",
      " |-- IN_FORMA_CONT_MU_PREST_SERV: string (nullable = true)\n",
      " |-- IN_FORMA_CONT_MU_COOP_TEC_FIN: string (nullable = true)\n",
      " |-- IN_FORMA_CONT_MU_CONSORCIO_PUB: string (nullable = true)\n",
      " |-- IN_FORMA_CONT_ES_TERMO_COLAB: string (nullable = true)\n",
      " |-- IN_FORMA_CONT_ES_TERMO_FOMENTO: string (nullable = true)\n",
      " |-- IN_FORMA_CONT_ES_ACORDO_COOP: string (nullable = true)\n",
      " |-- IN_FORMA_CONT_ES_PREST_SERV: string (nullable = true)\n",
      " |-- IN_FORMA_CONT_ES_COOP_TEC_FIN: string (nullable = true)\n",
      " |-- IN_FORMA_CONT_ES_CONSORCIO_PUB: string (nullable = true)\n",
      " |-- IN_MANT_ESCOLA_PRIVADA_EMP: string (nullable = true)\n",
      " |-- IN_MANT_ESCOLA_PRIVADA_ONG: string (nullable = true)\n",
      " |-- IN_MANT_ESCOLA_PRIVADA_OSCIP: string (nullable = true)\n",
      " |-- IN_MANT_ESCOLA_PRIV_ONG_OSCIP: string (nullable = true)\n",
      " |-- IN_MANT_ESCOLA_PRIVADA_SIND: string (nullable = true)\n",
      " |-- IN_MANT_ESCOLA_PRIVADA_SIST_S: string (nullable = true)\n",
      " |-- IN_MANT_ESCOLA_PRIVADA_S_FINS: string (nullable = true)\n",
      " |-- NU_CNPJ_ESCOLA_PRIVADA: string (nullable = true)\n",
      " |-- NU_CNPJ_MANTENEDORA: string (nullable = true)\n",
      " |-- TP_REGULAMENTACAO: string (nullable = true)\n",
      " |-- TP_RESPONSAVEL_REGULAMENTACAO: string (nullable = true)\n",
      " |-- CO_ESCOLA_SEDE_VINCULADA: string (nullable = true)\n",
      " |-- CO_IES_OFERTANTE: string (nullable = true)\n",
      " |-- IN_LOCAL_FUNC_PREDIO_ESCOLAR: string (nullable = true)\n",
      " |-- TP_OCUPACAO_PREDIO_ESCOLAR: string (nullable = true)\n",
      " |-- IN_LOCAL_FUNC_SOCIOEDUCATIVO: string (nullable = true)\n",
      " |-- IN_LOCAL_FUNC_UNID_PRISIONAL: string (nullable = true)\n",
      " |-- IN_LOCAL_FUNC_PRISIONAL_SOCIO: string (nullable = true)\n",
      " |-- IN_LOCAL_FUNC_GALPAO: string (nullable = true)\n",
      " |-- TP_OCUPACAO_GALPAO: string (nullable = true)\n",
      " |-- IN_LOCAL_FUNC_SALAS_OUTRA_ESC: string (nullable = true)\n",
      " |-- IN_LOCAL_FUNC_OUTROS: string (nullable = true)\n",
      " |-- IN_PREDIO_COMPARTILHADO: string (nullable = true)\n",
      " |-- IN_AGUA_POTAVEL: string (nullable = true)\n",
      " |-- IN_AGUA_REDE_PUBLICA: string (nullable = true)\n",
      " |-- IN_AGUA_POCO_ARTESIANO: string (nullable = true)\n",
      " |-- IN_AGUA_CACIMBA: string (nullable = true)\n",
      " |-- IN_AGUA_FONTE_RIO: string (nullable = true)\n",
      " |-- IN_AGUA_INEXISTENTE: string (nullable = true)\n",
      " |-- IN_ENERGIA_REDE_PUBLICA: string (nullable = true)\n",
      " |-- IN_ENERGIA_GERADOR_FOSSIL: string (nullable = true)\n",
      " |-- IN_ENERGIA_RENOVAVEL: string (nullable = true)\n",
      " |-- IN_ENERGIA_INEXISTENTE: string (nullable = true)\n",
      " |-- IN_ESGOTO_REDE_PUBLICA: string (nullable = true)\n",
      " |-- IN_ESGOTO_FOSSA_SEPTICA: string (nullable = true)\n",
      " |-- IN_ESGOTO_FOSSA_COMUM: string (nullable = true)\n",
      " |-- IN_ESGOTO_FOSSA: string (nullable = true)\n",
      " |-- IN_ESGOTO_INEXISTENTE: string (nullable = true)\n",
      " |-- IN_LIXO_SERVICO_COLETA: string (nullable = true)\n",
      " |-- IN_LIXO_QUEIMA: string (nullable = true)\n",
      " |-- IN_LIXO_ENTERRA: string (nullable = true)\n",
      " |-- IN_LIXO_DESTINO_FINAL_PUBLICO: string (nullable = true)\n",
      " |-- IN_LIXO_DESCARTA_OUTRA_AREA: string (nullable = true)\n",
      " |-- IN_TRATAMENTO_LIXO_SEPARACAO: string (nullable = true)\n",
      " |-- IN_TRATAMENTO_LIXO_REUTILIZA: string (nullable = true)\n",
      " |-- IN_TRATAMENTO_LIXO_RECICLAGEM: string (nullable = true)\n",
      " |-- IN_TRATAMENTO_LIXO_INEXISTENTE: string (nullable = true)\n",
      " |-- IN_ALMOXARIFADO: string (nullable = true)\n",
      " |-- IN_AREA_VERDE: string (nullable = true)\n",
      " |-- IN_AUDITORIO: string (nullable = true)\n",
      " |-- IN_BANHEIRO: string (nullable = true)\n",
      " |-- IN_BANHEIRO_EI: string (nullable = true)\n",
      " |-- IN_BANHEIRO_PNE: string (nullable = true)\n",
      " |-- IN_BANHEIRO_FUNCIONARIOS: string (nullable = true)\n",
      " |-- IN_BANHEIRO_CHUVEIRO: string (nullable = true)\n",
      " |-- IN_BIBLIOTECA: string (nullable = true)\n",
      " |-- IN_BIBLIOTECA_SALA_LEITURA: string (nullable = true)\n",
      " |-- IN_COZINHA: string (nullable = true)\n",
      " |-- IN_DESPENSA: string (nullable = true)\n",
      " |-- IN_DORMITORIO_ALUNO: string (nullable = true)\n",
      " |-- IN_DORMITORIO_PROFESSOR: string (nullable = true)\n",
      " |-- IN_LABORATORIO_CIENCIAS: string (nullable = true)\n",
      " |-- IN_LABORATORIO_INFORMATICA: string (nullable = true)\n",
      " |-- IN_LABORATORIO_EDUC_PROF: string (nullable = true)\n",
      " |-- IN_PATIO_COBERTO: string (nullable = true)\n",
      " |-- IN_PATIO_DESCOBERTO: string (nullable = true)\n",
      " |-- IN_PARQUE_INFANTIL: string (nullable = true)\n",
      " |-- IN_PISCINA: string (nullable = true)\n",
      " |-- IN_QUADRA_ESPORTES: string (nullable = true)\n",
      " |-- IN_QUADRA_ESPORTES_COBERTA: string (nullable = true)\n",
      " |-- IN_QUADRA_ESPORTES_DESCOBERTA: string (nullable = true)\n",
      " |-- IN_REFEITORIO: string (nullable = true)\n",
      " |-- IN_SALA_ATELIE_ARTES: string (nullable = true)\n",
      " |-- IN_SALA_MUSICA_CORAL: string (nullable = true)\n",
      " |-- IN_SALA_ESTUDIO_DANCA: string (nullable = true)\n",
      " |-- IN_SALA_MULTIUSO: string (nullable = true)\n",
      " |-- IN_SALA_ESTUDIO_GRAVACAO: string (nullable = true)\n",
      " |-- IN_SALA_OFICINAS_EDUC_PROF: string (nullable = true)\n",
      " |-- IN_SALA_DIRETORIA: string (nullable = true)\n",
      " |-- IN_SALA_LEITURA: string (nullable = true)\n",
      " |-- IN_SALA_PROFESSOR: string (nullable = true)\n",
      " |-- IN_SALA_REPOUSO_ALUNO: string (nullable = true)\n",
      " |-- IN_SECRETARIA: string (nullable = true)\n",
      " |-- IN_SALA_ATENDIMENTO_ESPECIAL: string (nullable = true)\n",
      " |-- IN_TERREIRAO: string (nullable = true)\n",
      " |-- IN_VIVEIRO: string (nullable = true)\n",
      " |-- IN_DEPENDENCIAS_OUTRAS: string (nullable = true)\n",
      " |-- IN_ACESSIBILIDADE_CORRIMAO: string (nullable = true)\n",
      " |-- IN_ACESSIBILIDADE_ELEVADOR: string (nullable = true)\n",
      " |-- IN_ACESSIBILIDADE_PISOS_TATEIS: string (nullable = true)\n",
      " |-- IN_ACESSIBILIDADE_VAO_LIVRE: string (nullable = true)\n",
      " |-- IN_ACESSIBILIDADE_RAMPAS: string (nullable = true)\n",
      " |-- IN_ACESSIBILIDADE_SINAL_SONORO: string (nullable = true)\n",
      " |-- IN_ACESSIBILIDADE_SINAL_TATIL: string (nullable = true)\n",
      " |-- IN_ACESSIBILIDADE_SINAL_VISUAL: string (nullable = true)\n",
      " |-- IN_ACESSIBILIDADE_INEXISTENTE: string (nullable = true)\n",
      " |-- QT_SALAS_UTILIZADAS_DENTRO: string (nullable = true)\n",
      " |-- QT_SALAS_UTILIZADAS_FORA: string (nullable = true)\n",
      " |-- QT_SALAS_UTILIZADAS: string (nullable = true)\n",
      " |-- QT_SALAS_UTILIZA_CLIMATIZADAS: string (nullable = true)\n",
      " |-- QT_SALAS_UTILIZADAS_ACESSIVEIS: string (nullable = true)\n",
      " |-- IN_EQUIP_PARABOLICA: string (nullable = true)\n",
      " |-- IN_COMPUTADOR: string (nullable = true)\n",
      " |-- IN_EQUIP_COPIADORA: string (nullable = true)\n",
      " |-- IN_EQUIP_IMPRESSORA: string (nullable = true)\n",
      " |-- IN_EQUIP_IMPRESSORA_MULT: string (nullable = true)\n",
      " |-- IN_EQUIP_SCANNER: string (nullable = true)\n",
      " |-- IN_EQUIP_NENHUM: string (nullable = true)\n",
      " |-- IN_EQUIP_DVD: string (nullable = true)\n",
      " |-- QT_EQUIP_DVD: string (nullable = true)\n",
      " |-- IN_EQUIP_SOM: string (nullable = true)\n",
      " |-- QT_EQUIP_SOM: string (nullable = true)\n",
      " |-- IN_EQUIP_TV: string (nullable = true)\n",
      " |-- QT_EQUIP_TV: string (nullable = true)\n",
      " |-- IN_EQUIP_LOUSA_DIGITAL: string (nullable = true)\n",
      " |-- QT_EQUIP_LOUSA_DIGITAL: string (nullable = true)\n",
      " |-- IN_EQUIP_MULTIMIDIA: string (nullable = true)\n",
      " |-- QT_EQUIP_MULTIMIDIA: string (nullable = true)\n",
      " |-- IN_DESKTOP_ALUNO: string (nullable = true)\n",
      " |-- QT_DESKTOP_ALUNO: string (nullable = true)\n",
      " |-- IN_COMP_PORTATIL_ALUNO: string (nullable = true)\n",
      " |-- QT_COMP_PORTATIL_ALUNO: string (nullable = true)\n",
      " |-- IN_TABLET_ALUNO: string (nullable = true)\n",
      " |-- QT_TABLET_ALUNO: string (nullable = true)\n",
      " |-- IN_INTERNET: string (nullable = true)\n",
      " |-- IN_INTERNET_ALUNOS: string (nullable = true)\n",
      " |-- IN_INTERNET_ADMINISTRATIVO: string (nullable = true)\n",
      " |-- IN_INTERNET_APRENDIZAGEM: string (nullable = true)\n",
      " |-- IN_INTERNET_COMUNIDADE: string (nullable = true)\n",
      " |-- IN_ACESSO_INTERNET_COMPUTADOR: string (nullable = true)\n",
      " |-- IN_ACES_INTERNET_DISP_PESSOAIS: string (nullable = true)\n",
      " |-- TP_REDE_LOCAL: string (nullable = true)\n",
      " |-- IN_BANDA_LARGA: string (nullable = true)\n",
      " |-- IN_PROF_ADMINISTRATIVOS: string (nullable = true)\n",
      " |-- QT_PROF_ADMINISTRATIVOS: string (nullable = true)\n",
      " |-- IN_PROF_SERVICOS_GERAIS: string (nullable = true)\n",
      " |-- QT_PROF_SERVICOS_GERAIS: string (nullable = true)\n",
      " |-- IN_PROF_BIBLIOTECARIO: string (nullable = true)\n",
      " |-- QT_PROF_BIBLIOTECARIO: string (nullable = true)\n",
      " |-- IN_PROF_SAUDE: string (nullable = true)\n",
      " |-- QT_PROF_SAUDE: string (nullable = true)\n",
      " |-- IN_PROF_COORDENADOR: string (nullable = true)\n",
      " |-- QT_PROF_COORDENADOR: string (nullable = true)\n",
      " |-- IN_PROF_FONAUDIOLOGO: string (nullable = true)\n",
      " |-- QT_PROF_FONAUDIOLOGO: string (nullable = true)\n",
      " |-- IN_PROF_NUTRICIONISTA: string (nullable = true)\n",
      " |-- QT_PROF_NUTRICIONISTA: string (nullable = true)\n",
      " |-- IN_PROF_PSICOLOGO: string (nullable = true)\n",
      " |-- QT_PROF_PSICOLOGO: string (nullable = true)\n",
      " |-- IN_PROF_ALIMENTACAO: string (nullable = true)\n",
      " |-- QT_PROF_ALIMENTACAO: string (nullable = true)\n",
      " |-- IN_PROF_PEDAGOGIA: string (nullable = true)\n",
      " |-- QT_PROF_PEDAGOGIA: string (nullable = true)\n",
      " |-- IN_PROF_SECRETARIO: string (nullable = true)\n",
      " |-- QT_PROF_SECRETARIO: string (nullable = true)\n",
      " |-- IN_PROF_SEGURANCA: string (nullable = true)\n",
      " |-- QT_PROF_SEGURANCA: string (nullable = true)\n",
      " |-- IN_PROF_MONITORES: string (nullable = true)\n",
      " |-- QT_PROF_MONITORES: string (nullable = true)\n",
      " |-- IN_PROF_GESTAO: string (nullable = true)\n",
      " |-- QT_PROF_GESTAO: string (nullable = true)\n",
      " |-- IN_PROF_ASSIST_SOCIAL: string (nullable = true)\n",
      " |-- QT_PROF_ASSIST_SOCIAL: string (nullable = true)\n",
      " |-- IN_PROF_TRAD_LIBRAS: string (nullable = true)\n",
      " |-- QT_PROF_TRAD_LIBRAS: string (nullable = true)\n",
      " |-- IN_ALIMENTACAO: string (nullable = true)\n",
      " |-- IN_MATERIAL_PED_MULTIMIDIA: string (nullable = true)\n",
      " |-- IN_MATERIAL_PED_INFANTIL: string (nullable = true)\n",
      " |-- IN_MATERIAL_PED_CIENTIFICO: string (nullable = true)\n",
      " |-- IN_MATERIAL_PED_DIFUSAO: string (nullable = true)\n",
      " |-- IN_MATERIAL_PED_MUSICAL: string (nullable = true)\n",
      " |-- IN_MATERIAL_PED_JOGOS: string (nullable = true)\n",
      " |-- IN_MATERIAL_PED_ARTISTICAS: string (nullable = true)\n",
      " |-- IN_MATERIAL_PED_PROFISSIONAL: string (nullable = true)\n",
      " |-- IN_MATERIAL_PED_DESPORTIVA: string (nullable = true)\n",
      " |-- IN_MATERIAL_PED_INDIGENA: string (nullable = true)\n",
      " |-- IN_MATERIAL_PED_ETNICO: string (nullable = true)\n",
      " |-- IN_MATERIAL_PED_CAMPO: string (nullable = true)\n",
      " |-- IN_MATERIAL_PED_BIL_SURDOS: string (nullable = true)\n",
      " |-- IN_MATERIAL_PED_NENHUM: string (nullable = true)\n",
      " |-- IN_EDUCACAO_INDIGENA: string (nullable = true)\n",
      " |-- TP_INDIGENA_LINGUA: string (nullable = true)\n",
      " |-- CO_LINGUA_INDIGENA_1: string (nullable = true)\n",
      " |-- CO_LINGUA_INDIGENA_2: string (nullable = true)\n",
      " |-- CO_LINGUA_INDIGENA_3: string (nullable = true)\n",
      " |-- IN_EXAME_SELECAO: string (nullable = true)\n",
      " |-- IN_RESERVA_PPI: string (nullable = true)\n",
      " |-- IN_RESERVA_RENDA: string (nullable = true)\n",
      " |-- IN_RESERVA_PUBLICA: string (nullable = true)\n",
      " |-- IN_RESERVA_PCD: string (nullable = true)\n",
      " |-- IN_RESERVA_OUTROS: string (nullable = true)\n",
      " |-- IN_RESERVA_NENHUMA: string (nullable = true)\n",
      " |-- IN_REDES_SOCIAIS: string (nullable = true)\n",
      " |-- IN_ESPACO_ATIVIDADE: string (nullable = true)\n",
      " |-- IN_ESPACO_EQUIPAMENTO: string (nullable = true)\n",
      " |-- IN_ORGAO_ASS_PAIS: string (nullable = true)\n",
      " |-- IN_ORGAO_ASS_PAIS_MESTRES: string (nullable = true)\n",
      " |-- IN_ORGAO_CONSELHO_ESCOLAR: string (nullable = true)\n",
      " |-- IN_ORGAO_GREMIO_ESTUDANTIL: string (nullable = true)\n",
      " |-- IN_ORGAO_OUTROS: string (nullable = true)\n",
      " |-- IN_ORGAO_NENHUM: string (nullable = true)\n",
      " |-- TP_PROPOSTA_PEDAGOGICA: string (nullable = true)\n",
      " |-- TP_AEE: string (nullable = true)\n",
      " |-- TP_ATIVIDADE_COMPLEMENTAR: string (nullable = true)\n",
      " |-- IN_MEDIACAO_PRESENCIAL: string (nullable = true)\n",
      " |-- IN_MEDIACAO_SEMIPRESENCIAL: string (nullable = true)\n",
      " |-- IN_MEDIACAO_EAD: string (nullable = true)\n",
      " |-- IN_REGULAR: string (nullable = true)\n",
      " |-- IN_DIURNO: string (nullable = true)\n",
      " |-- IN_NOTURNO: string (nullable = true)\n",
      " |-- IN_EAD: string (nullable = true)\n",
      " |-- IN_ESCOLARIZACAO: string (nullable = true)\n",
      " |-- IN_INF: string (nullable = true)\n",
      " |-- IN_INF_CRE: string (nullable = true)\n",
      " |-- IN_INF_PRE: string (nullable = true)\n",
      " |-- IN_FUND: string (nullable = true)\n",
      " |-- IN_FUND_AI: string (nullable = true)\n",
      " |-- IN_FUND_AF: string (nullable = true)\n",
      " |-- IN_MED: string (nullable = true)\n",
      " |-- IN_PROF: string (nullable = true)\n",
      " |-- IN_PROF_TEC: string (nullable = true)\n",
      " |-- IN_EJA: string (nullable = true)\n",
      " |-- IN_EJA_FUND: string (nullable = true)\n",
      " |-- IN_EJA_MED: string (nullable = true)\n",
      " |-- IN_ESP: string (nullable = true)\n",
      " |-- IN_ESP_CC: string (nullable = true)\n",
      " |-- IN_ESP_CE: string (nullable = true)\n",
      " |-- QT_MAT_BAS: string (nullable = true)\n",
      " |-- QT_MAT_INF: string (nullable = true)\n",
      " |-- QT_MAT_INF_CRE: string (nullable = true)\n",
      " |-- QT_MAT_INF_PRE: string (nullable = true)\n",
      " |-- QT_MAT_FUND: string (nullable = true)\n",
      " |-- QT_MAT_FUND_AI: string (nullable = true)\n",
      " |-- QT_MAT_FUND_AI_1: string (nullable = true)\n",
      " |-- QT_MAT_FUND_AI_2: string (nullable = true)\n",
      " |-- QT_MAT_FUND_AI_3: string (nullable = true)\n",
      " |-- QT_MAT_FUND_AI_4: string (nullable = true)\n",
      " |-- QT_MAT_FUND_AI_5: string (nullable = true)\n",
      " |-- QT_MAT_FUND_AF: string (nullable = true)\n",
      " |-- QT_MAT_FUND_AF_6: string (nullable = true)\n",
      " |-- QT_MAT_FUND_AF_7: string (nullable = true)\n",
      " |-- QT_MAT_FUND_AF_8: string (nullable = true)\n",
      " |-- QT_MAT_FUND_AF_9: string (nullable = true)\n",
      " |-- QT_MAT_MED: string (nullable = true)\n",
      " |-- QT_MAT_MED_PROP: string (nullable = true)\n",
      " |-- QT_MAT_MED_PROP_1: string (nullable = true)\n",
      " |-- QT_MAT_MED_PROP_2: string (nullable = true)\n",
      " |-- QT_MAT_MED_PROP_3: string (nullable = true)\n",
      " |-- QT_MAT_MED_PROP_4: string (nullable = true)\n",
      " |-- QT_MAT_MED_PROP_NS: string (nullable = true)\n",
      " |-- QT_MAT_MED_CT: string (nullable = true)\n",
      " |-- QT_MAT_MED_CT_1: string (nullable = true)\n",
      " |-- QT_MAT_MED_CT_2: string (nullable = true)\n",
      " |-- QT_MAT_MED_CT_3: string (nullable = true)\n",
      " |-- QT_MAT_MED_CT_4: string (nullable = true)\n",
      " |-- QT_MAT_MED_CT_NS: string (nullable = true)\n",
      " |-- QT_MAT_MED_NM: string (nullable = true)\n",
      " |-- QT_MAT_MED_NM_1: string (nullable = true)\n",
      " |-- QT_MAT_MED_NM_2: string (nullable = true)\n",
      " |-- QT_MAT_MED_NM_3: string (nullable = true)\n",
      " |-- QT_MAT_MED_NM_4: string (nullable = true)\n",
      " |-- QT_MAT_PROF: string (nullable = true)\n",
      " |-- QT_MAT_PROF_TEC: string (nullable = true)\n",
      " |-- QT_MAT_PROF_TEC_CONC: string (nullable = true)\n",
      " |-- QT_MAT_PROF_TEC_SUBS: string (nullable = true)\n",
      " |-- QT_MAT_PROF_FIC_CONC: string (nullable = true)\n",
      " |-- QT_MAT_EJA: string (nullable = true)\n",
      " |-- QT_MAT_EJA_FUND: string (nullable = true)\n",
      " |-- QT_MAT_EJA_FUND_AI: string (nullable = true)\n",
      " |-- QT_MAT_EJA_FUND_AF: string (nullable = true)\n",
      " |-- QT_MAT_EJA_FUND_FIC: string (nullable = true)\n",
      " |-- QT_MAT_EJA_MED: string (nullable = true)\n",
      " |-- QT_MAT_EJA_MED_NPROF: string (nullable = true)\n",
      " |-- QT_MAT_EJA_MED_FIC: string (nullable = true)\n",
      " |-- QT_MAT_EJA_MED_TEC: string (nullable = true)\n",
      " |-- QT_MAT_ESP: string (nullable = true)\n",
      " |-- QT_MAT_ESP_CC: string (nullable = true)\n",
      " |-- QT_MAT_ESP_CE: string (nullable = true)\n",
      " |-- QT_MAT_BAS_FEM: string (nullable = true)\n",
      " |-- QT_MAT_BAS_MASC: string (nullable = true)\n",
      " |-- QT_MAT_BAS_ND: string (nullable = true)\n",
      " |-- QT_MAT_BAS_BRANCA: string (nullable = true)\n",
      " |-- QT_MAT_BAS_PRETA: string (nullable = true)\n",
      " |-- QT_MAT_BAS_PARDA: string (nullable = true)\n",
      " |-- QT_MAT_BAS_AMARELA: string (nullable = true)\n",
      " |-- QT_MAT_BAS_INDIGENA: string (nullable = true)\n",
      " |-- QT_MAT_BAS_0_3: string (nullable = true)\n",
      " |-- QT_MAT_BAS_4_5: string (nullable = true)\n",
      " |-- QT_MAT_BAS_6_10: string (nullable = true)\n",
      " |-- QT_MAT_BAS_11_14: string (nullable = true)\n",
      " |-- QT_MAT_BAS_15_17: string (nullable = true)\n",
      " |-- QT_MAT_BAS_18_MAIS: string (nullable = true)\n",
      " |-- QT_MAT_BAS_D: string (nullable = true)\n",
      " |-- QT_MAT_BAS_N: string (nullable = true)\n",
      " |-- QT_MAT_BAS_EAD: string (nullable = true)\n",
      " |-- QT_MAT_INF_INT: string (nullable = true)\n",
      " |-- QT_MAT_INF_CRE_INT: string (nullable = true)\n",
      " |-- QT_MAT_INF_PRE_INT: string (nullable = true)\n",
      " |-- QT_MAT_FUND_INT: string (nullable = true)\n",
      " |-- QT_MAT_FUND_AI_INT: string (nullable = true)\n",
      " |-- QT_MAT_FUND_AF_INT: string (nullable = true)\n",
      " |-- QT_MAT_MED_INT: string (nullable = true)\n",
      " |-- QT_MAT_ZR_URB: string (nullable = true)\n",
      " |-- QT_MAT_ZR_RUR: string (nullable = true)\n",
      " |-- QT_MAT_ZR_NA: string (nullable = true)\n",
      " |-- QT_TRANSP_PUBLICO: string (nullable = true)\n",
      " |-- QT_TRANSP_RESP_EST: string (nullable = true)\n",
      " |-- QT_TRANSP_RESP_MUN: string (nullable = true)\n",
      " |-- QT_DOC_BAS: string (nullable = true)\n",
      " |-- QT_DOC_INF: string (nullable = true)\n",
      " |-- QT_DOC_INF_CRE: string (nullable = true)\n",
      " |-- QT_DOC_INF_PRE: string (nullable = true)\n",
      " |-- QT_DOC_FUND: string (nullable = true)\n",
      " |-- QT_DOC_FUND_AI: string (nullable = true)\n",
      " |-- QT_DOC_FUND_AF: string (nullable = true)\n",
      " |-- QT_DOC_MED: string (nullable = true)\n",
      " |-- QT_DOC_PROF: string (nullable = true)\n",
      " |-- QT_DOC_PROF_TEC: string (nullable = true)\n",
      " |-- QT_DOC_EJA: string (nullable = true)\n",
      " |-- QT_DOC_EJA_FUND: string (nullable = true)\n",
      " |-- QT_DOC_EJA_MED: string (nullable = true)\n",
      " |-- QT_DOC_ESP: string (nullable = true)\n",
      " |-- QT_DOC_ESP_CC: string (nullable = true)\n",
      " |-- QT_DOC_ESP_CE: string (nullable = true)\n",
      " |-- QT_TUR_BAS: string (nullable = true)\n",
      " |-- QT_TUR_INF: string (nullable = true)\n",
      " |-- QT_TUR_INF_CRE: string (nullable = true)\n",
      " |-- QT_TUR_INF_PRE: string (nullable = true)\n",
      " |-- QT_TUR_FUND: string (nullable = true)\n",
      " |-- QT_TUR_FUND_AI: string (nullable = true)\n",
      " |-- QT_TUR_FUND_AF: string (nullable = true)\n",
      " |-- QT_TUR_MED: string (nullable = true)\n",
      " |-- QT_TUR_PROF: string (nullable = true)\n",
      " |-- QT_TUR_PROF_TEC: string (nullable = true)\n",
      " |-- QT_TUR_EJA: string (nullable = true)\n",
      " |-- QT_TUR_EJA_FUND: string (nullable = true)\n",
      " |-- QT_TUR_EJA_MED: string (nullable = true)\n",
      " |-- QT_TUR_ESP: string (nullable = true)\n",
      " |-- QT_TUR_ESP_CC: string (nullable = true)\n",
      " |-- QT_TUR_ESP_CE: string (nullable = true)\n",
      " |-- QT_TUR_BAS_D: string (nullable = true)\n",
      " |-- QT_TUR_BAS_N: string (nullable = true)\n",
      " |-- QT_TUR_BAS_EAD: string (nullable = true)\n",
      " |-- QT_TUR_INF_INT: string (nullable = true)\n",
      " |-- QT_TUR_INF_CRE_INT: string (nullable = true)\n",
      " |-- QT_TUR_INF_PRE_INT: string (nullable = true)\n",
      " |-- QT_TUR_FUND_INT: string (nullable = true)\n",
      " |-- QT_TUR_FUND_AI_INT: string (nullable = true)\n",
      " |-- QT_TUR_FUND_AF_INT: string (nullable = true)\n",
      " |-- QT_TUR_MED_INT: string (nullable = true)\n",
      "\n"
     ]
    },
    {
     "name": "stderr",
     "output_type": "stream",
     "text": [
      "\r",
      "                                                                                \r"
     ]
    }
   ],
   "source": [
    "pessoal.completudeSchema(censo)"
   ]
  },
  {
   "cell_type": "markdown",
   "id": "afc8e402",
   "metadata": {},
   "source": [
    "#### Criação de um identificador unico"
   ]
  },
  {
   "cell_type": "code",
   "execution_count": 3,
   "id": "f4b9ff0c",
   "metadata": {},
   "outputs": [
    {
     "name": "stderr",
     "output_type": "stream",
     "text": [
      "[Stage 4:>                                                          (0 + 1) / 1]\r"
     ]
    },
    {
     "name": "stdout",
     "output_type": "stream",
     "text": [
      "+-------------+-------------+\n",
      "|min(ID_UNICO)|max(ID_UNICO)|\n",
      "+-------------+-------------+\n",
      "|            1|       217625|\n",
      "+-------------+-------------+\n",
      "\n"
     ]
    },
    {
     "name": "stderr",
     "output_type": "stream",
     "text": [
      "\r",
      "                                                                                \r"
     ]
    }
   ],
   "source": [
    "censo = createId(censo, 'ID_UNICO')\n",
    "censo.select(F.min(F.col('ID_UNICO')), F.max(F.col('ID_UNICO'))).show()"
   ]
  },
  {
   "cell_type": "markdown",
   "id": "bb95d006",
   "metadata": {},
   "source": [
    "#### Escolha de variáveis"
   ]
  },
  {
   "cell_type": "code",
   "execution_count": 4,
   "id": "d994f292",
   "metadata": {},
   "outputs": [
    {
     "name": "stderr",
     "output_type": "stream",
     "text": [
      "                                                                                \r"
     ]
    },
    {
     "name": "stdout",
     "output_type": "stream",
     "text": [
      "Qtd. registros: 19611 | Quantidade de colunas:  14\n",
      "ID_UNICO\n"
     ]
    },
    {
     "name": "stderr",
     "output_type": "stream",
     "text": [
      "                                                                                \r"
     ]
    },
    {
     "name": "stdout",
     "output_type": "stream",
     "text": [
      "+--------+-----+\n",
      "|ID_UNICO|count|\n",
      "+--------+-----+\n",
      "|   82236|    1|\n",
      "|   82237|    1|\n",
      "|   82238|    1|\n",
      "|   82239|    1|\n",
      "|   82240|    1|\n",
      "|   82241|    1|\n",
      "|   82242|    1|\n",
      "|   82243|    1|\n",
      "|   82244|    1|\n",
      "|   82245|    1|\n",
      "|   82246|    1|\n",
      "|   82247|    1|\n",
      "|   82248|    1|\n",
      "|   82249|    1|\n",
      "|   82250|    1|\n",
      "|   82251|    1|\n",
      "|   82252|    1|\n",
      "|   82253|    1|\n",
      "|   82254|    1|\n",
      "|   82255|    1|\n",
      "+--------+-----+\n",
      "only showing top 20 rows\n",
      "\n",
      "NO_REGIAO\n"
     ]
    },
    {
     "name": "stderr",
     "output_type": "stream",
     "text": [
      "                                                                                \r"
     ]
    },
    {
     "name": "stdout",
     "output_type": "stream",
     "text": [
      "+---------+-----+\n",
      "|NO_REGIAO|count|\n",
      "+---------+-----+\n",
      "| Nordeste|19611|\n",
      "+---------+-----+\n",
      "\n",
      "SG_UF\n"
     ]
    },
    {
     "name": "stderr",
     "output_type": "stream",
     "text": [
      "                                                                                \r"
     ]
    },
    {
     "name": "stdout",
     "output_type": "stream",
     "text": [
      "+-----+-----+\n",
      "|SG_UF|count|\n",
      "+-----+-----+\n",
      "|   BA|19611|\n",
      "+-----+-----+\n",
      "\n",
      "NO_MUNICIPIO\n"
     ]
    },
    {
     "name": "stderr",
     "output_type": "stream",
     "text": [
      "                                                                                \r"
     ]
    },
    {
     "name": "stdout",
     "output_type": "stream",
     "text": [
      "+-----------------+-----+\n",
      "|     NO_MUNICIPIO|count|\n",
      "+-----------------+-----+\n",
      "|            Abaré|   45|\n",
      "|           Abaíra|    8|\n",
      "|        Acajutiba|   32|\n",
      "|         Adustina|   11|\n",
      "|          Aiquara|    8|\n",
      "|       Alagoinhas|  159|\n",
      "|         Alcobaça|   44|\n",
      "|         Almadina|   24|\n",
      "|         Amargosa|   51|\n",
      "| Amélia Rodrigues|   31|\n",
      "|  América Dourada|   32|\n",
      "|            Anagé|   50|\n",
      "|          Andaraí|   29|\n",
      "|        Andorinha|   34|\n",
      "|          Angical|   35|\n",
      "|          Anguera|   34|\n",
      "|            Antas|   23|\n",
      "|  Antônio Cardoso|   39|\n",
      "|Antônio Gonçalves|   28|\n",
      "|            Aporá|   29|\n",
      "+-----------------+-----+\n",
      "only showing top 20 rows\n",
      "\n",
      "NO_ENTIDADE\n"
     ]
    },
    {
     "name": "stderr",
     "output_type": "stream",
     "text": [
      "                                                                                \r"
     ]
    },
    {
     "name": "stdout",
     "output_type": "stream",
     "text": [
      "+--------------------+-----+\n",
      "|         NO_ENTIDADE|count|\n",
      "+--------------------+-----+\n",
      "|1 G S FRANCISCO D...|    1|\n",
      "|29092191 - COLEGI...|    1|\n",
      "|A CASA AMARELA ES...|    1|\n",
      "|A F - CRECHE E ES...|    1|\n",
      "|     AABB COMUNIDADE|    2|\n",
      "|AAC DE PRAIA DO F...|    1|\n",
      "|ABA - AMANDO BRIN...|    1|\n",
      "|ABC SEMEANDO A ES...|    1|\n",
      "|      ABDON CALDEIRA|    1|\n",
      "|ABRACE - ASSOCIAC...|    1|\n",
      "|AC CENTRO EDUCACI...|    1|\n",
      "|ACBEU MAPLE BEAR ...|    1|\n",
      "|ADELIA MARIA SALV...|    1|\n",
      "|ADELINA BORGES DE...|    1|\n",
      "|ADELINO DE SOUZA ...|    1|\n",
      "|ADILELMO MARCELIN...|    1|\n",
      "|      AGENOR BRITO I|    1|\n",
      "|          AGROVILA I|    1|\n",
      "|AHPIC CRECHE ESPE...|    1|\n",
      "|ALBERTO MATEUS AM...|    1|\n",
      "+--------------------+-----+\n",
      "only showing top 20 rows\n",
      "\n",
      "TP_DEPENDENCIA\n"
     ]
    },
    {
     "name": "stderr",
     "output_type": "stream",
     "text": [
      "                                                                                \r"
     ]
    },
    {
     "name": "stdout",
     "output_type": "stream",
     "text": [
      "+--------------+-----+\n",
      "|TP_DEPENDENCIA|count|\n",
      "+--------------+-----+\n",
      "|             1|   37|\n",
      "|             2| 1137|\n",
      "|             3|15175|\n",
      "|             4| 3262|\n",
      "+--------------+-----+\n",
      "\n",
      "TP_LOCALIZACAO\n"
     ]
    },
    {
     "name": "stderr",
     "output_type": "stream",
     "text": [
      "                                                                                \r"
     ]
    },
    {
     "name": "stdout",
     "output_type": "stream",
     "text": [
      "+--------------+-----+\n",
      "|TP_LOCALIZACAO|count|\n",
      "+--------------+-----+\n",
      "|             1| 9467|\n",
      "|             2|10144|\n",
      "+--------------+-----+\n",
      "\n",
      "TP_LOCALIZACAO_DIFERENCIADA\n"
     ]
    },
    {
     "name": "stderr",
     "output_type": "stream",
     "text": [
      "                                                                                \r"
     ]
    },
    {
     "name": "stdout",
     "output_type": "stream",
     "text": [
      "+---------------------------+-----+\n",
      "|TP_LOCALIZACAO_DIFERENCIADA|count|\n",
      "+---------------------------+-----+\n",
      "|                       null| 3574|\n",
      "|                          0|14987|\n",
      "|                          1|  287|\n",
      "|                          2|   69|\n",
      "|                          3|  622|\n",
      "|                          8|   72|\n",
      "+---------------------------+-----+\n",
      "\n",
      "TP_SITUACAO_FUNCIONAMENTO\n"
     ]
    },
    {
     "name": "stderr",
     "output_type": "stream",
     "text": [
      "                                                                                \r"
     ]
    },
    {
     "name": "stdout",
     "output_type": "stream",
     "text": [
      "+-------------------------+-----+\n",
      "|TP_SITUACAO_FUNCIONAMENTO|count|\n",
      "+-------------------------+-----+\n",
      "|                        1|16037|\n",
      "|                        2| 3219|\n",
      "|                        3|  355|\n",
      "+-------------------------+-----+\n",
      "\n",
      "IN_INTERNET\n"
     ]
    },
    {
     "name": "stderr",
     "output_type": "stream",
     "text": [
      "                                                                                \r"
     ]
    },
    {
     "name": "stdout",
     "output_type": "stream",
     "text": [
      "+-----------+-----+\n",
      "|IN_INTERNET|count|\n",
      "+-----------+-----+\n",
      "|       null| 3574|\n",
      "|          0| 1601|\n",
      "|          1|14436|\n",
      "+-----------+-----+\n",
      "\n",
      "IN_INTERNET_ALUNOS\n"
     ]
    },
    {
     "name": "stderr",
     "output_type": "stream",
     "text": [
      "                                                                                \r"
     ]
    },
    {
     "name": "stdout",
     "output_type": "stream",
     "text": [
      "+------------------+-----+\n",
      "|IN_INTERNET_ALUNOS|count|\n",
      "+------------------+-----+\n",
      "|              null| 3574|\n",
      "|                 0|10867|\n",
      "|                 1| 5170|\n",
      "+------------------+-----+\n",
      "\n",
      "IN_ALIMENTACAO\n"
     ]
    },
    {
     "name": "stderr",
     "output_type": "stream",
     "text": [
      "                                                                                \r"
     ]
    },
    {
     "name": "stdout",
     "output_type": "stream",
     "text": [
      "+--------------+-----+\n",
      "|IN_ALIMENTACAO|count|\n",
      "+--------------+-----+\n",
      "|          null| 3574|\n",
      "|             0| 2333|\n",
      "|             1|13704|\n",
      "+--------------+-----+\n",
      "\n",
      "IN_EDUCACAO_INDIGENA\n"
     ]
    },
    {
     "name": "stderr",
     "output_type": "stream",
     "text": [
      "                                                                                \r"
     ]
    },
    {
     "name": "stdout",
     "output_type": "stream",
     "text": [
      "+--------------------+-----+\n",
      "|IN_EDUCACAO_INDIGENA|count|\n",
      "+--------------------+-----+\n",
      "|                null| 3574|\n",
      "|                   0|15960|\n",
      "|                   1|   77|\n",
      "+--------------------+-----+\n",
      "\n",
      "TP_INDIGENA_LINGUA\n"
     ]
    },
    {
     "name": "stderr",
     "output_type": "stream",
     "text": [
      "\r",
      "[Stage 49:>                                                         (0 + 1) / 1]\r"
     ]
    },
    {
     "name": "stdout",
     "output_type": "stream",
     "text": [
      "+------------------+-----+\n",
      "|TP_INDIGENA_LINGUA|count|\n",
      "+------------------+-----+\n",
      "|              null|19534|\n",
      "|                 2|   38|\n",
      "|                 3|   39|\n",
      "+------------------+-----+\n",
      "\n",
      "Tempo de execucao: 0:01:15.051769\n"
     ]
    },
    {
     "name": "stderr",
     "output_type": "stream",
     "text": [
      "\r",
      "                                                                                \r"
     ]
    }
   ],
   "source": [
    "analise2 = censo.select('ID_UNICO', 'NO_REGIAO', 'SG_UF', 'NO_MUNICIPIO', 'NO_ENTIDADE', 'TP_DEPENDENCIA', 'TP_LOCALIZACAO', 'TP_LOCALIZACAO_DIFERENCIADA', 'TP_SITUACAO_FUNCIONAMENTO', 'IN_INTERNET', 'IN_INTERNET_ALUNOS', 'IN_ALIMENTACAO', 'IN_EDUCACAO_INDIGENA', 'TP_INDIGENA_LINGUA')\n",
    "analise2 = analise2.filter(F.col('SG_UF') == 'BA')\n",
    "completude(analise2)\n",
    "\n",
    "for col in analise2.columns:\n",
    "    print(col)\n",
    "    analise2.groupBy(col).count().orderBy(F.col(col).asc()).show()\n",
    "printTimer()"
   ]
  },
  {
   "cell_type": "markdown",
   "id": "c845cf54",
   "metadata": {},
   "source": [
    "#### Tratamento das variáveis\n",
    "\n",
    "- Remoção de numerações no nome da escola\n",
    "- Transformando numerações em categorias"
   ]
  },
  {
   "cell_type": "code",
   "execution_count": 5,
   "id": "b8ab385e",
   "metadata": {},
   "outputs": [
    {
     "name": "stderr",
     "output_type": "stream",
     "text": [
      "                                                                                \r"
     ]
    },
    {
     "name": "stdout",
     "output_type": "stream",
     "text": [
      "Quantidade de registros que iniciam com numerações que não fazem parte do nome:  1\n"
     ]
    },
    {
     "name": "stderr",
     "output_type": "stream",
     "text": [
      "\r",
      "[Stage 55:>                                                         (0 + 1) / 1]\r"
     ]
    },
    {
     "name": "stdout",
     "output_type": "stream",
     "text": [
      "+-------------------------------------------------------+\n",
      "|NO_ENTIDADE                                            |\n",
      "+-------------------------------------------------------+\n",
      "|29092191 - COLEGIO ESTADUAL DOM PEDRO II TEMPO INTEGRAL|\n",
      "+-------------------------------------------------------+\n",
      "\n"
     ]
    },
    {
     "name": "stderr",
     "output_type": "stream",
     "text": [
      "\r",
      "                                                                                \r"
     ]
    }
   ],
   "source": [
    "print('Quantidade de registros que iniciam com numerações que não fazem parte do nome: ', analise2.filter(F.col(\"NO_ENTIDADE\").rlike(\"^(\\d+\\.?){3,}\")).count())\n",
    "\n",
    "analise2.filter(F.col(\"NO_ENTIDADE\").rlike(\"^(\\d+\\.?){3,}\")).select(\"NO_ENTIDADE\").show(truncate=False)"
   ]
  },
  {
   "cell_type": "code",
   "execution_count": 8,
   "id": "66c6b354",
   "metadata": {},
   "outputs": [
    {
     "name": "stdout",
     "output_type": "stream",
     "text": [
      "Validando as modificações: \n"
     ]
    },
    {
     "name": "stderr",
     "output_type": "stream",
     "text": [
      "\r",
      "[Stage 56:>                                                         (0 + 1) / 1]\r"
     ]
    },
    {
     "name": "stdout",
     "output_type": "stream",
     "text": [
      "+-------------------------------------------------------+--------------------------------------------+\n",
      "|NO_ENTIDADE                                            |NOME_ENTIDADE                               |\n",
      "+-------------------------------------------------------+--------------------------------------------+\n",
      "|29092191 - COLEGIO ESTADUAL DOM PEDRO II TEMPO INTEGRAL|COLEGIO ESTADUAL DOM PEDRO II TEMPO INTEGRAL|\n",
      "+-------------------------------------------------------+--------------------------------------------+\n",
      "\n"
     ]
    },
    {
     "name": "stderr",
     "output_type": "stream",
     "text": [
      "\r",
      "                                                                                \r"
     ]
    }
   ],
   "source": [
    "# substituição das numerações por vázio\n",
    "analise2 = analise2.withColumn(\"NOME_ENTIDADE\", F.regexp_replace(F.col(\"NO_ENTIDADE\"), \"^(\\d+\\.?){3,} (- )?\", ''))\n",
    "\n",
    "print('Validando as modificações: ')\n",
    "analise2.filter(F.col(\"NO_ENTIDADE\").rlike(\"^(\\d+\\.?){3,}\")).select(\"NO_ENTIDADE\", \"NOME_ENTIDADE\").show(truncate=False)\n",
    "\n",
    "#removendo a variável anterior\n",
    "analise2 = analise2.drop('NO_ENTIDADE')"
   ]
  },
  {
   "cell_type": "markdown",
   "id": "0a6b4e3d",
   "metadata": {},
   "source": [
    "#### Criação e aplicação de dicionário"
   ]
  },
  {
   "cell_type": "code",
   "execution_count": 9,
   "id": "0bc30448",
   "metadata": {},
   "outputs": [],
   "source": [
    "from pyspark.sql import functions as F\n",
    "from itertools import chain\n",
    "\n",
    "mapas = {\n",
    "    \"TP_DEPENDENCIA\" : {1: \"Federal\", 2: \"Estadual\", 3: \"Municipal\", 4: \"Privada\"},\n",
    "    \"TP_LOCALIZACAO\" : {1: \"Urbana\", 2: \"Rural\"},\n",
    "    \"TP_LOCALIZACAO_DIFERENCIADA\" : {0: \"Não se aplica\", 1: \"Área de assentamento\", 2: \"Terra índigena\", 3: \"comunidade remanescente de quilombos\", 4: \"comunidades tradicionais\"},\n",
    "    \"TP_SITUACAO_FUNCIONAMENTO\" : {1: \"Em atividade\", 2: \"Paralisada\", 3: \"Extinta (ano do censo)\", 4: \"Extinta (anos anteriores)\"},\n",
    "    \"IN_INTERNET\" : {0: \"Não\", 1: \"Sim\"},\n",
    "    \"IN_INTERNET_ALUNOS\" : {0: \"Não\", 1: \"Sim\"},\n",
    "    \"IN_ALIMENTACAO\" : {0: \"Não oferece\", 1: \"Oferece\"},\n",
    "    \"IN_EDUCACAO_INDIGENA\" : {0: \"Não\", 1: \"Sim\"},\n",
    "    \"TP_INDIGENA_LINGUA\" : {1: \"Somente em Língua Indígena\", 2: \"Somente em Língua Portuguesa\", 3: \"Língua Indígena e Portuguesa\", 4: \"Não aplicável\"},\n",
    "}"
   ]
  },
  {
   "cell_type": "code",
   "execution_count": 10,
   "id": "2eb35749",
   "metadata": {},
   "outputs": [],
   "source": [
    "analise_final = analise2\n",
    "for col, dic in mapas.items():\n",
    "    mapping_expr = F.create_map([F.lit(x) for x in chain(*dic.items())])\n",
    "    analise_final = analise_final.withColumn(col, mapping_expr[F.col(col)])"
   ]
  },
  {
   "cell_type": "code",
   "execution_count": 11,
   "id": "d861e8bc",
   "metadata": {
    "scrolled": true
   },
   "outputs": [
    {
     "name": "stdout",
     "output_type": "stream",
     "text": [
      "ID_UNICO\n"
     ]
    },
    {
     "name": "stderr",
     "output_type": "stream",
     "text": [
      "                                                                                \r"
     ]
    },
    {
     "name": "stdout",
     "output_type": "stream",
     "text": [
      "+--------+-----+\n",
      "|ID_UNICO|count|\n",
      "+--------+-----+\n",
      "|   82236|    1|\n",
      "|   82237|    1|\n",
      "|   82238|    1|\n",
      "|   82239|    1|\n",
      "|   82240|    1|\n",
      "|   82241|    1|\n",
      "|   82242|    1|\n",
      "|   82243|    1|\n",
      "|   82244|    1|\n",
      "|   82245|    1|\n",
      "|   82246|    1|\n",
      "|   82247|    1|\n",
      "|   82248|    1|\n",
      "|   82249|    1|\n",
      "|   82250|    1|\n",
      "|   82251|    1|\n",
      "|   82252|    1|\n",
      "|   82253|    1|\n",
      "|   82254|    1|\n",
      "|   82255|    1|\n",
      "+--------+-----+\n",
      "only showing top 20 rows\n",
      "\n",
      "NO_REGIAO\n"
     ]
    },
    {
     "name": "stderr",
     "output_type": "stream",
     "text": [
      "                                                                                \r"
     ]
    },
    {
     "name": "stdout",
     "output_type": "stream",
     "text": [
      "+---------+-----+\n",
      "|NO_REGIAO|count|\n",
      "+---------+-----+\n",
      "| Nordeste|19611|\n",
      "+---------+-----+\n",
      "\n",
      "SG_UF\n"
     ]
    },
    {
     "name": "stderr",
     "output_type": "stream",
     "text": [
      "                                                                                \r"
     ]
    },
    {
     "name": "stdout",
     "output_type": "stream",
     "text": [
      "+-----+-----+\n",
      "|SG_UF|count|\n",
      "+-----+-----+\n",
      "|   BA|19611|\n",
      "+-----+-----+\n",
      "\n",
      "NO_MUNICIPIO\n"
     ]
    },
    {
     "name": "stderr",
     "output_type": "stream",
     "text": [
      "                                                                                \r"
     ]
    },
    {
     "name": "stdout",
     "output_type": "stream",
     "text": [
      "+-----------------+-----+\n",
      "|     NO_MUNICIPIO|count|\n",
      "+-----------------+-----+\n",
      "|            Abaré|   45|\n",
      "|           Abaíra|    8|\n",
      "|        Acajutiba|   32|\n",
      "|         Adustina|   11|\n",
      "|          Aiquara|    8|\n",
      "|       Alagoinhas|  159|\n",
      "|         Alcobaça|   44|\n",
      "|         Almadina|   24|\n",
      "|         Amargosa|   51|\n",
      "| Amélia Rodrigues|   31|\n",
      "|  América Dourada|   32|\n",
      "|            Anagé|   50|\n",
      "|          Andaraí|   29|\n",
      "|        Andorinha|   34|\n",
      "|          Angical|   35|\n",
      "|          Anguera|   34|\n",
      "|            Antas|   23|\n",
      "|  Antônio Cardoso|   39|\n",
      "|Antônio Gonçalves|   28|\n",
      "|            Aporá|   29|\n",
      "+-----------------+-----+\n",
      "only showing top 20 rows\n",
      "\n",
      "TP_DEPENDENCIA\n"
     ]
    },
    {
     "name": "stderr",
     "output_type": "stream",
     "text": [
      "                                                                                \r"
     ]
    },
    {
     "name": "stdout",
     "output_type": "stream",
     "text": [
      "+--------------+-----+\n",
      "|TP_DEPENDENCIA|count|\n",
      "+--------------+-----+\n",
      "|      Estadual| 1137|\n",
      "|       Federal|   37|\n",
      "|     Municipal|15175|\n",
      "|       Privada| 3262|\n",
      "+--------------+-----+\n",
      "\n",
      "TP_LOCALIZACAO\n"
     ]
    },
    {
     "name": "stderr",
     "output_type": "stream",
     "text": [
      "                                                                                \r"
     ]
    },
    {
     "name": "stdout",
     "output_type": "stream",
     "text": [
      "+--------------+-----+\n",
      "|TP_LOCALIZACAO|count|\n",
      "+--------------+-----+\n",
      "|         Rural|10144|\n",
      "|        Urbana| 9467|\n",
      "+--------------+-----+\n",
      "\n",
      "TP_LOCALIZACAO_DIFERENCIADA\n"
     ]
    },
    {
     "name": "stderr",
     "output_type": "stream",
     "text": [
      "                                                                                \r"
     ]
    },
    {
     "name": "stdout",
     "output_type": "stream",
     "text": [
      "+---------------------------+-----+\n",
      "|TP_LOCALIZACAO_DIFERENCIADA|count|\n",
      "+---------------------------+-----+\n",
      "|                       null| 3646|\n",
      "|              Não se aplica|14987|\n",
      "|             Terra índigena|   69|\n",
      "|       comunidade remane...|  622|\n",
      "|       Área de assentamento|  287|\n",
      "+---------------------------+-----+\n",
      "\n",
      "TP_SITUACAO_FUNCIONAMENTO\n"
     ]
    },
    {
     "name": "stderr",
     "output_type": "stream",
     "text": [
      "                                                                                \r"
     ]
    },
    {
     "name": "stdout",
     "output_type": "stream",
     "text": [
      "+-------------------------+-----+\n",
      "|TP_SITUACAO_FUNCIONAMENTO|count|\n",
      "+-------------------------+-----+\n",
      "|             Em atividade|16037|\n",
      "|     Extinta (ano do c...|  355|\n",
      "|               Paralisada| 3219|\n",
      "+-------------------------+-----+\n",
      "\n",
      "IN_INTERNET\n"
     ]
    },
    {
     "name": "stderr",
     "output_type": "stream",
     "text": [
      "                                                                                \r"
     ]
    },
    {
     "name": "stdout",
     "output_type": "stream",
     "text": [
      "+-----------+-----+\n",
      "|IN_INTERNET|count|\n",
      "+-----------+-----+\n",
      "|       null| 3574|\n",
      "|        Não| 1601|\n",
      "|        Sim|14436|\n",
      "+-----------+-----+\n",
      "\n",
      "IN_INTERNET_ALUNOS\n"
     ]
    },
    {
     "name": "stderr",
     "output_type": "stream",
     "text": [
      "                                                                                \r"
     ]
    },
    {
     "name": "stdout",
     "output_type": "stream",
     "text": [
      "+------------------+-----+\n",
      "|IN_INTERNET_ALUNOS|count|\n",
      "+------------------+-----+\n",
      "|              null| 3574|\n",
      "|               Não|10867|\n",
      "|               Sim| 5170|\n",
      "+------------------+-----+\n",
      "\n",
      "IN_ALIMENTACAO\n"
     ]
    },
    {
     "name": "stderr",
     "output_type": "stream",
     "text": [
      "                                                                                \r"
     ]
    },
    {
     "name": "stdout",
     "output_type": "stream",
     "text": [
      "+--------------+-----+\n",
      "|IN_ALIMENTACAO|count|\n",
      "+--------------+-----+\n",
      "|          null| 3574|\n",
      "|   Não oferece| 2333|\n",
      "|       Oferece|13704|\n",
      "+--------------+-----+\n",
      "\n",
      "IN_EDUCACAO_INDIGENA\n"
     ]
    },
    {
     "name": "stderr",
     "output_type": "stream",
     "text": [
      "                                                                                \r"
     ]
    },
    {
     "name": "stdout",
     "output_type": "stream",
     "text": [
      "+--------------------+-----+\n",
      "|IN_EDUCACAO_INDIGENA|count|\n",
      "+--------------------+-----+\n",
      "|                null| 3574|\n",
      "|                 Não|15960|\n",
      "|                 Sim|   77|\n",
      "+--------------------+-----+\n",
      "\n",
      "TP_INDIGENA_LINGUA\n"
     ]
    },
    {
     "name": "stderr",
     "output_type": "stream",
     "text": [
      "                                                                                \r"
     ]
    },
    {
     "name": "stdout",
     "output_type": "stream",
     "text": [
      "+--------------------+-----+\n",
      "|  TP_INDIGENA_LINGUA|count|\n",
      "+--------------------+-----+\n",
      "|                null|19534|\n",
      "|Língua Indígena e...|   39|\n",
      "|Somente em Língua...|   38|\n",
      "+--------------------+-----+\n",
      "\n",
      "NOME_ENTIDADE\n"
     ]
    },
    {
     "name": "stderr",
     "output_type": "stream",
     "text": [
      "\r",
      "[Stage 96:>                                                         (0 + 1) / 1]\r"
     ]
    },
    {
     "name": "stdout",
     "output_type": "stream",
     "text": [
      "+--------------------+-----+\n",
      "|       NOME_ENTIDADE|count|\n",
      "+--------------------+-----+\n",
      "|1 G S FRANCISCO D...|    1|\n",
      "|A CASA AMARELA ES...|    1|\n",
      "|A F - CRECHE E ES...|    1|\n",
      "|     AABB COMUNIDADE|    2|\n",
      "|AAC DE PRAIA DO F...|    1|\n",
      "|ABA - AMANDO BRIN...|    1|\n",
      "|ABC SEMEANDO A ES...|    1|\n",
      "|      ABDON CALDEIRA|    1|\n",
      "|ABRACE - ASSOCIAC...|    1|\n",
      "|AC CENTRO EDUCACI...|    1|\n",
      "|ACBEU MAPLE BEAR ...|    1|\n",
      "|ADELIA MARIA SALV...|    1|\n",
      "|ADELINA BORGES DE...|    1|\n",
      "|ADELINO DE SOUZA ...|    1|\n",
      "|ADILELMO MARCELIN...|    1|\n",
      "|      AGENOR BRITO I|    1|\n",
      "|          AGROVILA I|    1|\n",
      "|AHPIC CRECHE ESPE...|    1|\n",
      "|ALBERTO MATEUS AM...|    1|\n",
      "|  ALICE ALVES BORGES|    1|\n",
      "+--------------------+-----+\n",
      "only showing top 20 rows\n",
      "\n"
     ]
    },
    {
     "name": "stderr",
     "output_type": "stream",
     "text": [
      "\r",
      "                                                                                \r"
     ]
    }
   ],
   "source": [
    "for col in analise_final.columns:\n",
    "    print(col)\n",
    "    analise_final.groupBy(col).count().orderBy(F.col(col).asc()).show()"
   ]
  },
  {
   "cell_type": "code",
   "execution_count": 12,
   "id": "626058a9",
   "metadata": {
    "scrolled": true
   },
   "outputs": [
    {
     "name": "stderr",
     "output_type": "stream",
     "text": [
      "\r",
      "[Stage 99:>                                                         (0 + 1) / 1]\r"
     ]
    },
    {
     "name": "stdout",
     "output_type": "stream",
     "text": [
      "Qtd. registros: 19611 | Quantidade de colunas:  14\n",
      "root\n",
      " |-- ID_UNICO: long (nullable = false)\n",
      " |-- NO_REGIAO: string (nullable = true)\n",
      " |-- SG_UF: string (nullable = true)\n",
      " |-- NO_MUNICIPIO: string (nullable = true)\n",
      " |-- TP_DEPENDENCIA: string (nullable = true)\n",
      " |-- TP_LOCALIZACAO: string (nullable = true)\n",
      " |-- TP_LOCALIZACAO_DIFERENCIADA: string (nullable = true)\n",
      " |-- TP_SITUACAO_FUNCIONAMENTO: string (nullable = true)\n",
      " |-- IN_INTERNET: string (nullable = true)\n",
      " |-- IN_INTERNET_ALUNOS: string (nullable = true)\n",
      " |-- IN_ALIMENTACAO: string (nullable = true)\n",
      " |-- IN_EDUCACAO_INDIGENA: string (nullable = true)\n",
      " |-- TP_INDIGENA_LINGUA: string (nullable = true)\n",
      " |-- NO_ENTIDADE: string (nullable = true)\n",
      "\n"
     ]
    },
    {
     "name": "stderr",
     "output_type": "stream",
     "text": [
      "\r",
      "                                                                                \r"
     ]
    }
   ],
   "source": [
    "analise_final = analise_final.withColumnRenamed('NOME_ENTIDADE', 'NO_ENTIDADE')\n",
    "pessoal.completudeSchema(analise_final)"
   ]
  },
  {
   "cell_type": "markdown",
   "id": "a63b7472",
   "metadata": {},
   "source": [
    "#### Escrita"
   ]
  },
  {
   "cell_type": "code",
   "execution_count": 13,
   "id": "defd3a56",
   "metadata": {
    "scrolled": true
   },
   "outputs": [
    {
     "name": "stderr",
     "output_type": "stream",
     "text": [
      "                                                                                \r"
     ]
    },
    {
     "data": {
      "text/plain": [
       "('/home/tatiane/Documentos/censo_escolar2/projeto_2/analise2/analise2.csv',\n",
       " 3.1110839520006266,\n",
       " 3.3340473099997325)"
      ]
     },
     "execution_count": 13,
     "metadata": {},
     "output_type": "execute_result"
    }
   ],
   "source": [
    "writeSingleCsv(analise2, write_path)"
   ]
  },
  {
   "cell_type": "markdown",
   "id": "984f94c5",
   "metadata": {},
   "source": [
    "### Finalização do notebook"
   ]
  },
  {
   "cell_type": "code",
   "execution_count": 14,
   "id": "37ccea25",
   "metadata": {},
   "outputs": [
    {
     "name": "stdout",
     "output_type": "stream",
     "text": [
      "Tempo de execucao ate este ponto: 0:07:41.386482\n"
     ]
    }
   ],
   "source": [
    "executionTime()"
   ]
  },
  {
   "cell_type": "code",
   "execution_count": 16,
   "id": "de11307f",
   "metadata": {},
   "outputs": [],
   "source": [
    "sc.stop()"
   ]
  }
 ],
 "metadata": {
  "kernelspec": {
   "display_name": "Python 3 (ipykernel)",
   "language": "python",
   "name": "python3"
  },
  "language_info": {
   "codemirror_mode": {
    "name": "ipython",
    "version": 3
   },
   "file_extension": ".py",
   "mimetype": "text/x-python",
   "name": "python",
   "nbconvert_exporter": "python",
   "pygments_lexer": "ipython3",
   "version": "3.9.7"
  }
 },
 "nbformat": 4,
 "nbformat_minor": 5
}
