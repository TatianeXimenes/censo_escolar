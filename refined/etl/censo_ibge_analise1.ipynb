{
 "cells": [
  {
   "cell_type": "code",
   "execution_count": 1,
   "id": "c61d3daa",
   "metadata": {},
   "outputs": [
    {
     "name": "stdout",
     "output_type": "stream",
     "text": [
      "Tempo inicial da execucao: 2025-07-01 13:17:36.703817\n",
      "User: tatiane\n",
      "Node: Inspiron-3583\n",
      "AppID:  local-1751386654812\n"
     ]
    }
   ],
   "source": [
    "import sys, os, time, getpass\n",
    "\n",
    "sys.path.append(\"/home/tatiane/lib/\")\n",
    "\n",
    "import pessoal\n",
    "from pessoal import *\n",
    "print('AppID: ', sc.applicationId)\n",
    "\n",
    "# Pedir ao spark para exibir só erros, escondendo avisos (WARN) e infos\n",
    "# O correto é resolver a causa como, por exemplo: ordenados = Window.partitionBy().orderBy(dfs[i].columns[0])\n",
    "spark.sparkContext.setLogLevel(\"ERROR\")"
   ]
  },
  {
   "cell_type": "markdown",
   "id": "75d6ff8b",
   "metadata": {},
   "source": [
    "# Censo escolar 2023"
   ]
  },
  {
   "cell_type": "code",
   "execution_count": 2,
   "id": "35923a71",
   "metadata": {},
   "outputs": [],
   "source": [
    "# Leitura com encoding apropriado para o conteúdo da base\n",
    "censo = spark.read.csv('/home/tatiane/Documentos/censo_escolar2/projeto_2/microdados_censo_escolar_2023/dados/microdados_ed_basica_2023.csv', header = True, multiLine = True, sep = ';', encoding=\"latin1\")\n",
    "write_path = '/home/tatiane/Documentos/censo_escolar2/projeto_2/analise1/'"
   ]
  },
  {
   "cell_type": "code",
   "execution_count": 3,
   "id": "10f0a27d",
   "metadata": {
    "scrolled": true
   },
   "outputs": [
    {
     "name": "stderr",
     "output_type": "stream",
     "text": [
      "\r",
      "[Stage 1:>                                                          (0 + 1) / 1]\r"
     ]
    },
    {
     "name": "stdout",
     "output_type": "stream",
     "text": [
      "Qtd. registros: 217625 | Quantidade de colunas:  408\n",
      "root\n",
      " |-- NU_ANO_CENSO: string (nullable = true)\n",
      " |-- NO_REGIAO: string (nullable = true)\n",
      " |-- CO_REGIAO: string (nullable = true)\n",
      " |-- NO_UF: string (nullable = true)\n",
      " |-- SG_UF: string (nullable = true)\n",
      " |-- CO_UF: string (nullable = true)\n",
      " |-- NO_MUNICIPIO: string (nullable = true)\n",
      " |-- CO_MUNICIPIO: string (nullable = true)\n",
      " |-- NO_REGIAO_GEOG_INTERM: string (nullable = true)\n",
      " |-- CO_REGIAO_GEOG_INTERM: string (nullable = true)\n",
      " |-- NO_REGIAO_GEOG_IMED: string (nullable = true)\n",
      " |-- CO_REGIAO_GEOG_IMED: string (nullable = true)\n",
      " |-- NO_MESORREGIAO: string (nullable = true)\n",
      " |-- CO_MESORREGIAO: string (nullable = true)\n",
      " |-- NO_MICRORREGIAO: string (nullable = true)\n",
      " |-- CO_MICRORREGIAO: string (nullable = true)\n",
      " |-- CO_DISTRITO: string (nullable = true)\n",
      " |-- NO_ENTIDADE: string (nullable = true)\n",
      " |-- CO_ENTIDADE: string (nullable = true)\n",
      " |-- TP_DEPENDENCIA: string (nullable = true)\n",
      " |-- TP_CATEGORIA_ESCOLA_PRIVADA: string (nullable = true)\n",
      " |-- TP_LOCALIZACAO: string (nullable = true)\n",
      " |-- TP_LOCALIZACAO_DIFERENCIADA: string (nullable = true)\n",
      " |-- DS_ENDERECO: string (nullable = true)\n",
      " |-- NU_ENDERECO: string (nullable = true)\n",
      " |-- DS_COMPLEMENTO: string (nullable = true)\n",
      " |-- NO_BAIRRO: string (nullable = true)\n",
      " |-- CO_CEP: string (nullable = true)\n",
      " |-- NU_DDD: string (nullable = true)\n",
      " |-- NU_TELEFONE: string (nullable = true)\n",
      " |-- TP_SITUACAO_FUNCIONAMENTO: string (nullable = true)\n",
      " |-- CO_ORGAO_REGIONAL: string (nullable = true)\n",
      " |-- DT_ANO_LETIVO_INICIO: string (nullable = true)\n",
      " |-- DT_ANO_LETIVO_TERMINO: string (nullable = true)\n",
      " |-- IN_VINCULO_SECRETARIA_EDUCACAO: string (nullable = true)\n",
      " |-- IN_VINCULO_SEGURANCA_PUBLICA: string (nullable = true)\n",
      " |-- IN_VINCULO_SECRETARIA_SAUDE: string (nullable = true)\n",
      " |-- IN_VINCULO_OUTRO_ORGAO: string (nullable = true)\n",
      " |-- IN_PODER_PUBLICO_PARCERIA: string (nullable = true)\n",
      " |-- TP_PODER_PUBLICO_PARCERIA: string (nullable = true)\n",
      " |-- IN_FORMA_CONT_TERMO_COLABORA: string (nullable = true)\n",
      " |-- IN_FORMA_CONT_TERMO_FOMENTO: string (nullable = true)\n",
      " |-- IN_FORMA_CONT_ACORDO_COOP: string (nullable = true)\n",
      " |-- IN_FORMA_CONT_PRESTACAO_SERV: string (nullable = true)\n",
      " |-- IN_FORMA_CONT_COOP_TEC_FIN: string (nullable = true)\n",
      " |-- IN_FORMA_CONT_CONSORCIO_PUB: string (nullable = true)\n",
      " |-- IN_FORMA_CONT_MU_TERMO_COLAB: string (nullable = true)\n",
      " |-- IN_FORMA_CONT_MU_TERMO_FOMENTO: string (nullable = true)\n",
      " |-- IN_FORMA_CONT_MU_ACORDO_COOP: string (nullable = true)\n",
      " |-- IN_FORMA_CONT_MU_PREST_SERV: string (nullable = true)\n",
      " |-- IN_FORMA_CONT_MU_COOP_TEC_FIN: string (nullable = true)\n",
      " |-- IN_FORMA_CONT_MU_CONSORCIO_PUB: string (nullable = true)\n",
      " |-- IN_FORMA_CONT_ES_TERMO_COLAB: string (nullable = true)\n",
      " |-- IN_FORMA_CONT_ES_TERMO_FOMENTO: string (nullable = true)\n",
      " |-- IN_FORMA_CONT_ES_ACORDO_COOP: string (nullable = true)\n",
      " |-- IN_FORMA_CONT_ES_PREST_SERV: string (nullable = true)\n",
      " |-- IN_FORMA_CONT_ES_COOP_TEC_FIN: string (nullable = true)\n",
      " |-- IN_FORMA_CONT_ES_CONSORCIO_PUB: string (nullable = true)\n",
      " |-- IN_MANT_ESCOLA_PRIVADA_EMP: string (nullable = true)\n",
      " |-- IN_MANT_ESCOLA_PRIVADA_ONG: string (nullable = true)\n",
      " |-- IN_MANT_ESCOLA_PRIVADA_OSCIP: string (nullable = true)\n",
      " |-- IN_MANT_ESCOLA_PRIV_ONG_OSCIP: string (nullable = true)\n",
      " |-- IN_MANT_ESCOLA_PRIVADA_SIND: string (nullable = true)\n",
      " |-- IN_MANT_ESCOLA_PRIVADA_SIST_S: string (nullable = true)\n",
      " |-- IN_MANT_ESCOLA_PRIVADA_S_FINS: string (nullable = true)\n",
      " |-- NU_CNPJ_ESCOLA_PRIVADA: string (nullable = true)\n",
      " |-- NU_CNPJ_MANTENEDORA: string (nullable = true)\n",
      " |-- TP_REGULAMENTACAO: string (nullable = true)\n",
      " |-- TP_RESPONSAVEL_REGULAMENTACAO: string (nullable = true)\n",
      " |-- CO_ESCOLA_SEDE_VINCULADA: string (nullable = true)\n",
      " |-- CO_IES_OFERTANTE: string (nullable = true)\n",
      " |-- IN_LOCAL_FUNC_PREDIO_ESCOLAR: string (nullable = true)\n",
      " |-- TP_OCUPACAO_PREDIO_ESCOLAR: string (nullable = true)\n",
      " |-- IN_LOCAL_FUNC_SOCIOEDUCATIVO: string (nullable = true)\n",
      " |-- IN_LOCAL_FUNC_UNID_PRISIONAL: string (nullable = true)\n",
      " |-- IN_LOCAL_FUNC_PRISIONAL_SOCIO: string (nullable = true)\n",
      " |-- IN_LOCAL_FUNC_GALPAO: string (nullable = true)\n",
      " |-- TP_OCUPACAO_GALPAO: string (nullable = true)\n",
      " |-- IN_LOCAL_FUNC_SALAS_OUTRA_ESC: string (nullable = true)\n",
      " |-- IN_LOCAL_FUNC_OUTROS: string (nullable = true)\n",
      " |-- IN_PREDIO_COMPARTILHADO: string (nullable = true)\n",
      " |-- IN_AGUA_POTAVEL: string (nullable = true)\n",
      " |-- IN_AGUA_REDE_PUBLICA: string (nullable = true)\n",
      " |-- IN_AGUA_POCO_ARTESIANO: string (nullable = true)\n",
      " |-- IN_AGUA_CACIMBA: string (nullable = true)\n",
      " |-- IN_AGUA_FONTE_RIO: string (nullable = true)\n",
      " |-- IN_AGUA_INEXISTENTE: string (nullable = true)\n",
      " |-- IN_ENERGIA_REDE_PUBLICA: string (nullable = true)\n",
      " |-- IN_ENERGIA_GERADOR_FOSSIL: string (nullable = true)\n",
      " |-- IN_ENERGIA_RENOVAVEL: string (nullable = true)\n",
      " |-- IN_ENERGIA_INEXISTENTE: string (nullable = true)\n",
      " |-- IN_ESGOTO_REDE_PUBLICA: string (nullable = true)\n",
      " |-- IN_ESGOTO_FOSSA_SEPTICA: string (nullable = true)\n",
      " |-- IN_ESGOTO_FOSSA_COMUM: string (nullable = true)\n",
      " |-- IN_ESGOTO_FOSSA: string (nullable = true)\n",
      " |-- IN_ESGOTO_INEXISTENTE: string (nullable = true)\n",
      " |-- IN_LIXO_SERVICO_COLETA: string (nullable = true)\n",
      " |-- IN_LIXO_QUEIMA: string (nullable = true)\n",
      " |-- IN_LIXO_ENTERRA: string (nullable = true)\n",
      " |-- IN_LIXO_DESTINO_FINAL_PUBLICO: string (nullable = true)\n",
      " |-- IN_LIXO_DESCARTA_OUTRA_AREA: string (nullable = true)\n",
      " |-- IN_TRATAMENTO_LIXO_SEPARACAO: string (nullable = true)\n",
      " |-- IN_TRATAMENTO_LIXO_REUTILIZA: string (nullable = true)\n",
      " |-- IN_TRATAMENTO_LIXO_RECICLAGEM: string (nullable = true)\n",
      " |-- IN_TRATAMENTO_LIXO_INEXISTENTE: string (nullable = true)\n",
      " |-- IN_ALMOXARIFADO: string (nullable = true)\n",
      " |-- IN_AREA_VERDE: string (nullable = true)\n",
      " |-- IN_AUDITORIO: string (nullable = true)\n",
      " |-- IN_BANHEIRO: string (nullable = true)\n",
      " |-- IN_BANHEIRO_EI: string (nullable = true)\n",
      " |-- IN_BANHEIRO_PNE: string (nullable = true)\n",
      " |-- IN_BANHEIRO_FUNCIONARIOS: string (nullable = true)\n",
      " |-- IN_BANHEIRO_CHUVEIRO: string (nullable = true)\n",
      " |-- IN_BIBLIOTECA: string (nullable = true)\n",
      " |-- IN_BIBLIOTECA_SALA_LEITURA: string (nullable = true)\n",
      " |-- IN_COZINHA: string (nullable = true)\n",
      " |-- IN_DESPENSA: string (nullable = true)\n",
      " |-- IN_DORMITORIO_ALUNO: string (nullable = true)\n",
      " |-- IN_DORMITORIO_PROFESSOR: string (nullable = true)\n",
      " |-- IN_LABORATORIO_CIENCIAS: string (nullable = true)\n",
      " |-- IN_LABORATORIO_INFORMATICA: string (nullable = true)\n",
      " |-- IN_LABORATORIO_EDUC_PROF: string (nullable = true)\n",
      " |-- IN_PATIO_COBERTO: string (nullable = true)\n",
      " |-- IN_PATIO_DESCOBERTO: string (nullable = true)\n",
      " |-- IN_PARQUE_INFANTIL: string (nullable = true)\n",
      " |-- IN_PISCINA: string (nullable = true)\n",
      " |-- IN_QUADRA_ESPORTES: string (nullable = true)\n",
      " |-- IN_QUADRA_ESPORTES_COBERTA: string (nullable = true)\n",
      " |-- IN_QUADRA_ESPORTES_DESCOBERTA: string (nullable = true)\n",
      " |-- IN_REFEITORIO: string (nullable = true)\n",
      " |-- IN_SALA_ATELIE_ARTES: string (nullable = true)\n",
      " |-- IN_SALA_MUSICA_CORAL: string (nullable = true)\n",
      " |-- IN_SALA_ESTUDIO_DANCA: string (nullable = true)\n",
      " |-- IN_SALA_MULTIUSO: string (nullable = true)\n",
      " |-- IN_SALA_ESTUDIO_GRAVACAO: string (nullable = true)\n",
      " |-- IN_SALA_OFICINAS_EDUC_PROF: string (nullable = true)\n",
      " |-- IN_SALA_DIRETORIA: string (nullable = true)\n",
      " |-- IN_SALA_LEITURA: string (nullable = true)\n",
      " |-- IN_SALA_PROFESSOR: string (nullable = true)\n",
      " |-- IN_SALA_REPOUSO_ALUNO: string (nullable = true)\n",
      " |-- IN_SECRETARIA: string (nullable = true)\n",
      " |-- IN_SALA_ATENDIMENTO_ESPECIAL: string (nullable = true)\n",
      " |-- IN_TERREIRAO: string (nullable = true)\n",
      " |-- IN_VIVEIRO: string (nullable = true)\n",
      " |-- IN_DEPENDENCIAS_OUTRAS: string (nullable = true)\n",
      " |-- IN_ACESSIBILIDADE_CORRIMAO: string (nullable = true)\n",
      " |-- IN_ACESSIBILIDADE_ELEVADOR: string (nullable = true)\n",
      " |-- IN_ACESSIBILIDADE_PISOS_TATEIS: string (nullable = true)\n",
      " |-- IN_ACESSIBILIDADE_VAO_LIVRE: string (nullable = true)\n",
      " |-- IN_ACESSIBILIDADE_RAMPAS: string (nullable = true)\n",
      " |-- IN_ACESSIBILIDADE_SINAL_SONORO: string (nullable = true)\n",
      " |-- IN_ACESSIBILIDADE_SINAL_TATIL: string (nullable = true)\n",
      " |-- IN_ACESSIBILIDADE_SINAL_VISUAL: string (nullable = true)\n",
      " |-- IN_ACESSIBILIDADE_INEXISTENTE: string (nullable = true)\n",
      " |-- QT_SALAS_UTILIZADAS_DENTRO: string (nullable = true)\n",
      " |-- QT_SALAS_UTILIZADAS_FORA: string (nullable = true)\n",
      " |-- QT_SALAS_UTILIZADAS: string (nullable = true)\n",
      " |-- QT_SALAS_UTILIZA_CLIMATIZADAS: string (nullable = true)\n",
      " |-- QT_SALAS_UTILIZADAS_ACESSIVEIS: string (nullable = true)\n",
      " |-- IN_EQUIP_PARABOLICA: string (nullable = true)\n",
      " |-- IN_COMPUTADOR: string (nullable = true)\n",
      " |-- IN_EQUIP_COPIADORA: string (nullable = true)\n",
      " |-- IN_EQUIP_IMPRESSORA: string (nullable = true)\n",
      " |-- IN_EQUIP_IMPRESSORA_MULT: string (nullable = true)\n",
      " |-- IN_EQUIP_SCANNER: string (nullable = true)\n",
      " |-- IN_EQUIP_NENHUM: string (nullable = true)\n",
      " |-- IN_EQUIP_DVD: string (nullable = true)\n",
      " |-- QT_EQUIP_DVD: string (nullable = true)\n",
      " |-- IN_EQUIP_SOM: string (nullable = true)\n",
      " |-- QT_EQUIP_SOM: string (nullable = true)\n",
      " |-- IN_EQUIP_TV: string (nullable = true)\n",
      " |-- QT_EQUIP_TV: string (nullable = true)\n",
      " |-- IN_EQUIP_LOUSA_DIGITAL: string (nullable = true)\n",
      " |-- QT_EQUIP_LOUSA_DIGITAL: string (nullable = true)\n",
      " |-- IN_EQUIP_MULTIMIDIA: string (nullable = true)\n",
      " |-- QT_EQUIP_MULTIMIDIA: string (nullable = true)\n",
      " |-- IN_DESKTOP_ALUNO: string (nullable = true)\n",
      " |-- QT_DESKTOP_ALUNO: string (nullable = true)\n",
      " |-- IN_COMP_PORTATIL_ALUNO: string (nullable = true)\n",
      " |-- QT_COMP_PORTATIL_ALUNO: string (nullable = true)\n",
      " |-- IN_TABLET_ALUNO: string (nullable = true)\n",
      " |-- QT_TABLET_ALUNO: string (nullable = true)\n",
      " |-- IN_INTERNET: string (nullable = true)\n",
      " |-- IN_INTERNET_ALUNOS: string (nullable = true)\n",
      " |-- IN_INTERNET_ADMINISTRATIVO: string (nullable = true)\n",
      " |-- IN_INTERNET_APRENDIZAGEM: string (nullable = true)\n",
      " |-- IN_INTERNET_COMUNIDADE: string (nullable = true)\n",
      " |-- IN_ACESSO_INTERNET_COMPUTADOR: string (nullable = true)\n",
      " |-- IN_ACES_INTERNET_DISP_PESSOAIS: string (nullable = true)\n",
      " |-- TP_REDE_LOCAL: string (nullable = true)\n",
      " |-- IN_BANDA_LARGA: string (nullable = true)\n",
      " |-- IN_PROF_ADMINISTRATIVOS: string (nullable = true)\n",
      " |-- QT_PROF_ADMINISTRATIVOS: string (nullable = true)\n",
      " |-- IN_PROF_SERVICOS_GERAIS: string (nullable = true)\n",
      " |-- QT_PROF_SERVICOS_GERAIS: string (nullable = true)\n",
      " |-- IN_PROF_BIBLIOTECARIO: string (nullable = true)\n",
      " |-- QT_PROF_BIBLIOTECARIO: string (nullable = true)\n",
      " |-- IN_PROF_SAUDE: string (nullable = true)\n",
      " |-- QT_PROF_SAUDE: string (nullable = true)\n",
      " |-- IN_PROF_COORDENADOR: string (nullable = true)\n",
      " |-- QT_PROF_COORDENADOR: string (nullable = true)\n",
      " |-- IN_PROF_FONAUDIOLOGO: string (nullable = true)\n",
      " |-- QT_PROF_FONAUDIOLOGO: string (nullable = true)\n",
      " |-- IN_PROF_NUTRICIONISTA: string (nullable = true)\n",
      " |-- QT_PROF_NUTRICIONISTA: string (nullable = true)\n",
      " |-- IN_PROF_PSICOLOGO: string (nullable = true)\n",
      " |-- QT_PROF_PSICOLOGO: string (nullable = true)\n",
      " |-- IN_PROF_ALIMENTACAO: string (nullable = true)\n",
      " |-- QT_PROF_ALIMENTACAO: string (nullable = true)\n",
      " |-- IN_PROF_PEDAGOGIA: string (nullable = true)\n",
      " |-- QT_PROF_PEDAGOGIA: string (nullable = true)\n",
      " |-- IN_PROF_SECRETARIO: string (nullable = true)\n",
      " |-- QT_PROF_SECRETARIO: string (nullable = true)\n",
      " |-- IN_PROF_SEGURANCA: string (nullable = true)\n",
      " |-- QT_PROF_SEGURANCA: string (nullable = true)\n",
      " |-- IN_PROF_MONITORES: string (nullable = true)\n",
      " |-- QT_PROF_MONITORES: string (nullable = true)\n",
      " |-- IN_PROF_GESTAO: string (nullable = true)\n",
      " |-- QT_PROF_GESTAO: string (nullable = true)\n",
      " |-- IN_PROF_ASSIST_SOCIAL: string (nullable = true)\n",
      " |-- QT_PROF_ASSIST_SOCIAL: string (nullable = true)\n",
      " |-- IN_PROF_TRAD_LIBRAS: string (nullable = true)\n",
      " |-- QT_PROF_TRAD_LIBRAS: string (nullable = true)\n",
      " |-- IN_ALIMENTACAO: string (nullable = true)\n",
      " |-- IN_MATERIAL_PED_MULTIMIDIA: string (nullable = true)\n",
      " |-- IN_MATERIAL_PED_INFANTIL: string (nullable = true)\n",
      " |-- IN_MATERIAL_PED_CIENTIFICO: string (nullable = true)\n",
      " |-- IN_MATERIAL_PED_DIFUSAO: string (nullable = true)\n",
      " |-- IN_MATERIAL_PED_MUSICAL: string (nullable = true)\n",
      " |-- IN_MATERIAL_PED_JOGOS: string (nullable = true)\n",
      " |-- IN_MATERIAL_PED_ARTISTICAS: string (nullable = true)\n",
      " |-- IN_MATERIAL_PED_PROFISSIONAL: string (nullable = true)\n",
      " |-- IN_MATERIAL_PED_DESPORTIVA: string (nullable = true)\n",
      " |-- IN_MATERIAL_PED_INDIGENA: string (nullable = true)\n",
      " |-- IN_MATERIAL_PED_ETNICO: string (nullable = true)\n",
      " |-- IN_MATERIAL_PED_CAMPO: string (nullable = true)\n",
      " |-- IN_MATERIAL_PED_BIL_SURDOS: string (nullable = true)\n",
      " |-- IN_MATERIAL_PED_NENHUM: string (nullable = true)\n",
      " |-- IN_EDUCACAO_INDIGENA: string (nullable = true)\n",
      " |-- TP_INDIGENA_LINGUA: string (nullable = true)\n",
      " |-- CO_LINGUA_INDIGENA_1: string (nullable = true)\n",
      " |-- CO_LINGUA_INDIGENA_2: string (nullable = true)\n",
      " |-- CO_LINGUA_INDIGENA_3: string (nullable = true)\n",
      " |-- IN_EXAME_SELECAO: string (nullable = true)\n",
      " |-- IN_RESERVA_PPI: string (nullable = true)\n",
      " |-- IN_RESERVA_RENDA: string (nullable = true)\n",
      " |-- IN_RESERVA_PUBLICA: string (nullable = true)\n",
      " |-- IN_RESERVA_PCD: string (nullable = true)\n",
      " |-- IN_RESERVA_OUTROS: string (nullable = true)\n",
      " |-- IN_RESERVA_NENHUMA: string (nullable = true)\n",
      " |-- IN_REDES_SOCIAIS: string (nullable = true)\n",
      " |-- IN_ESPACO_ATIVIDADE: string (nullable = true)\n",
      " |-- IN_ESPACO_EQUIPAMENTO: string (nullable = true)\n",
      " |-- IN_ORGAO_ASS_PAIS: string (nullable = true)\n",
      " |-- IN_ORGAO_ASS_PAIS_MESTRES: string (nullable = true)\n",
      " |-- IN_ORGAO_CONSELHO_ESCOLAR: string (nullable = true)\n",
      " |-- IN_ORGAO_GREMIO_ESTUDANTIL: string (nullable = true)\n",
      " |-- IN_ORGAO_OUTROS: string (nullable = true)\n",
      " |-- IN_ORGAO_NENHUM: string (nullable = true)\n",
      " |-- TP_PROPOSTA_PEDAGOGICA: string (nullable = true)\n",
      " |-- TP_AEE: string (nullable = true)\n",
      " |-- TP_ATIVIDADE_COMPLEMENTAR: string (nullable = true)\n",
      " |-- IN_MEDIACAO_PRESENCIAL: string (nullable = true)\n",
      " |-- IN_MEDIACAO_SEMIPRESENCIAL: string (nullable = true)\n",
      " |-- IN_MEDIACAO_EAD: string (nullable = true)\n",
      " |-- IN_REGULAR: string (nullable = true)\n",
      " |-- IN_DIURNO: string (nullable = true)\n",
      " |-- IN_NOTURNO: string (nullable = true)\n",
      " |-- IN_EAD: string (nullable = true)\n",
      " |-- IN_ESCOLARIZACAO: string (nullable = true)\n",
      " |-- IN_INF: string (nullable = true)\n",
      " |-- IN_INF_CRE: string (nullable = true)\n",
      " |-- IN_INF_PRE: string (nullable = true)\n",
      " |-- IN_FUND: string (nullable = true)\n",
      " |-- IN_FUND_AI: string (nullable = true)\n",
      " |-- IN_FUND_AF: string (nullable = true)\n",
      " |-- IN_MED: string (nullable = true)\n",
      " |-- IN_PROF: string (nullable = true)\n",
      " |-- IN_PROF_TEC: string (nullable = true)\n",
      " |-- IN_EJA: string (nullable = true)\n",
      " |-- IN_EJA_FUND: string (nullable = true)\n",
      " |-- IN_EJA_MED: string (nullable = true)\n",
      " |-- IN_ESP: string (nullable = true)\n",
      " |-- IN_ESP_CC: string (nullable = true)\n",
      " |-- IN_ESP_CE: string (nullable = true)\n",
      " |-- QT_MAT_BAS: string (nullable = true)\n",
      " |-- QT_MAT_INF: string (nullable = true)\n",
      " |-- QT_MAT_INF_CRE: string (nullable = true)\n",
      " |-- QT_MAT_INF_PRE: string (nullable = true)\n",
      " |-- QT_MAT_FUND: string (nullable = true)\n",
      " |-- QT_MAT_FUND_AI: string (nullable = true)\n",
      " |-- QT_MAT_FUND_AI_1: string (nullable = true)\n",
      " |-- QT_MAT_FUND_AI_2: string (nullable = true)\n",
      " |-- QT_MAT_FUND_AI_3: string (nullable = true)\n",
      " |-- QT_MAT_FUND_AI_4: string (nullable = true)\n",
      " |-- QT_MAT_FUND_AI_5: string (nullable = true)\n",
      " |-- QT_MAT_FUND_AF: string (nullable = true)\n",
      " |-- QT_MAT_FUND_AF_6: string (nullable = true)\n",
      " |-- QT_MAT_FUND_AF_7: string (nullable = true)\n",
      " |-- QT_MAT_FUND_AF_8: string (nullable = true)\n",
      " |-- QT_MAT_FUND_AF_9: string (nullable = true)\n",
      " |-- QT_MAT_MED: string (nullable = true)\n",
      " |-- QT_MAT_MED_PROP: string (nullable = true)\n",
      " |-- QT_MAT_MED_PROP_1: string (nullable = true)\n",
      " |-- QT_MAT_MED_PROP_2: string (nullable = true)\n",
      " |-- QT_MAT_MED_PROP_3: string (nullable = true)\n",
      " |-- QT_MAT_MED_PROP_4: string (nullable = true)\n",
      " |-- QT_MAT_MED_PROP_NS: string (nullable = true)\n",
      " |-- QT_MAT_MED_CT: string (nullable = true)\n",
      " |-- QT_MAT_MED_CT_1: string (nullable = true)\n",
      " |-- QT_MAT_MED_CT_2: string (nullable = true)\n",
      " |-- QT_MAT_MED_CT_3: string (nullable = true)\n",
      " |-- QT_MAT_MED_CT_4: string (nullable = true)\n",
      " |-- QT_MAT_MED_CT_NS: string (nullable = true)\n",
      " |-- QT_MAT_MED_NM: string (nullable = true)\n",
      " |-- QT_MAT_MED_NM_1: string (nullable = true)\n",
      " |-- QT_MAT_MED_NM_2: string (nullable = true)\n",
      " |-- QT_MAT_MED_NM_3: string (nullable = true)\n",
      " |-- QT_MAT_MED_NM_4: string (nullable = true)\n",
      " |-- QT_MAT_PROF: string (nullable = true)\n",
      " |-- QT_MAT_PROF_TEC: string (nullable = true)\n",
      " |-- QT_MAT_PROF_TEC_CONC: string (nullable = true)\n",
      " |-- QT_MAT_PROF_TEC_SUBS: string (nullable = true)\n",
      " |-- QT_MAT_PROF_FIC_CONC: string (nullable = true)\n",
      " |-- QT_MAT_EJA: string (nullable = true)\n",
      " |-- QT_MAT_EJA_FUND: string (nullable = true)\n",
      " |-- QT_MAT_EJA_FUND_AI: string (nullable = true)\n",
      " |-- QT_MAT_EJA_FUND_AF: string (nullable = true)\n",
      " |-- QT_MAT_EJA_FUND_FIC: string (nullable = true)\n",
      " |-- QT_MAT_EJA_MED: string (nullable = true)\n",
      " |-- QT_MAT_EJA_MED_NPROF: string (nullable = true)\n",
      " |-- QT_MAT_EJA_MED_FIC: string (nullable = true)\n",
      " |-- QT_MAT_EJA_MED_TEC: string (nullable = true)\n",
      " |-- QT_MAT_ESP: string (nullable = true)\n",
      " |-- QT_MAT_ESP_CC: string (nullable = true)\n",
      " |-- QT_MAT_ESP_CE: string (nullable = true)\n",
      " |-- QT_MAT_BAS_FEM: string (nullable = true)\n",
      " |-- QT_MAT_BAS_MASC: string (nullable = true)\n",
      " |-- QT_MAT_BAS_ND: string (nullable = true)\n",
      " |-- QT_MAT_BAS_BRANCA: string (nullable = true)\n",
      " |-- QT_MAT_BAS_PRETA: string (nullable = true)\n",
      " |-- QT_MAT_BAS_PARDA: string (nullable = true)\n",
      " |-- QT_MAT_BAS_AMARELA: string (nullable = true)\n",
      " |-- QT_MAT_BAS_INDIGENA: string (nullable = true)\n",
      " |-- QT_MAT_BAS_0_3: string (nullable = true)\n",
      " |-- QT_MAT_BAS_4_5: string (nullable = true)\n",
      " |-- QT_MAT_BAS_6_10: string (nullable = true)\n",
      " |-- QT_MAT_BAS_11_14: string (nullable = true)\n",
      " |-- QT_MAT_BAS_15_17: string (nullable = true)\n",
      " |-- QT_MAT_BAS_18_MAIS: string (nullable = true)\n",
      " |-- QT_MAT_BAS_D: string (nullable = true)\n",
      " |-- QT_MAT_BAS_N: string (nullable = true)\n",
      " |-- QT_MAT_BAS_EAD: string (nullable = true)\n",
      " |-- QT_MAT_INF_INT: string (nullable = true)\n",
      " |-- QT_MAT_INF_CRE_INT: string (nullable = true)\n",
      " |-- QT_MAT_INF_PRE_INT: string (nullable = true)\n",
      " |-- QT_MAT_FUND_INT: string (nullable = true)\n",
      " |-- QT_MAT_FUND_AI_INT: string (nullable = true)\n",
      " |-- QT_MAT_FUND_AF_INT: string (nullable = true)\n",
      " |-- QT_MAT_MED_INT: string (nullable = true)\n",
      " |-- QT_MAT_ZR_URB: string (nullable = true)\n",
      " |-- QT_MAT_ZR_RUR: string (nullable = true)\n",
      " |-- QT_MAT_ZR_NA: string (nullable = true)\n",
      " |-- QT_TRANSP_PUBLICO: string (nullable = true)\n",
      " |-- QT_TRANSP_RESP_EST: string (nullable = true)\n",
      " |-- QT_TRANSP_RESP_MUN: string (nullable = true)\n",
      " |-- QT_DOC_BAS: string (nullable = true)\n",
      " |-- QT_DOC_INF: string (nullable = true)\n",
      " |-- QT_DOC_INF_CRE: string (nullable = true)\n",
      " |-- QT_DOC_INF_PRE: string (nullable = true)\n",
      " |-- QT_DOC_FUND: string (nullable = true)\n",
      " |-- QT_DOC_FUND_AI: string (nullable = true)\n",
      " |-- QT_DOC_FUND_AF: string (nullable = true)\n",
      " |-- QT_DOC_MED: string (nullable = true)\n",
      " |-- QT_DOC_PROF: string (nullable = true)\n",
      " |-- QT_DOC_PROF_TEC: string (nullable = true)\n",
      " |-- QT_DOC_EJA: string (nullable = true)\n",
      " |-- QT_DOC_EJA_FUND: string (nullable = true)\n",
      " |-- QT_DOC_EJA_MED: string (nullable = true)\n",
      " |-- QT_DOC_ESP: string (nullable = true)\n",
      " |-- QT_DOC_ESP_CC: string (nullable = true)\n",
      " |-- QT_DOC_ESP_CE: string (nullable = true)\n",
      " |-- QT_TUR_BAS: string (nullable = true)\n",
      " |-- QT_TUR_INF: string (nullable = true)\n",
      " |-- QT_TUR_INF_CRE: string (nullable = true)\n",
      " |-- QT_TUR_INF_PRE: string (nullable = true)\n",
      " |-- QT_TUR_FUND: string (nullable = true)\n",
      " |-- QT_TUR_FUND_AI: string (nullable = true)\n",
      " |-- QT_TUR_FUND_AF: string (nullable = true)\n",
      " |-- QT_TUR_MED: string (nullable = true)\n",
      " |-- QT_TUR_PROF: string (nullable = true)\n",
      " |-- QT_TUR_PROF_TEC: string (nullable = true)\n",
      " |-- QT_TUR_EJA: string (nullable = true)\n",
      " |-- QT_TUR_EJA_FUND: string (nullable = true)\n",
      " |-- QT_TUR_EJA_MED: string (nullable = true)\n",
      " |-- QT_TUR_ESP: string (nullable = true)\n",
      " |-- QT_TUR_ESP_CC: string (nullable = true)\n",
      " |-- QT_TUR_ESP_CE: string (nullable = true)\n",
      " |-- QT_TUR_BAS_D: string (nullable = true)\n",
      " |-- QT_TUR_BAS_N: string (nullable = true)\n",
      " |-- QT_TUR_BAS_EAD: string (nullable = true)\n",
      " |-- QT_TUR_INF_INT: string (nullable = true)\n",
      " |-- QT_TUR_INF_CRE_INT: string (nullable = true)\n",
      " |-- QT_TUR_INF_PRE_INT: string (nullable = true)\n",
      " |-- QT_TUR_FUND_INT: string (nullable = true)\n",
      " |-- QT_TUR_FUND_AI_INT: string (nullable = true)\n",
      " |-- QT_TUR_FUND_AF_INT: string (nullable = true)\n",
      " |-- QT_TUR_MED_INT: string (nullable = true)\n",
      "\n"
     ]
    },
    {
     "name": "stderr",
     "output_type": "stream",
     "text": [
      "\r",
      "                                                                                \r"
     ]
    }
   ],
   "source": [
    "pessoal.completudeSchema(censo)"
   ]
  },
  {
   "cell_type": "markdown",
   "id": "e00eb043",
   "metadata": {},
   "source": [
    "#### Criação de um identificador unico"
   ]
  },
  {
   "cell_type": "code",
   "execution_count": 4,
   "id": "ba348aa4",
   "metadata": {},
   "outputs": [
    {
     "name": "stderr",
     "output_type": "stream",
     "text": [
      "[Stage 7:>                                                          (0 + 1) / 1]\r"
     ]
    },
    {
     "name": "stdout",
     "output_type": "stream",
     "text": [
      "+-------------+-------------+\n",
      "|min(ID_UNICO)|max(ID_UNICO)|\n",
      "+-------------+-------------+\n",
      "|            1|       217625|\n",
      "+-------------+-------------+\n",
      "\n"
     ]
    },
    {
     "name": "stderr",
     "output_type": "stream",
     "text": [
      "\r",
      "                                                                                \r"
     ]
    }
   ],
   "source": [
    "censo = createId(censo, 'ID_UNICO')\n",
    "censo.select(F.min(F.col('ID_UNICO')), F.max(F.col('ID_UNICO'))).show()"
   ]
  },
  {
   "cell_type": "markdown",
   "id": "bb95d006",
   "metadata": {},
   "source": [
    "### Escolha de variáveis"
   ]
  },
  {
   "cell_type": "code",
   "execution_count": 5,
   "id": "d994f292",
   "metadata": {},
   "outputs": [
    {
     "name": "stderr",
     "output_type": "stream",
     "text": [
      "                                                                                \r"
     ]
    },
    {
     "name": "stdout",
     "output_type": "stream",
     "text": [
      "Qtd. registros: 217625 | Quantidade de colunas:  12\n",
      "ID_UNICO\n"
     ]
    },
    {
     "name": "stderr",
     "output_type": "stream",
     "text": [
      "                                                                                \r"
     ]
    },
    {
     "name": "stdout",
     "output_type": "stream",
     "text": [
      "+--------+-----+\n",
      "|ID_UNICO|count|\n",
      "+--------+-----+\n",
      "|       1|    1|\n",
      "|       2|    1|\n",
      "|       3|    1|\n",
      "|       4|    1|\n",
      "|       5|    1|\n",
      "|       6|    1|\n",
      "|       7|    1|\n",
      "|       8|    1|\n",
      "|       9|    1|\n",
      "|      10|    1|\n",
      "|      11|    1|\n",
      "|      12|    1|\n",
      "|      13|    1|\n",
      "|      14|    1|\n",
      "|      15|    1|\n",
      "|      16|    1|\n",
      "|      17|    1|\n",
      "|      18|    1|\n",
      "|      19|    1|\n",
      "|      20|    1|\n",
      "+--------+-----+\n",
      "only showing top 20 rows\n",
      "\n",
      "NO_REGIAO\n"
     ]
    },
    {
     "name": "stderr",
     "output_type": "stream",
     "text": [
      "                                                                                \r"
     ]
    },
    {
     "name": "stdout",
     "output_type": "stream",
     "text": [
      "+------------+-----+\n",
      "|   NO_REGIAO|count|\n",
      "+------------+-----+\n",
      "|Centro-Oeste|11459|\n",
      "|    Nordeste|76348|\n",
      "|       Norte|25498|\n",
      "|     Sudeste|75658|\n",
      "|         Sul|28662|\n",
      "+------------+-----+\n",
      "\n",
      "NO_UF\n"
     ]
    },
    {
     "name": "stderr",
     "output_type": "stream",
     "text": [
      "                                                                                \r"
     ]
    },
    {
     "name": "stdout",
     "output_type": "stream",
     "text": [
      "+-------------------+-----+\n",
      "|              NO_UF|count|\n",
      "+-------------------+-----+\n",
      "|               Acre| 1658|\n",
      "|            Alagoas| 3473|\n",
      "|              Amapá|  950|\n",
      "|           Amazonas| 6148|\n",
      "|              Bahia|19611|\n",
      "|              Ceará|10648|\n",
      "|   Distrito Federal| 1319|\n",
      "|     Espírito Santo| 4037|\n",
      "|              Goiás| 5047|\n",
      "|           Maranhão|13635|\n",
      "|        Mato Grosso| 3154|\n",
      "| Mato Grosso do Sul| 1939|\n",
      "|       Minas Gerais|24293|\n",
      "|             Paraná| 9999|\n",
      "|            Paraíba| 5479|\n",
      "|               Pará|12092|\n",
      "|         Pernambuco|10219|\n",
      "|              Piauí| 5849|\n",
      "|Rio Grande do Norte| 4867|\n",
      "|  Rio Grande do Sul|11287|\n",
      "+-------------------+-----+\n",
      "only showing top 20 rows\n",
      "\n",
      "NO_MUNICIPIO\n"
     ]
    },
    {
     "name": "stderr",
     "output_type": "stream",
     "text": [
      "                                                                                \r"
     ]
    },
    {
     "name": "stdout",
     "output_type": "stream",
     "text": [
      "+-------------------+-----+\n",
      "|       NO_MUNICIPIO|count|\n",
      "+-------------------+-----+\n",
      "|    Abadia de Goiás|    9|\n",
      "|Abadia dos Dourados|    8|\n",
      "|          Abadiânia|   13|\n",
      "|         Abaetetuba|  212|\n",
      "|             Abaeté|   24|\n",
      "|            Abaiara|   18|\n",
      "|              Abaré|   45|\n",
      "|             Abatiá|    6|\n",
      "|             Abaíra|    8|\n",
      "|      Abdon Batista|    7|\n",
      "|    Abel Figueiredo|   13|\n",
      "|       Abelardo Luz|   23|\n",
      "|         Abre Campo|   19|\n",
      "|       Abreu e Lima|   95|\n",
      "|        Abreulândia|    6|\n",
      "|            Acaiaca|    8|\n",
      "|          Acajutiba|   32|\n",
      "|            Acarape|   17|\n",
      "|             Acaraú|   60|\n",
      "|              Acari|   20|\n",
      "+-------------------+-----+\n",
      "only showing top 20 rows\n",
      "\n",
      "NO_ENTIDADE\n"
     ]
    },
    {
     "name": "stderr",
     "output_type": "stream",
     "text": [
      "                                                                                \r"
     ]
    },
    {
     "name": "stdout",
     "output_type": "stream",
     "text": [
      "+--------------------+-----+\n",
      "|         NO_ENTIDADE|count|\n",
      "+--------------------+-----+\n",
      "|0101001 EM VICENT...|    1|\n",
      "|0101003 EM DARCY ...|    1|\n",
      "|0101004 EM BENJAM...|    1|\n",
      "|0101005 EM GENERA...|    1|\n",
      "|0101006 EM FRANCI...|    1|\n",
      "|0101007 EM MARECH...|    1|\n",
      "|0101008 EM MARECH...|    1|\n",
      "|0101009 EM PROFES...|    1|\n",
      "|0101011 EM FELIX ...|    1|\n",
      "|0101012 EM PROFES...|    1|\n",
      "| 0101501 CIEP HENFIL|    1|\n",
      "|0101601 CM LADEIR...|    1|\n",
      "|0101602 CM VIRGIN...|    1|\n",
      "| 0101603 CM SENNINHA|    1|\n",
      "|0101604 CM SEMPRE...|    1|\n",
      "|0101605 CM CLEMEN...|    1|\n",
      "|0101606 CM QUINTA...|    1|\n",
      "| 0101607 CM TIA DORA|    1|\n",
      "|0101801 EDI PARQU...|    1|\n",
      "|0101802 EDI MACHA...|    1|\n",
      "+--------------------+-----+\n",
      "only showing top 20 rows\n",
      "\n",
      "QT_DOC_BAS\n"
     ]
    },
    {
     "name": "stderr",
     "output_type": "stream",
     "text": [
      "                                                                                \r"
     ]
    },
    {
     "name": "stdout",
     "output_type": "stream",
     "text": [
      "+----------+-----+\n",
      "|QT_DOC_BAS|count|\n",
      "+----------+-----+\n",
      "|      null|39379|\n",
      "|         1| 9035|\n",
      "|        10| 6664|\n",
      "|       100|   14|\n",
      "|       101|   14|\n",
      "|       102|   16|\n",
      "|       103|   14|\n",
      "|       104|   14|\n",
      "|       105|    8|\n",
      "|       106|    9|\n",
      "|       107|   10|\n",
      "|       108|   11|\n",
      "|       109|    8|\n",
      "|        11| 6168|\n",
      "|       110|    9|\n",
      "|       111|    3|\n",
      "|       112|   13|\n",
      "|       113|   12|\n",
      "|       114|    4|\n",
      "|       115|    6|\n",
      "+----------+-----+\n",
      "only showing top 20 rows\n",
      "\n",
      "QT_DOC_INF\n"
     ]
    },
    {
     "name": "stderr",
     "output_type": "stream",
     "text": [
      "                                                                                \r"
     ]
    },
    {
     "name": "stdout",
     "output_type": "stream",
     "text": [
      "+----------+-----+\n",
      "|QT_DOC_INF|count|\n",
      "+----------+-----+\n",
      "|      null|39379|\n",
      "|         0|74892|\n",
      "|         1|14372|\n",
      "|        10| 3363|\n",
      "|       102|    1|\n",
      "|        11| 2694|\n",
      "|        12| 2501|\n",
      "|       123|    1|\n",
      "|        13| 1986|\n",
      "|        14| 1874|\n",
      "|        15| 1517|\n",
      "|        16| 1406|\n",
      "|        17| 1101|\n",
      "|        18| 1164|\n",
      "|        19|  859|\n",
      "|         2|12932|\n",
      "|        20|  827|\n",
      "|        21|  595|\n",
      "|        22|  614|\n",
      "|        23|  458|\n",
      "+----------+-----+\n",
      "only showing top 20 rows\n",
      "\n",
      "QT_DOC_FUND\n"
     ]
    },
    {
     "name": "stderr",
     "output_type": "stream",
     "text": [
      "                                                                                \r"
     ]
    },
    {
     "name": "stdout",
     "output_type": "stream",
     "text": [
      "+-----------+-----+\n",
      "|QT_DOC_FUND|count|\n",
      "+-----------+-----+\n",
      "|       null|39379|\n",
      "|          0|56900|\n",
      "|          1|10871|\n",
      "|         10| 4240|\n",
      "|        100|    2|\n",
      "|        101|    3|\n",
      "|        103|    3|\n",
      "|        104|    2|\n",
      "|        105|    2|\n",
      "|        106|    1|\n",
      "|        108|    1|\n",
      "|         11| 4245|\n",
      "|        111|    2|\n",
      "|        112|    3|\n",
      "|        115|    1|\n",
      "|        116|    1|\n",
      "|        118|    1|\n",
      "|        119|    1|\n",
      "|         12| 4288|\n",
      "|        122|    1|\n",
      "+-----------+-----+\n",
      "only showing top 20 rows\n",
      "\n",
      "QT_DOC_MED\n"
     ]
    },
    {
     "name": "stderr",
     "output_type": "stream",
     "text": [
      "                                                                                \r"
     ]
    },
    {
     "name": "stdout",
     "output_type": "stream",
     "text": [
      "+----------+------+\n",
      "|QT_DOC_MED| count|\n",
      "+----------+------+\n",
      "|      null| 39379|\n",
      "|         0|148499|\n",
      "|         1|   123|\n",
      "|        10|  1181|\n",
      "|       100|     3|\n",
      "|       101|     4|\n",
      "|       102|     2|\n",
      "|       103|     1|\n",
      "|       104|     2|\n",
      "|       105|     1|\n",
      "|       106|     1|\n",
      "|       107|     2|\n",
      "|       108|     2|\n",
      "|       109|     4|\n",
      "|        11|  1417|\n",
      "|       111|     1|\n",
      "|       112|     1|\n",
      "|       113|     2|\n",
      "|       114|     2|\n",
      "|       115|     2|\n",
      "+----------+------+\n",
      "only showing top 20 rows\n",
      "\n",
      "QT_DOC_PROF\n"
     ]
    },
    {
     "name": "stderr",
     "output_type": "stream",
     "text": [
      "                                                                                \r"
     ]
    },
    {
     "name": "stdout",
     "output_type": "stream",
     "text": [
      "+-----------+------+\n",
      "|QT_DOC_PROF| count|\n",
      "+-----------+------+\n",
      "|       null| 39379|\n",
      "|          0|169087|\n",
      "|          1|   454|\n",
      "|         10|   302|\n",
      "|        100|     1|\n",
      "|        101|     2|\n",
      "|        102|     3|\n",
      "|        103|     2|\n",
      "|        104|     4|\n",
      "|        105|     1|\n",
      "|        106|     2|\n",
      "|        107|     1|\n",
      "|        108|     4|\n",
      "|        109|     1|\n",
      "|         11|   308|\n",
      "|        110|     5|\n",
      "|        111|     1|\n",
      "|        112|     3|\n",
      "|        113|     3|\n",
      "|        114|     1|\n",
      "+-----------+------+\n",
      "only showing top 20 rows\n",
      "\n",
      "QT_DOC_EJA\n"
     ]
    },
    {
     "name": "stderr",
     "output_type": "stream",
     "text": [
      "                                                                                \r"
     ]
    },
    {
     "name": "stdout",
     "output_type": "stream",
     "text": [
      "+----------+------+\n",
      "|QT_DOC_EJA| count|\n",
      "+----------+------+\n",
      "|      null| 39379|\n",
      "|         0|147925|\n",
      "|         1|  6334|\n",
      "|        10|  1372|\n",
      "|       101|     2|\n",
      "|       102|     2|\n",
      "|        11|  1232|\n",
      "|       114|     1|\n",
      "|       115|     1|\n",
      "|        12|  1122|\n",
      "|       125|     1|\n",
      "|        13|   990|\n",
      "|        14|   833|\n",
      "|        15|   735|\n",
      "|        16|   590|\n",
      "|        17|   493|\n",
      "|        18|   387|\n",
      "|        19|   278|\n",
      "|         2|  3185|\n",
      "|        20|   266|\n",
      "+----------+------+\n",
      "only showing top 20 rows\n",
      "\n",
      "QT_DOC_ESP\n"
     ]
    },
    {
     "name": "stderr",
     "output_type": "stream",
     "text": [
      "\r",
      "[Stage 46:>                                                         (0 + 1) / 1]\r"
     ]
    },
    {
     "name": "stdout",
     "output_type": "stream",
     "text": [
      "+----------+-----+\n",
      "|QT_DOC_ESP|count|\n",
      "+----------+-----+\n",
      "|      null|39379|\n",
      "|         0|38388|\n",
      "|         1|13518|\n",
      "|        10| 5224|\n",
      "|       100|   11|\n",
      "|       101|    2|\n",
      "|       102|    3|\n",
      "|       103|    3|\n",
      "|       104|    5|\n",
      "|       105|    2|\n",
      "|       106|    6|\n",
      "|       107|    4|\n",
      "|       108|    3|\n",
      "|       109|    3|\n",
      "|        11| 4741|\n",
      "|       110|    1|\n",
      "|       111|    3|\n",
      "|       112|    2|\n",
      "|       113|    3|\n",
      "|       114|    2|\n",
      "+----------+-----+\n",
      "only showing top 20 rows\n",
      "\n",
      "Tempo de execucao: 0:00:27.208268\n"
     ]
    },
    {
     "name": "stderr",
     "output_type": "stream",
     "text": [
      "\r",
      "                                                                                \r"
     ]
    }
   ],
   "source": [
    "analise1 = censo.select('ID_UNICO', 'NO_REGIAO', 'NO_UF', 'NO_MUNICIPIO', 'NO_ENTIDADE', 'QT_DOC_BAS', 'QT_DOC_INF', 'QT_DOC_FUND', 'QT_DOC_MED', 'QT_DOC_PROF', 'QT_DOC_EJA', 'QT_DOC_ESP')\n",
    "completude(analise1)\n",
    "\n",
    "for col in analise1.columns:\n",
    "    print(col)\n",
    "    analise1.groupBy(col).count().orderBy(F.col(col).asc()).show()\n",
    "printTimer()"
   ]
  },
  {
   "cell_type": "markdown",
   "id": "c845cf54",
   "metadata": {},
   "source": [
    "#### Tratamento das variáveis\n",
    "\n",
    "- Remoção de numerações no nome da escola"
   ]
  },
  {
   "cell_type": "code",
   "execution_count": 6,
   "id": "b8ab385e",
   "metadata": {
    "scrolled": true
   },
   "outputs": [
    {
     "name": "stderr",
     "output_type": "stream",
     "text": [
      "                                                                                \r"
     ]
    },
    {
     "name": "stdout",
     "output_type": "stream",
     "text": [
      "Quantidade de registros que iniciam com numerações que não fazem parte do nome:  1771\n",
      "+--------------------------------------------------------+\n",
      "|NO_ENTIDADE                                             |\n",
      "+--------------------------------------------------------+\n",
      "|29092191 - COLEGIO ESTADUAL DOM PEDRO II TEMPO INTEGRAL |\n",
      "|0101501 CIEP HENFIL                                     |\n",
      "|0101803 EDI ANTONIO RAPOSO TAVARES                      |\n",
      "|0101004 EM BENJAMIM CONSTANT                            |\n",
      "|0101003 EM DARCY VARGAS                                 |\n",
      "|0101006 EM FRANCISCO BENJAMIN GALLOTTI                  |\n",
      "|0101005 EM GENERAL MITRE                                |\n",
      "|0101008 EM MARECHAL ESPERIDIAO ROSAS                    |\n",
      "|0101007 EM MARECHAL MASCARENHAS DE MORAES               |\n",
      "|0101012 EM PROFESSORA LAURA SYLVIA MENDES PEREIRA       |\n",
      "|0101009 EM PROFESSOR WALTER CARLOS DE MAGALHAES FRAENKEL|\n",
      "|0101001 EM VICENTE LICINIO CARDOSO                      |\n",
      "|0102503 CIEP AVENIDA DOS DESFILES II                    |\n",
      "|0102502 CIEP AVENIDA DOS DESFILES I                     |\n",
      "|0102505 CIEP JOSE PEDRO VARELA                          |\n",
      "|0102504 CIEP AVENIDA DOS DESFILES                       |\n",
      "|0102501 EM TIA CIATA                                    |\n",
      "|0102005 EM CALOUSTE GULBENKIAN                          |\n",
      "|0102001 EM CELESTINO DA SILVA                           |\n",
      "|0102802 EDI CAMPOS SALLES                               |\n",
      "+--------------------------------------------------------+\n",
      "only showing top 20 rows\n",
      "\n"
     ]
    },
    {
     "name": "stderr",
     "output_type": "stream",
     "text": [
      "\r",
      "[Stage 52:>                                                         (0 + 1) / 1]\r",
      "\r",
      "                                                                                \r"
     ]
    }
   ],
   "source": [
    "print('Quantidade de registros que iniciam com numerações que não fazem parte do nome: ', analise1.filter(F.col(\"NO_ENTIDADE\").rlike(\"^(\\d+\\.?){3,}\")).count())\n",
    "\n",
    "analise1.filter(F.col(\"NO_ENTIDADE\").rlike(\"^(\\d+\\.?){3,}\")).select(\"NO_ENTIDADE\").show(truncate=False)"
   ]
  },
  {
   "cell_type": "code",
   "execution_count": 7,
   "id": "66c6b354",
   "metadata": {
    "scrolled": true
   },
   "outputs": [
    {
     "name": "stdout",
     "output_type": "stream",
     "text": [
      "Validando as modificações: \n"
     ]
    },
    {
     "name": "stderr",
     "output_type": "stream",
     "text": [
      "\r",
      "[Stage 53:>                                                         (0 + 1) / 1]\r"
     ]
    },
    {
     "name": "stdout",
     "output_type": "stream",
     "text": [
      "+--------------------------------------------------------+------------------------------------------------+\n",
      "|NO_ENTIDADE                                             |NOME_ENTIDADE                                   |\n",
      "+--------------------------------------------------------+------------------------------------------------+\n",
      "|29092191 - COLEGIO ESTADUAL DOM PEDRO II TEMPO INTEGRAL |COLEGIO ESTADUAL DOM PEDRO II TEMPO INTEGRAL    |\n",
      "|0101501 CIEP HENFIL                                     |CIEP HENFIL                                     |\n",
      "|0101803 EDI ANTONIO RAPOSO TAVARES                      |EDI ANTONIO RAPOSO TAVARES                      |\n",
      "|0101004 EM BENJAMIM CONSTANT                            |EM BENJAMIM CONSTANT                            |\n",
      "|0101003 EM DARCY VARGAS                                 |EM DARCY VARGAS                                 |\n",
      "|0101006 EM FRANCISCO BENJAMIN GALLOTTI                  |EM FRANCISCO BENJAMIN GALLOTTI                  |\n",
      "|0101005 EM GENERAL MITRE                                |EM GENERAL MITRE                                |\n",
      "|0101008 EM MARECHAL ESPERIDIAO ROSAS                    |EM MARECHAL ESPERIDIAO ROSAS                    |\n",
      "|0101007 EM MARECHAL MASCARENHAS DE MORAES               |EM MARECHAL MASCARENHAS DE MORAES               |\n",
      "|0101012 EM PROFESSORA LAURA SYLVIA MENDES PEREIRA       |EM PROFESSORA LAURA SYLVIA MENDES PEREIRA       |\n",
      "|0101009 EM PROFESSOR WALTER CARLOS DE MAGALHAES FRAENKEL|EM PROFESSOR WALTER CARLOS DE MAGALHAES FRAENKEL|\n",
      "|0101001 EM VICENTE LICINIO CARDOSO                      |EM VICENTE LICINIO CARDOSO                      |\n",
      "|0102503 CIEP AVENIDA DOS DESFILES II                    |CIEP AVENIDA DOS DESFILES II                    |\n",
      "|0102502 CIEP AVENIDA DOS DESFILES I                     |CIEP AVENIDA DOS DESFILES I                     |\n",
      "|0102505 CIEP JOSE PEDRO VARELA                          |CIEP JOSE PEDRO VARELA                          |\n",
      "|0102504 CIEP AVENIDA DOS DESFILES                       |CIEP AVENIDA DOS DESFILES                       |\n",
      "|0102501 EM TIA CIATA                                    |EM TIA CIATA                                    |\n",
      "|0102005 EM CALOUSTE GULBENKIAN                          |EM CALOUSTE GULBENKIAN                          |\n",
      "|0102001 EM CELESTINO DA SILVA                           |EM CELESTINO DA SILVA                           |\n",
      "|0102802 EDI CAMPOS SALLES                               |EDI CAMPOS SALLES                               |\n",
      "+--------------------------------------------------------+------------------------------------------------+\n",
      "only showing top 20 rows\n",
      "\n"
     ]
    },
    {
     "name": "stderr",
     "output_type": "stream",
     "text": [
      "\r",
      "                                                                                \r"
     ]
    },
    {
     "data": {
      "text/plain": [
       "DataFrame[ID_UNICO: bigint, NO_REGIAO: string, NO_UF: string, NO_MUNICIPIO: string, QT_DOC_BAS: string, QT_DOC_INF: string, QT_DOC_FUND: string, QT_DOC_MED: string, QT_DOC_PROF: string, QT_DOC_EJA: string, QT_DOC_ESP: string, NOME_ENTIDADE: string]"
      ]
     },
     "execution_count": 7,
     "metadata": {},
     "output_type": "execute_result"
    }
   ],
   "source": [
    "# substituição das numerações por vázio\n",
    "analise1 = analise1.withColumn(\"NOME_ENTIDADE\", F.regexp_replace(F.col(\"NO_ENTIDADE\"), \"^(\\d+\\.?){3,} (- )?\", ''))\n",
    "\n",
    "print('Validando as modificações: ')\n",
    "analise1.filter(F.col(\"NO_ENTIDADE\").rlike(\"^(\\d+\\.?){3,}\")).select(\"NO_ENTIDADE\", \"NOME_ENTIDADE\").show(truncate=False)\n",
    "\n",
    "#removendo a variável anterior\n",
    "analise1.drop('NO_ENTIDADE')"
   ]
  },
  {
   "cell_type": "code",
   "execution_count": 8,
   "id": "a9047be7",
   "metadata": {
    "scrolled": true
   },
   "outputs": [
    {
     "name": "stderr",
     "output_type": "stream",
     "text": [
      "\r",
      "[Stage 54:>                                                         (0 + 1) / 1]\r"
     ]
    },
    {
     "name": "stdout",
     "output_type": "stream",
     "text": [
      "Qtd. registros: 217625 | Quantidade de colunas:  13\n",
      "root\n",
      " |-- ID_UNICO: long (nullable = false)\n",
      " |-- NO_REGIAO: string (nullable = true)\n",
      " |-- NO_UF: string (nullable = true)\n",
      " |-- NO_MUNICIPIO: string (nullable = true)\n",
      " |-- NO_ENTIDADE: string (nullable = true)\n",
      " |-- QT_DOC_BAS: string (nullable = true)\n",
      " |-- QT_DOC_INF: string (nullable = true)\n",
      " |-- QT_DOC_FUND: string (nullable = true)\n",
      " |-- QT_DOC_MED: string (nullable = true)\n",
      " |-- QT_DOC_PROF: string (nullable = true)\n",
      " |-- QT_DOC_EJA: string (nullable = true)\n",
      " |-- QT_DOC_ESP: string (nullable = true)\n",
      " |-- NO_ENTIDADE: string (nullable = true)\n",
      "\n"
     ]
    },
    {
     "name": "stderr",
     "output_type": "stream",
     "text": [
      "\r",
      "                                                                                \r"
     ]
    }
   ],
   "source": [
    "analise_final = analise1.withColumnRenamed('NOME_ENTIDADE', 'NO_ENTIDADE')\n",
    "pessoal.completudeSchema(analise_final)"
   ]
  },
  {
   "cell_type": "markdown",
   "id": "a63b7472",
   "metadata": {},
   "source": [
    "#### Escrita"
   ]
  },
  {
   "cell_type": "code",
   "execution_count": 9,
   "id": "defd3a56",
   "metadata": {
    "scrolled": true
   },
   "outputs": [
    {
     "name": "stderr",
     "output_type": "stream",
     "text": [
      "                                                                                \r"
     ]
    },
    {
     "data": {
      "text/plain": [
       "('/home/tatiane/Documentos/censo_escolar2/projeto_2/analise1/analise1.csv',\n",
       " 3.1187673039985384,\n",
       " 3.1293023340003856)"
      ]
     },
     "execution_count": 9,
     "metadata": {},
     "output_type": "execute_result"
    }
   ],
   "source": [
    "writeSingleCsv(analise1, write_path)"
   ]
  },
  {
   "cell_type": "markdown",
   "id": "984f94c5",
   "metadata": {},
   "source": [
    "### Finalização do notebook"
   ]
  },
  {
   "cell_type": "code",
   "execution_count": 10,
   "id": "37ccea25",
   "metadata": {},
   "outputs": [
    {
     "name": "stdout",
     "output_type": "stream",
     "text": [
      "Tempo de execucao ate este ponto: 0:00:34.989720\n"
     ]
    }
   ],
   "source": [
    "executionTime()"
   ]
  },
  {
   "cell_type": "code",
   "execution_count": 11,
   "id": "de11307f",
   "metadata": {},
   "outputs": [],
   "source": [
    "sc.stop()"
   ]
  }
 ],
 "metadata": {
  "kernelspec": {
   "display_name": "Python 3 (ipykernel)",
   "language": "python",
   "name": "python3"
  },
  "language_info": {
   "codemirror_mode": {
    "name": "ipython",
    "version": 3
   },
   "file_extension": ".py",
   "mimetype": "text/x-python",
   "name": "python",
   "nbconvert_exporter": "python",
   "pygments_lexer": "ipython3",
   "version": "3.9.7"
  }
 },
 "nbformat": 4,
 "nbformat_minor": 5
}
