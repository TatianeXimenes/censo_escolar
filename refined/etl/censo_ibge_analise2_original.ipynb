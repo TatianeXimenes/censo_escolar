{
 "cells": [
  {
   "cell_type": "code",
   "execution_count": 1,
   "id": "c61d3daa",
   "metadata": {},
   "outputs": [
    {
     "name": "stdout",
     "output_type": "stream",
     "text": [
      "Tempo inicial da execucao: 2025-07-03 15:18:18.877222\n",
      "User: tatiane\n",
      "Node: Inspiron-3583\n",
      "AppID:  local-1751566665880\n"
     ]
    }
   ],
   "source": [
    "import sys, os, time, getpass\n",
    "\n",
    "sys.path.append(\"/home/tatiane/lib/\")\n",
    "\n",
    "import pessoal\n",
    "from pessoal import *\n",
    "print('AppID: ', sc.applicationId)\n",
    "\n",
    "# Pedir ao spark para exibir só erros, escondendo avisos (WARN) e infos\n",
    "# O correto é resolver a causa como, por exemplo: ordenados = Window.partitionBy().orderBy(dfs[i].columns[0])\n",
    "spark.sparkContext.setLogLevel(\"ERROR\")"
   ]
  },
  {
   "cell_type": "markdown",
   "id": "75d6ff8b",
   "metadata": {},
   "source": [
    "# Censo escolar 2023"
   ]
  },
  {
   "cell_type": "code",
   "execution_count": 2,
   "id": "35923a71",
   "metadata": {},
   "outputs": [
    {
     "name": "stderr",
     "output_type": "stream",
     "text": [
      "                                                                                \r"
     ]
    }
   ],
   "source": [
    "# Leitura com encoding apropriado para o conteúdo da base\n",
    "censo = spark.read.csv('/home/tatiane/Documentos/censo_escolar2/projeto_2/microdados_censo_escolar_2023/dados/microdados_ed_basica_2023.csv', header = True, multiLine = True, sep = ';', encoding=\"latin1\")\n",
    "write_path = '/home/tatiane/Documentos/censo_escolar2/projeto_2/analise2_original/'"
   ]
  },
  {
   "cell_type": "code",
   "execution_count": 3,
   "id": "10f0a27d",
   "metadata": {
    "scrolled": true
   },
   "outputs": [
    {
     "name": "stderr",
     "output_type": "stream",
     "text": [
      "\r",
      "[Stage 1:>                                                          (0 + 1) / 1]\r"
     ]
    },
    {
     "name": "stdout",
     "output_type": "stream",
     "text": [
      "Qtd. registros: 217625 | Quantidade de colunas:  408\n",
      "root\n",
      " |-- NU_ANO_CENSO: string (nullable = true)\n",
      " |-- NO_REGIAO: string (nullable = true)\n",
      " |-- CO_REGIAO: string (nullable = true)\n",
      " |-- NO_UF: string (nullable = true)\n",
      " |-- SG_UF: string (nullable = true)\n",
      " |-- CO_UF: string (nullable = true)\n",
      " |-- NO_MUNICIPIO: string (nullable = true)\n",
      " |-- CO_MUNICIPIO: string (nullable = true)\n",
      " |-- NO_REGIAO_GEOG_INTERM: string (nullable = true)\n",
      " |-- CO_REGIAO_GEOG_INTERM: string (nullable = true)\n",
      " |-- NO_REGIAO_GEOG_IMED: string (nullable = true)\n",
      " |-- CO_REGIAO_GEOG_IMED: string (nullable = true)\n",
      " |-- NO_MESORREGIAO: string (nullable = true)\n",
      " |-- CO_MESORREGIAO: string (nullable = true)\n",
      " |-- NO_MICRORREGIAO: string (nullable = true)\n",
      " |-- CO_MICRORREGIAO: string (nullable = true)\n",
      " |-- CO_DISTRITO: string (nullable = true)\n",
      " |-- NO_ENTIDADE: string (nullable = true)\n",
      " |-- CO_ENTIDADE: string (nullable = true)\n",
      " |-- TP_DEPENDENCIA: string (nullable = true)\n",
      " |-- TP_CATEGORIA_ESCOLA_PRIVADA: string (nullable = true)\n",
      " |-- TP_LOCALIZACAO: string (nullable = true)\n",
      " |-- TP_LOCALIZACAO_DIFERENCIADA: string (nullable = true)\n",
      " |-- DS_ENDERECO: string (nullable = true)\n",
      " |-- NU_ENDERECO: string (nullable = true)\n",
      " |-- DS_COMPLEMENTO: string (nullable = true)\n",
      " |-- NO_BAIRRO: string (nullable = true)\n",
      " |-- CO_CEP: string (nullable = true)\n",
      " |-- NU_DDD: string (nullable = true)\n",
      " |-- NU_TELEFONE: string (nullable = true)\n",
      " |-- TP_SITUACAO_FUNCIONAMENTO: string (nullable = true)\n",
      " |-- CO_ORGAO_REGIONAL: string (nullable = true)\n",
      " |-- DT_ANO_LETIVO_INICIO: string (nullable = true)\n",
      " |-- DT_ANO_LETIVO_TERMINO: string (nullable = true)\n",
      " |-- IN_VINCULO_SECRETARIA_EDUCACAO: string (nullable = true)\n",
      " |-- IN_VINCULO_SEGURANCA_PUBLICA: string (nullable = true)\n",
      " |-- IN_VINCULO_SECRETARIA_SAUDE: string (nullable = true)\n",
      " |-- IN_VINCULO_OUTRO_ORGAO: string (nullable = true)\n",
      " |-- IN_PODER_PUBLICO_PARCERIA: string (nullable = true)\n",
      " |-- TP_PODER_PUBLICO_PARCERIA: string (nullable = true)\n",
      " |-- IN_FORMA_CONT_TERMO_COLABORA: string (nullable = true)\n",
      " |-- IN_FORMA_CONT_TERMO_FOMENTO: string (nullable = true)\n",
      " |-- IN_FORMA_CONT_ACORDO_COOP: string (nullable = true)\n",
      " |-- IN_FORMA_CONT_PRESTACAO_SERV: string (nullable = true)\n",
      " |-- IN_FORMA_CONT_COOP_TEC_FIN: string (nullable = true)\n",
      " |-- IN_FORMA_CONT_CONSORCIO_PUB: string (nullable = true)\n",
      " |-- IN_FORMA_CONT_MU_TERMO_COLAB: string (nullable = true)\n",
      " |-- IN_FORMA_CONT_MU_TERMO_FOMENTO: string (nullable = true)\n",
      " |-- IN_FORMA_CONT_MU_ACORDO_COOP: string (nullable = true)\n",
      " |-- IN_FORMA_CONT_MU_PREST_SERV: string (nullable = true)\n",
      " |-- IN_FORMA_CONT_MU_COOP_TEC_FIN: string (nullable = true)\n",
      " |-- IN_FORMA_CONT_MU_CONSORCIO_PUB: string (nullable = true)\n",
      " |-- IN_FORMA_CONT_ES_TERMO_COLAB: string (nullable = true)\n",
      " |-- IN_FORMA_CONT_ES_TERMO_FOMENTO: string (nullable = true)\n",
      " |-- IN_FORMA_CONT_ES_ACORDO_COOP: string (nullable = true)\n",
      " |-- IN_FORMA_CONT_ES_PREST_SERV: string (nullable = true)\n",
      " |-- IN_FORMA_CONT_ES_COOP_TEC_FIN: string (nullable = true)\n",
      " |-- IN_FORMA_CONT_ES_CONSORCIO_PUB: string (nullable = true)\n",
      " |-- IN_MANT_ESCOLA_PRIVADA_EMP: string (nullable = true)\n",
      " |-- IN_MANT_ESCOLA_PRIVADA_ONG: string (nullable = true)\n",
      " |-- IN_MANT_ESCOLA_PRIVADA_OSCIP: string (nullable = true)\n",
      " |-- IN_MANT_ESCOLA_PRIV_ONG_OSCIP: string (nullable = true)\n",
      " |-- IN_MANT_ESCOLA_PRIVADA_SIND: string (nullable = true)\n",
      " |-- IN_MANT_ESCOLA_PRIVADA_SIST_S: string (nullable = true)\n",
      " |-- IN_MANT_ESCOLA_PRIVADA_S_FINS: string (nullable = true)\n",
      " |-- NU_CNPJ_ESCOLA_PRIVADA: string (nullable = true)\n",
      " |-- NU_CNPJ_MANTENEDORA: string (nullable = true)\n",
      " |-- TP_REGULAMENTACAO: string (nullable = true)\n",
      " |-- TP_RESPONSAVEL_REGULAMENTACAO: string (nullable = true)\n",
      " |-- CO_ESCOLA_SEDE_VINCULADA: string (nullable = true)\n",
      " |-- CO_IES_OFERTANTE: string (nullable = true)\n",
      " |-- IN_LOCAL_FUNC_PREDIO_ESCOLAR: string (nullable = true)\n",
      " |-- TP_OCUPACAO_PREDIO_ESCOLAR: string (nullable = true)\n",
      " |-- IN_LOCAL_FUNC_SOCIOEDUCATIVO: string (nullable = true)\n",
      " |-- IN_LOCAL_FUNC_UNID_PRISIONAL: string (nullable = true)\n",
      " |-- IN_LOCAL_FUNC_PRISIONAL_SOCIO: string (nullable = true)\n",
      " |-- IN_LOCAL_FUNC_GALPAO: string (nullable = true)\n",
      " |-- TP_OCUPACAO_GALPAO: string (nullable = true)\n",
      " |-- IN_LOCAL_FUNC_SALAS_OUTRA_ESC: string (nullable = true)\n",
      " |-- IN_LOCAL_FUNC_OUTROS: string (nullable = true)\n",
      " |-- IN_PREDIO_COMPARTILHADO: string (nullable = true)\n",
      " |-- IN_AGUA_POTAVEL: string (nullable = true)\n",
      " |-- IN_AGUA_REDE_PUBLICA: string (nullable = true)\n",
      " |-- IN_AGUA_POCO_ARTESIANO: string (nullable = true)\n",
      " |-- IN_AGUA_CACIMBA: string (nullable = true)\n",
      " |-- IN_AGUA_FONTE_RIO: string (nullable = true)\n",
      " |-- IN_AGUA_INEXISTENTE: string (nullable = true)\n",
      " |-- IN_ENERGIA_REDE_PUBLICA: string (nullable = true)\n",
      " |-- IN_ENERGIA_GERADOR_FOSSIL: string (nullable = true)\n",
      " |-- IN_ENERGIA_RENOVAVEL: string (nullable = true)\n",
      " |-- IN_ENERGIA_INEXISTENTE: string (nullable = true)\n",
      " |-- IN_ESGOTO_REDE_PUBLICA: string (nullable = true)\n",
      " |-- IN_ESGOTO_FOSSA_SEPTICA: string (nullable = true)\n",
      " |-- IN_ESGOTO_FOSSA_COMUM: string (nullable = true)\n",
      " |-- IN_ESGOTO_FOSSA: string (nullable = true)\n",
      " |-- IN_ESGOTO_INEXISTENTE: string (nullable = true)\n",
      " |-- IN_LIXO_SERVICO_COLETA: string (nullable = true)\n",
      " |-- IN_LIXO_QUEIMA: string (nullable = true)\n",
      " |-- IN_LIXO_ENTERRA: string (nullable = true)\n",
      " |-- IN_LIXO_DESTINO_FINAL_PUBLICO: string (nullable = true)\n",
      " |-- IN_LIXO_DESCARTA_OUTRA_AREA: string (nullable = true)\n",
      " |-- IN_TRATAMENTO_LIXO_SEPARACAO: string (nullable = true)\n",
      " |-- IN_TRATAMENTO_LIXO_REUTILIZA: string (nullable = true)\n",
      " |-- IN_TRATAMENTO_LIXO_RECICLAGEM: string (nullable = true)\n",
      " |-- IN_TRATAMENTO_LIXO_INEXISTENTE: string (nullable = true)\n",
      " |-- IN_ALMOXARIFADO: string (nullable = true)\n",
      " |-- IN_AREA_VERDE: string (nullable = true)\n",
      " |-- IN_AUDITORIO: string (nullable = true)\n",
      " |-- IN_BANHEIRO: string (nullable = true)\n",
      " |-- IN_BANHEIRO_EI: string (nullable = true)\n",
      " |-- IN_BANHEIRO_PNE: string (nullable = true)\n",
      " |-- IN_BANHEIRO_FUNCIONARIOS: string (nullable = true)\n",
      " |-- IN_BANHEIRO_CHUVEIRO: string (nullable = true)\n",
      " |-- IN_BIBLIOTECA: string (nullable = true)\n",
      " |-- IN_BIBLIOTECA_SALA_LEITURA: string (nullable = true)\n",
      " |-- IN_COZINHA: string (nullable = true)\n",
      " |-- IN_DESPENSA: string (nullable = true)\n",
      " |-- IN_DORMITORIO_ALUNO: string (nullable = true)\n",
      " |-- IN_DORMITORIO_PROFESSOR: string (nullable = true)\n",
      " |-- IN_LABORATORIO_CIENCIAS: string (nullable = true)\n",
      " |-- IN_LABORATORIO_INFORMATICA: string (nullable = true)\n",
      " |-- IN_LABORATORIO_EDUC_PROF: string (nullable = true)\n",
      " |-- IN_PATIO_COBERTO: string (nullable = true)\n",
      " |-- IN_PATIO_DESCOBERTO: string (nullable = true)\n",
      " |-- IN_PARQUE_INFANTIL: string (nullable = true)\n",
      " |-- IN_PISCINA: string (nullable = true)\n",
      " |-- IN_QUADRA_ESPORTES: string (nullable = true)\n",
      " |-- IN_QUADRA_ESPORTES_COBERTA: string (nullable = true)\n",
      " |-- IN_QUADRA_ESPORTES_DESCOBERTA: string (nullable = true)\n",
      " |-- IN_REFEITORIO: string (nullable = true)\n",
      " |-- IN_SALA_ATELIE_ARTES: string (nullable = true)\n",
      " |-- IN_SALA_MUSICA_CORAL: string (nullable = true)\n",
      " |-- IN_SALA_ESTUDIO_DANCA: string (nullable = true)\n",
      " |-- IN_SALA_MULTIUSO: string (nullable = true)\n",
      " |-- IN_SALA_ESTUDIO_GRAVACAO: string (nullable = true)\n",
      " |-- IN_SALA_OFICINAS_EDUC_PROF: string (nullable = true)\n",
      " |-- IN_SALA_DIRETORIA: string (nullable = true)\n",
      " |-- IN_SALA_LEITURA: string (nullable = true)\n",
      " |-- IN_SALA_PROFESSOR: string (nullable = true)\n",
      " |-- IN_SALA_REPOUSO_ALUNO: string (nullable = true)\n",
      " |-- IN_SECRETARIA: string (nullable = true)\n",
      " |-- IN_SALA_ATENDIMENTO_ESPECIAL: string (nullable = true)\n",
      " |-- IN_TERREIRAO: string (nullable = true)\n",
      " |-- IN_VIVEIRO: string (nullable = true)\n",
      " |-- IN_DEPENDENCIAS_OUTRAS: string (nullable = true)\n",
      " |-- IN_ACESSIBILIDADE_CORRIMAO: string (nullable = true)\n",
      " |-- IN_ACESSIBILIDADE_ELEVADOR: string (nullable = true)\n",
      " |-- IN_ACESSIBILIDADE_PISOS_TATEIS: string (nullable = true)\n",
      " |-- IN_ACESSIBILIDADE_VAO_LIVRE: string (nullable = true)\n",
      " |-- IN_ACESSIBILIDADE_RAMPAS: string (nullable = true)\n",
      " |-- IN_ACESSIBILIDADE_SINAL_SONORO: string (nullable = true)\n",
      " |-- IN_ACESSIBILIDADE_SINAL_TATIL: string (nullable = true)\n",
      " |-- IN_ACESSIBILIDADE_SINAL_VISUAL: string (nullable = true)\n",
      " |-- IN_ACESSIBILIDADE_INEXISTENTE: string (nullable = true)\n",
      " |-- QT_SALAS_UTILIZADAS_DENTRO: string (nullable = true)\n",
      " |-- QT_SALAS_UTILIZADAS_FORA: string (nullable = true)\n",
      " |-- QT_SALAS_UTILIZADAS: string (nullable = true)\n",
      " |-- QT_SALAS_UTILIZA_CLIMATIZADAS: string (nullable = true)\n",
      " |-- QT_SALAS_UTILIZADAS_ACESSIVEIS: string (nullable = true)\n",
      " |-- IN_EQUIP_PARABOLICA: string (nullable = true)\n",
      " |-- IN_COMPUTADOR: string (nullable = true)\n",
      " |-- IN_EQUIP_COPIADORA: string (nullable = true)\n",
      " |-- IN_EQUIP_IMPRESSORA: string (nullable = true)\n",
      " |-- IN_EQUIP_IMPRESSORA_MULT: string (nullable = true)\n",
      " |-- IN_EQUIP_SCANNER: string (nullable = true)\n",
      " |-- IN_EQUIP_NENHUM: string (nullable = true)\n",
      " |-- IN_EQUIP_DVD: string (nullable = true)\n",
      " |-- QT_EQUIP_DVD: string (nullable = true)\n",
      " |-- IN_EQUIP_SOM: string (nullable = true)\n",
      " |-- QT_EQUIP_SOM: string (nullable = true)\n",
      " |-- IN_EQUIP_TV: string (nullable = true)\n",
      " |-- QT_EQUIP_TV: string (nullable = true)\n",
      " |-- IN_EQUIP_LOUSA_DIGITAL: string (nullable = true)\n",
      " |-- QT_EQUIP_LOUSA_DIGITAL: string (nullable = true)\n",
      " |-- IN_EQUIP_MULTIMIDIA: string (nullable = true)\n",
      " |-- QT_EQUIP_MULTIMIDIA: string (nullable = true)\n",
      " |-- IN_DESKTOP_ALUNO: string (nullable = true)\n",
      " |-- QT_DESKTOP_ALUNO: string (nullable = true)\n",
      " |-- IN_COMP_PORTATIL_ALUNO: string (nullable = true)\n",
      " |-- QT_COMP_PORTATIL_ALUNO: string (nullable = true)\n",
      " |-- IN_TABLET_ALUNO: string (nullable = true)\n",
      " |-- QT_TABLET_ALUNO: string (nullable = true)\n",
      " |-- IN_INTERNET: string (nullable = true)\n",
      " |-- IN_INTERNET_ALUNOS: string (nullable = true)\n",
      " |-- IN_INTERNET_ADMINISTRATIVO: string (nullable = true)\n",
      " |-- IN_INTERNET_APRENDIZAGEM: string (nullable = true)\n",
      " |-- IN_INTERNET_COMUNIDADE: string (nullable = true)\n",
      " |-- IN_ACESSO_INTERNET_COMPUTADOR: string (nullable = true)\n",
      " |-- IN_ACES_INTERNET_DISP_PESSOAIS: string (nullable = true)\n",
      " |-- TP_REDE_LOCAL: string (nullable = true)\n",
      " |-- IN_BANDA_LARGA: string (nullable = true)\n",
      " |-- IN_PROF_ADMINISTRATIVOS: string (nullable = true)\n",
      " |-- QT_PROF_ADMINISTRATIVOS: string (nullable = true)\n",
      " |-- IN_PROF_SERVICOS_GERAIS: string (nullable = true)\n",
      " |-- QT_PROF_SERVICOS_GERAIS: string (nullable = true)\n",
      " |-- IN_PROF_BIBLIOTECARIO: string (nullable = true)\n",
      " |-- QT_PROF_BIBLIOTECARIO: string (nullable = true)\n",
      " |-- IN_PROF_SAUDE: string (nullable = true)\n",
      " |-- QT_PROF_SAUDE: string (nullable = true)\n",
      " |-- IN_PROF_COORDENADOR: string (nullable = true)\n",
      " |-- QT_PROF_COORDENADOR: string (nullable = true)\n",
      " |-- IN_PROF_FONAUDIOLOGO: string (nullable = true)\n",
      " |-- QT_PROF_FONAUDIOLOGO: string (nullable = true)\n",
      " |-- IN_PROF_NUTRICIONISTA: string (nullable = true)\n",
      " |-- QT_PROF_NUTRICIONISTA: string (nullable = true)\n",
      " |-- IN_PROF_PSICOLOGO: string (nullable = true)\n",
      " |-- QT_PROF_PSICOLOGO: string (nullable = true)\n",
      " |-- IN_PROF_ALIMENTACAO: string (nullable = true)\n",
      " |-- QT_PROF_ALIMENTACAO: string (nullable = true)\n",
      " |-- IN_PROF_PEDAGOGIA: string (nullable = true)\n",
      " |-- QT_PROF_PEDAGOGIA: string (nullable = true)\n",
      " |-- IN_PROF_SECRETARIO: string (nullable = true)\n",
      " |-- QT_PROF_SECRETARIO: string (nullable = true)\n",
      " |-- IN_PROF_SEGURANCA: string (nullable = true)\n",
      " |-- QT_PROF_SEGURANCA: string (nullable = true)\n",
      " |-- IN_PROF_MONITORES: string (nullable = true)\n",
      " |-- QT_PROF_MONITORES: string (nullable = true)\n",
      " |-- IN_PROF_GESTAO: string (nullable = true)\n",
      " |-- QT_PROF_GESTAO: string (nullable = true)\n",
      " |-- IN_PROF_ASSIST_SOCIAL: string (nullable = true)\n",
      " |-- QT_PROF_ASSIST_SOCIAL: string (nullable = true)\n",
      " |-- IN_PROF_TRAD_LIBRAS: string (nullable = true)\n",
      " |-- QT_PROF_TRAD_LIBRAS: string (nullable = true)\n",
      " |-- IN_ALIMENTACAO: string (nullable = true)\n",
      " |-- IN_MATERIAL_PED_MULTIMIDIA: string (nullable = true)\n",
      " |-- IN_MATERIAL_PED_INFANTIL: string (nullable = true)\n",
      " |-- IN_MATERIAL_PED_CIENTIFICO: string (nullable = true)\n",
      " |-- IN_MATERIAL_PED_DIFUSAO: string (nullable = true)\n",
      " |-- IN_MATERIAL_PED_MUSICAL: string (nullable = true)\n",
      " |-- IN_MATERIAL_PED_JOGOS: string (nullable = true)\n",
      " |-- IN_MATERIAL_PED_ARTISTICAS: string (nullable = true)\n",
      " |-- IN_MATERIAL_PED_PROFISSIONAL: string (nullable = true)\n",
      " |-- IN_MATERIAL_PED_DESPORTIVA: string (nullable = true)\n",
      " |-- IN_MATERIAL_PED_INDIGENA: string (nullable = true)\n",
      " |-- IN_MATERIAL_PED_ETNICO: string (nullable = true)\n",
      " |-- IN_MATERIAL_PED_CAMPO: string (nullable = true)\n",
      " |-- IN_MATERIAL_PED_BIL_SURDOS: string (nullable = true)\n",
      " |-- IN_MATERIAL_PED_NENHUM: string (nullable = true)\n",
      " |-- IN_EDUCACAO_INDIGENA: string (nullable = true)\n",
      " |-- TP_INDIGENA_LINGUA: string (nullable = true)\n",
      " |-- CO_LINGUA_INDIGENA_1: string (nullable = true)\n",
      " |-- CO_LINGUA_INDIGENA_2: string (nullable = true)\n",
      " |-- CO_LINGUA_INDIGENA_3: string (nullable = true)\n",
      " |-- IN_EXAME_SELECAO: string (nullable = true)\n",
      " |-- IN_RESERVA_PPI: string (nullable = true)\n",
      " |-- IN_RESERVA_RENDA: string (nullable = true)\n",
      " |-- IN_RESERVA_PUBLICA: string (nullable = true)\n",
      " |-- IN_RESERVA_PCD: string (nullable = true)\n",
      " |-- IN_RESERVA_OUTROS: string (nullable = true)\n",
      " |-- IN_RESERVA_NENHUMA: string (nullable = true)\n",
      " |-- IN_REDES_SOCIAIS: string (nullable = true)\n",
      " |-- IN_ESPACO_ATIVIDADE: string (nullable = true)\n",
      " |-- IN_ESPACO_EQUIPAMENTO: string (nullable = true)\n",
      " |-- IN_ORGAO_ASS_PAIS: string (nullable = true)\n",
      " |-- IN_ORGAO_ASS_PAIS_MESTRES: string (nullable = true)\n",
      " |-- IN_ORGAO_CONSELHO_ESCOLAR: string (nullable = true)\n",
      " |-- IN_ORGAO_GREMIO_ESTUDANTIL: string (nullable = true)\n",
      " |-- IN_ORGAO_OUTROS: string (nullable = true)\n",
      " |-- IN_ORGAO_NENHUM: string (nullable = true)\n",
      " |-- TP_PROPOSTA_PEDAGOGICA: string (nullable = true)\n",
      " |-- TP_AEE: string (nullable = true)\n",
      " |-- TP_ATIVIDADE_COMPLEMENTAR: string (nullable = true)\n",
      " |-- IN_MEDIACAO_PRESENCIAL: string (nullable = true)\n",
      " |-- IN_MEDIACAO_SEMIPRESENCIAL: string (nullable = true)\n",
      " |-- IN_MEDIACAO_EAD: string (nullable = true)\n",
      " |-- IN_REGULAR: string (nullable = true)\n",
      " |-- IN_DIURNO: string (nullable = true)\n",
      " |-- IN_NOTURNO: string (nullable = true)\n",
      " |-- IN_EAD: string (nullable = true)\n",
      " |-- IN_ESCOLARIZACAO: string (nullable = true)\n",
      " |-- IN_INF: string (nullable = true)\n",
      " |-- IN_INF_CRE: string (nullable = true)\n",
      " |-- IN_INF_PRE: string (nullable = true)\n",
      " |-- IN_FUND: string (nullable = true)\n",
      " |-- IN_FUND_AI: string (nullable = true)\n",
      " |-- IN_FUND_AF: string (nullable = true)\n",
      " |-- IN_MED: string (nullable = true)\n",
      " |-- IN_PROF: string (nullable = true)\n",
      " |-- IN_PROF_TEC: string (nullable = true)\n",
      " |-- IN_EJA: string (nullable = true)\n",
      " |-- IN_EJA_FUND: string (nullable = true)\n",
      " |-- IN_EJA_MED: string (nullable = true)\n",
      " |-- IN_ESP: string (nullable = true)\n",
      " |-- IN_ESP_CC: string (nullable = true)\n",
      " |-- IN_ESP_CE: string (nullable = true)\n",
      " |-- QT_MAT_BAS: string (nullable = true)\n",
      " |-- QT_MAT_INF: string (nullable = true)\n",
      " |-- QT_MAT_INF_CRE: string (nullable = true)\n",
      " |-- QT_MAT_INF_PRE: string (nullable = true)\n",
      " |-- QT_MAT_FUND: string (nullable = true)\n",
      " |-- QT_MAT_FUND_AI: string (nullable = true)\n",
      " |-- QT_MAT_FUND_AI_1: string (nullable = true)\n",
      " |-- QT_MAT_FUND_AI_2: string (nullable = true)\n",
      " |-- QT_MAT_FUND_AI_3: string (nullable = true)\n",
      " |-- QT_MAT_FUND_AI_4: string (nullable = true)\n",
      " |-- QT_MAT_FUND_AI_5: string (nullable = true)\n",
      " |-- QT_MAT_FUND_AF: string (nullable = true)\n",
      " |-- QT_MAT_FUND_AF_6: string (nullable = true)\n",
      " |-- QT_MAT_FUND_AF_7: string (nullable = true)\n",
      " |-- QT_MAT_FUND_AF_8: string (nullable = true)\n",
      " |-- QT_MAT_FUND_AF_9: string (nullable = true)\n",
      " |-- QT_MAT_MED: string (nullable = true)\n",
      " |-- QT_MAT_MED_PROP: string (nullable = true)\n",
      " |-- QT_MAT_MED_PROP_1: string (nullable = true)\n",
      " |-- QT_MAT_MED_PROP_2: string (nullable = true)\n",
      " |-- QT_MAT_MED_PROP_3: string (nullable = true)\n",
      " |-- QT_MAT_MED_PROP_4: string (nullable = true)\n",
      " |-- QT_MAT_MED_PROP_NS: string (nullable = true)\n",
      " |-- QT_MAT_MED_CT: string (nullable = true)\n",
      " |-- QT_MAT_MED_CT_1: string (nullable = true)\n",
      " |-- QT_MAT_MED_CT_2: string (nullable = true)\n",
      " |-- QT_MAT_MED_CT_3: string (nullable = true)\n",
      " |-- QT_MAT_MED_CT_4: string (nullable = true)\n",
      " |-- QT_MAT_MED_CT_NS: string (nullable = true)\n",
      " |-- QT_MAT_MED_NM: string (nullable = true)\n",
      " |-- QT_MAT_MED_NM_1: string (nullable = true)\n",
      " |-- QT_MAT_MED_NM_2: string (nullable = true)\n",
      " |-- QT_MAT_MED_NM_3: string (nullable = true)\n",
      " |-- QT_MAT_MED_NM_4: string (nullable = true)\n",
      " |-- QT_MAT_PROF: string (nullable = true)\n",
      " |-- QT_MAT_PROF_TEC: string (nullable = true)\n",
      " |-- QT_MAT_PROF_TEC_CONC: string (nullable = true)\n",
      " |-- QT_MAT_PROF_TEC_SUBS: string (nullable = true)\n",
      " |-- QT_MAT_PROF_FIC_CONC: string (nullable = true)\n",
      " |-- QT_MAT_EJA: string (nullable = true)\n",
      " |-- QT_MAT_EJA_FUND: string (nullable = true)\n",
      " |-- QT_MAT_EJA_FUND_AI: string (nullable = true)\n",
      " |-- QT_MAT_EJA_FUND_AF: string (nullable = true)\n",
      " |-- QT_MAT_EJA_FUND_FIC: string (nullable = true)\n",
      " |-- QT_MAT_EJA_MED: string (nullable = true)\n",
      " |-- QT_MAT_EJA_MED_NPROF: string (nullable = true)\n",
      " |-- QT_MAT_EJA_MED_FIC: string (nullable = true)\n",
      " |-- QT_MAT_EJA_MED_TEC: string (nullable = true)\n",
      " |-- QT_MAT_ESP: string (nullable = true)\n",
      " |-- QT_MAT_ESP_CC: string (nullable = true)\n",
      " |-- QT_MAT_ESP_CE: string (nullable = true)\n",
      " |-- QT_MAT_BAS_FEM: string (nullable = true)\n",
      " |-- QT_MAT_BAS_MASC: string (nullable = true)\n",
      " |-- QT_MAT_BAS_ND: string (nullable = true)\n",
      " |-- QT_MAT_BAS_BRANCA: string (nullable = true)\n",
      " |-- QT_MAT_BAS_PRETA: string (nullable = true)\n",
      " |-- QT_MAT_BAS_PARDA: string (nullable = true)\n",
      " |-- QT_MAT_BAS_AMARELA: string (nullable = true)\n",
      " |-- QT_MAT_BAS_INDIGENA: string (nullable = true)\n",
      " |-- QT_MAT_BAS_0_3: string (nullable = true)\n",
      " |-- QT_MAT_BAS_4_5: string (nullable = true)\n",
      " |-- QT_MAT_BAS_6_10: string (nullable = true)\n",
      " |-- QT_MAT_BAS_11_14: string (nullable = true)\n",
      " |-- QT_MAT_BAS_15_17: string (nullable = true)\n",
      " |-- QT_MAT_BAS_18_MAIS: string (nullable = true)\n",
      " |-- QT_MAT_BAS_D: string (nullable = true)\n",
      " |-- QT_MAT_BAS_N: string (nullable = true)\n",
      " |-- QT_MAT_BAS_EAD: string (nullable = true)\n",
      " |-- QT_MAT_INF_INT: string (nullable = true)\n",
      " |-- QT_MAT_INF_CRE_INT: string (nullable = true)\n",
      " |-- QT_MAT_INF_PRE_INT: string (nullable = true)\n",
      " |-- QT_MAT_FUND_INT: string (nullable = true)\n",
      " |-- QT_MAT_FUND_AI_INT: string (nullable = true)\n",
      " |-- QT_MAT_FUND_AF_INT: string (nullable = true)\n",
      " |-- QT_MAT_MED_INT: string (nullable = true)\n",
      " |-- QT_MAT_ZR_URB: string (nullable = true)\n",
      " |-- QT_MAT_ZR_RUR: string (nullable = true)\n",
      " |-- QT_MAT_ZR_NA: string (nullable = true)\n",
      " |-- QT_TRANSP_PUBLICO: string (nullable = true)\n",
      " |-- QT_TRANSP_RESP_EST: string (nullable = true)\n",
      " |-- QT_TRANSP_RESP_MUN: string (nullable = true)\n",
      " |-- QT_DOC_BAS: string (nullable = true)\n",
      " |-- QT_DOC_INF: string (nullable = true)\n",
      " |-- QT_DOC_INF_CRE: string (nullable = true)\n",
      " |-- QT_DOC_INF_PRE: string (nullable = true)\n",
      " |-- QT_DOC_FUND: string (nullable = true)\n",
      " |-- QT_DOC_FUND_AI: string (nullable = true)\n",
      " |-- QT_DOC_FUND_AF: string (nullable = true)\n",
      " |-- QT_DOC_MED: string (nullable = true)\n",
      " |-- QT_DOC_PROF: string (nullable = true)\n",
      " |-- QT_DOC_PROF_TEC: string (nullable = true)\n",
      " |-- QT_DOC_EJA: string (nullable = true)\n",
      " |-- QT_DOC_EJA_FUND: string (nullable = true)\n",
      " |-- QT_DOC_EJA_MED: string (nullable = true)\n",
      " |-- QT_DOC_ESP: string (nullable = true)\n",
      " |-- QT_DOC_ESP_CC: string (nullable = true)\n",
      " |-- QT_DOC_ESP_CE: string (nullable = true)\n",
      " |-- QT_TUR_BAS: string (nullable = true)\n",
      " |-- QT_TUR_INF: string (nullable = true)\n",
      " |-- QT_TUR_INF_CRE: string (nullable = true)\n",
      " |-- QT_TUR_INF_PRE: string (nullable = true)\n",
      " |-- QT_TUR_FUND: string (nullable = true)\n",
      " |-- QT_TUR_FUND_AI: string (nullable = true)\n",
      " |-- QT_TUR_FUND_AF: string (nullable = true)\n",
      " |-- QT_TUR_MED: string (nullable = true)\n",
      " |-- QT_TUR_PROF: string (nullable = true)\n",
      " |-- QT_TUR_PROF_TEC: string (nullable = true)\n",
      " |-- QT_TUR_EJA: string (nullable = true)\n",
      " |-- QT_TUR_EJA_FUND: string (nullable = true)\n",
      " |-- QT_TUR_EJA_MED: string (nullable = true)\n",
      " |-- QT_TUR_ESP: string (nullable = true)\n",
      " |-- QT_TUR_ESP_CC: string (nullable = true)\n",
      " |-- QT_TUR_ESP_CE: string (nullable = true)\n",
      " |-- QT_TUR_BAS_D: string (nullable = true)\n",
      " |-- QT_TUR_BAS_N: string (nullable = true)\n",
      " |-- QT_TUR_BAS_EAD: string (nullable = true)\n",
      " |-- QT_TUR_INF_INT: string (nullable = true)\n",
      " |-- QT_TUR_INF_CRE_INT: string (nullable = true)\n",
      " |-- QT_TUR_INF_PRE_INT: string (nullable = true)\n",
      " |-- QT_TUR_FUND_INT: string (nullable = true)\n",
      " |-- QT_TUR_FUND_AI_INT: string (nullable = true)\n",
      " |-- QT_TUR_FUND_AF_INT: string (nullable = true)\n",
      " |-- QT_TUR_MED_INT: string (nullable = true)\n",
      "\n"
     ]
    },
    {
     "name": "stderr",
     "output_type": "stream",
     "text": [
      "\r",
      "                                                                                \r"
     ]
    }
   ],
   "source": [
    "pessoal.completudeSchema(censo)"
   ]
  },
  {
   "cell_type": "markdown",
   "id": "afc8e402",
   "metadata": {},
   "source": [
    "#### Criação de um identificador unico"
   ]
  },
  {
   "cell_type": "code",
   "execution_count": 4,
   "id": "f4b9ff0c",
   "metadata": {},
   "outputs": [
    {
     "name": "stderr",
     "output_type": "stream",
     "text": [
      "[Stage 7:>                                                          (0 + 1) / 1]\r"
     ]
    },
    {
     "name": "stdout",
     "output_type": "stream",
     "text": [
      "+-------------+-------------+\n",
      "|min(ID_UNICO)|max(ID_UNICO)|\n",
      "+-------------+-------------+\n",
      "|            1|       217625|\n",
      "+-------------+-------------+\n",
      "\n"
     ]
    },
    {
     "name": "stderr",
     "output_type": "stream",
     "text": [
      "\r",
      "                                                                                \r"
     ]
    }
   ],
   "source": [
    "censo = createId(censo, 'ID_UNICO')\n",
    "censo.select(F.min(F.col('ID_UNICO')), F.max(F.col('ID_UNICO'))).show()"
   ]
  },
  {
   "cell_type": "markdown",
   "id": "bb95d006",
   "metadata": {},
   "source": [
    "#### Escolha de variáveis"
   ]
  },
  {
   "cell_type": "code",
   "execution_count": 5,
   "id": "d994f292",
   "metadata": {},
   "outputs": [
    {
     "name": "stderr",
     "output_type": "stream",
     "text": [
      "                                                                                \r"
     ]
    },
    {
     "name": "stdout",
     "output_type": "stream",
     "text": [
      "Qtd. registros: 217625 | Quantidade de colunas:  14\n",
      "ID_UNICO\n"
     ]
    },
    {
     "name": "stderr",
     "output_type": "stream",
     "text": [
      "                                                                                \r"
     ]
    },
    {
     "name": "stdout",
     "output_type": "stream",
     "text": [
      "+--------+-----+\n",
      "|ID_UNICO|count|\n",
      "+--------+-----+\n",
      "|       1|    1|\n",
      "|       2|    1|\n",
      "|       3|    1|\n",
      "|       4|    1|\n",
      "|       5|    1|\n",
      "|       6|    1|\n",
      "|       7|    1|\n",
      "|       8|    1|\n",
      "|       9|    1|\n",
      "|      10|    1|\n",
      "|      11|    1|\n",
      "|      12|    1|\n",
      "|      13|    1|\n",
      "|      14|    1|\n",
      "|      15|    1|\n",
      "|      16|    1|\n",
      "|      17|    1|\n",
      "|      18|    1|\n",
      "|      19|    1|\n",
      "|      20|    1|\n",
      "+--------+-----+\n",
      "only showing top 20 rows\n",
      "\n",
      "NO_REGIAO\n"
     ]
    },
    {
     "name": "stderr",
     "output_type": "stream",
     "text": [
      "                                                                                \r"
     ]
    },
    {
     "name": "stdout",
     "output_type": "stream",
     "text": [
      "+------------+-----+\n",
      "|   NO_REGIAO|count|\n",
      "+------------+-----+\n",
      "|Centro-Oeste|11459|\n",
      "|    Nordeste|76348|\n",
      "|       Norte|25498|\n",
      "|     Sudeste|75658|\n",
      "|         Sul|28662|\n",
      "+------------+-----+\n",
      "\n",
      "SG_UF\n"
     ]
    },
    {
     "name": "stderr",
     "output_type": "stream",
     "text": [
      "                                                                                \r"
     ]
    },
    {
     "name": "stdout",
     "output_type": "stream",
     "text": [
      "+-----+-----+\n",
      "|SG_UF|count|\n",
      "+-----+-----+\n",
      "|   AC| 1658|\n",
      "|   AL| 3473|\n",
      "|   AM| 6148|\n",
      "|   AP|  950|\n",
      "|   BA|19611|\n",
      "|   CE|10648|\n",
      "|   DF| 1319|\n",
      "|   ES| 4037|\n",
      "|   GO| 5047|\n",
      "|   MA|13635|\n",
      "|   MG|24293|\n",
      "|   MS| 1939|\n",
      "|   MT| 3154|\n",
      "|   PA|12092|\n",
      "|   PB| 5479|\n",
      "|   PE|10219|\n",
      "|   PI| 5849|\n",
      "|   PR| 9999|\n",
      "|   RJ|13229|\n",
      "|   RN| 4867|\n",
      "+-----+-----+\n",
      "only showing top 20 rows\n",
      "\n",
      "NO_MUNICIPIO\n"
     ]
    },
    {
     "name": "stderr",
     "output_type": "stream",
     "text": [
      "                                                                                \r"
     ]
    },
    {
     "name": "stdout",
     "output_type": "stream",
     "text": [
      "+-------------------+-----+\n",
      "|       NO_MUNICIPIO|count|\n",
      "+-------------------+-----+\n",
      "|    Abadia de Goiás|    9|\n",
      "|Abadia dos Dourados|    8|\n",
      "|          Abadiânia|   13|\n",
      "|         Abaetetuba|  212|\n",
      "|             Abaeté|   24|\n",
      "|            Abaiara|   18|\n",
      "|              Abaré|   45|\n",
      "|             Abatiá|    6|\n",
      "|             Abaíra|    8|\n",
      "|      Abdon Batista|    7|\n",
      "|    Abel Figueiredo|   13|\n",
      "|       Abelardo Luz|   23|\n",
      "|         Abre Campo|   19|\n",
      "|       Abreu e Lima|   95|\n",
      "|        Abreulândia|    6|\n",
      "|            Acaiaca|    8|\n",
      "|          Acajutiba|   32|\n",
      "|            Acarape|   17|\n",
      "|             Acaraú|   60|\n",
      "|              Acari|   20|\n",
      "+-------------------+-----+\n",
      "only showing top 20 rows\n",
      "\n",
      "NO_ENTIDADE\n"
     ]
    },
    {
     "name": "stderr",
     "output_type": "stream",
     "text": [
      "                                                                                \r"
     ]
    },
    {
     "name": "stdout",
     "output_type": "stream",
     "text": [
      "+--------------------+-----+\n",
      "|         NO_ENTIDADE|count|\n",
      "+--------------------+-----+\n",
      "|0101001 EM VICENT...|    1|\n",
      "|0101003 EM DARCY ...|    1|\n",
      "|0101004 EM BENJAM...|    1|\n",
      "|0101005 EM GENERA...|    1|\n",
      "|0101006 EM FRANCI...|    1|\n",
      "|0101007 EM MARECH...|    1|\n",
      "|0101008 EM MARECH...|    1|\n",
      "|0101009 EM PROFES...|    1|\n",
      "|0101011 EM FELIX ...|    1|\n",
      "|0101012 EM PROFES...|    1|\n",
      "| 0101501 CIEP HENFIL|    1|\n",
      "|0101601 CM LADEIR...|    1|\n",
      "|0101602 CM VIRGIN...|    1|\n",
      "| 0101603 CM SENNINHA|    1|\n",
      "|0101604 CM SEMPRE...|    1|\n",
      "|0101605 CM CLEMEN...|    1|\n",
      "|0101606 CM QUINTA...|    1|\n",
      "| 0101607 CM TIA DORA|    1|\n",
      "|0101801 EDI PARQU...|    1|\n",
      "|0101802 EDI MACHA...|    1|\n",
      "+--------------------+-----+\n",
      "only showing top 20 rows\n",
      "\n",
      "TP_DEPENDENCIA\n"
     ]
    },
    {
     "name": "stderr",
     "output_type": "stream",
     "text": [
      "                                                                                \r"
     ]
    },
    {
     "name": "stdout",
     "output_type": "stream",
     "text": [
      "+--------------+------+\n",
      "|TP_DEPENDENCIA| count|\n",
      "+--------------+------+\n",
      "|             1|   725|\n",
      "|             2| 33546|\n",
      "|             3|130709|\n",
      "|             4| 52645|\n",
      "+--------------+------+\n",
      "\n",
      "TP_LOCALIZACAO\n"
     ]
    },
    {
     "name": "stderr",
     "output_type": "stream",
     "text": [
      "                                                                                \r"
     ]
    },
    {
     "name": "stdout",
     "output_type": "stream",
     "text": [
      "+--------------+------+\n",
      "|TP_LOCALIZACAO| count|\n",
      "+--------------+------+\n",
      "|             1|144162|\n",
      "|             2| 73463|\n",
      "+--------------+------+\n",
      "\n",
      "TP_LOCALIZACAO_DIFERENCIADA\n"
     ]
    },
    {
     "name": "stderr",
     "output_type": "stream",
     "text": [
      "                                                                                \r"
     ]
    },
    {
     "name": "stdout",
     "output_type": "stream",
     "text": [
      "+---------------------------+------+\n",
      "|TP_LOCALIZACAO_DIFERENCIADA| count|\n",
      "+---------------------------+------+\n",
      "|                       null| 37395|\n",
      "|                          0|168720|\n",
      "|                          1|  4553|\n",
      "|                          2|  3589|\n",
      "|                          3|  2602|\n",
      "|                          8|   766|\n",
      "+---------------------------+------+\n",
      "\n",
      "TP_SITUACAO_FUNCIONAMENTO\n"
     ]
    },
    {
     "name": "stderr",
     "output_type": "stream",
     "text": [
      "                                                                                \r"
     ]
    },
    {
     "name": "stdout",
     "output_type": "stream",
     "text": [
      "+-------------------------+------+\n",
      "|TP_SITUACAO_FUNCIONAMENTO| count|\n",
      "+-------------------------+------+\n",
      "|                        1|180230|\n",
      "|                        2| 32083|\n",
      "|                        3|  5312|\n",
      "+-------------------------+------+\n",
      "\n",
      "IN_INTERNET\n"
     ]
    },
    {
     "name": "stderr",
     "output_type": "stream",
     "text": [
      "                                                                                \r"
     ]
    },
    {
     "name": "stdout",
     "output_type": "stream",
     "text": [
      "+-----------+------+\n",
      "|IN_INTERNET| count|\n",
      "+-----------+------+\n",
      "|       null| 37395|\n",
      "|          0| 16375|\n",
      "|          1|163855|\n",
      "+-----------+------+\n",
      "\n",
      "IN_INTERNET_ALUNOS\n"
     ]
    },
    {
     "name": "stderr",
     "output_type": "stream",
     "text": [
      "                                                                                \r"
     ]
    },
    {
     "name": "stdout",
     "output_type": "stream",
     "text": [
      "+------------------+------+\n",
      "|IN_INTERNET_ALUNOS| count|\n",
      "+------------------+------+\n",
      "|              null| 37395|\n",
      "|                 0|107148|\n",
      "|                 1| 73082|\n",
      "+------------------+------+\n",
      "\n",
      "IN_ALIMENTACAO\n"
     ]
    },
    {
     "name": "stderr",
     "output_type": "stream",
     "text": [
      "                                                                                \r"
     ]
    },
    {
     "name": "stdout",
     "output_type": "stream",
     "text": [
      "+--------------+------+\n",
      "|IN_ALIMENTACAO| count|\n",
      "+--------------+------+\n",
      "|          null| 37395|\n",
      "|             0| 28828|\n",
      "|             1|151402|\n",
      "+--------------+------+\n",
      "\n",
      "IN_EDUCACAO_INDIGENA\n"
     ]
    },
    {
     "name": "stderr",
     "output_type": "stream",
     "text": [
      "                                                                                \r"
     ]
    },
    {
     "name": "stdout",
     "output_type": "stream",
     "text": [
      "+--------------------+------+\n",
      "|IN_EDUCACAO_INDIGENA| count|\n",
      "+--------------------+------+\n",
      "|                null| 37395|\n",
      "|                   0|176602|\n",
      "|                   1|  3628|\n",
      "+--------------------+------+\n",
      "\n",
      "TP_INDIGENA_LINGUA\n"
     ]
    },
    {
     "name": "stderr",
     "output_type": "stream",
     "text": [
      "\r",
      "[Stage 52:>                                                         (0 + 1) / 1]\r"
     ]
    },
    {
     "name": "stdout",
     "output_type": "stream",
     "text": [
      "+------------------+------+\n",
      "|TP_INDIGENA_LINGUA| count|\n",
      "+------------------+------+\n",
      "|              null|213997|\n",
      "|                 1|   151|\n",
      "|                 2|   938|\n",
      "|                 3|  2539|\n",
      "+------------------+------+\n",
      "\n",
      "Tempo de execucao: 0:00:47.059648\n"
     ]
    },
    {
     "name": "stderr",
     "output_type": "stream",
     "text": [
      "\r",
      "                                                                                \r"
     ]
    }
   ],
   "source": [
    "analise2 = censo.select('ID_UNICO', 'NO_REGIAO', 'SG_UF', 'NO_MUNICIPIO', 'NO_ENTIDADE', 'TP_DEPENDENCIA', 'TP_LOCALIZACAO', 'TP_LOCALIZACAO_DIFERENCIADA', 'TP_SITUACAO_FUNCIONAMENTO', 'IN_INTERNET', 'IN_INTERNET_ALUNOS', 'IN_ALIMENTACAO', 'IN_EDUCACAO_INDIGENA', 'TP_INDIGENA_LINGUA')\n",
    "completude(analise2)\n",
    "\n",
    "for col in analise2.columns:\n",
    "    print(col)\n",
    "    analise2.groupBy(col).count().orderBy(F.col(col).asc()).show()\n",
    "printTimer()"
   ]
  },
  {
   "cell_type": "markdown",
   "id": "c845cf54",
   "metadata": {},
   "source": [
    "#### Tratamento das variáveis\n",
    "\n",
    "- Remoção de numerações no nome da escola\n",
    "- Transformando numerações em categorias"
   ]
  },
  {
   "cell_type": "code",
   "execution_count": 6,
   "id": "b8ab385e",
   "metadata": {},
   "outputs": [
    {
     "name": "stderr",
     "output_type": "stream",
     "text": [
      "                                                                                \r"
     ]
    },
    {
     "name": "stdout",
     "output_type": "stream",
     "text": [
      "Quantidade de registros que iniciam com numerações que não fazem parte do nome:  1771\n"
     ]
    },
    {
     "name": "stderr",
     "output_type": "stream",
     "text": [
      "\r",
      "[Stage 58:>                                                         (0 + 1) / 1]\r"
     ]
    },
    {
     "name": "stdout",
     "output_type": "stream",
     "text": [
      "+--------------------------------------------------------+\n",
      "|NO_ENTIDADE                                             |\n",
      "+--------------------------------------------------------+\n",
      "|29092191 - COLEGIO ESTADUAL DOM PEDRO II TEMPO INTEGRAL |\n",
      "|0101501 CIEP HENFIL                                     |\n",
      "|0101803 EDI ANTONIO RAPOSO TAVARES                      |\n",
      "|0101004 EM BENJAMIM CONSTANT                            |\n",
      "|0101003 EM DARCY VARGAS                                 |\n",
      "|0101006 EM FRANCISCO BENJAMIN GALLOTTI                  |\n",
      "|0101005 EM GENERAL MITRE                                |\n",
      "|0101008 EM MARECHAL ESPERIDIAO ROSAS                    |\n",
      "|0101007 EM MARECHAL MASCARENHAS DE MORAES               |\n",
      "|0101012 EM PROFESSORA LAURA SYLVIA MENDES PEREIRA       |\n",
      "|0101009 EM PROFESSOR WALTER CARLOS DE MAGALHAES FRAENKEL|\n",
      "|0101001 EM VICENTE LICINIO CARDOSO                      |\n",
      "|0102503 CIEP AVENIDA DOS DESFILES II                    |\n",
      "|0102502 CIEP AVENIDA DOS DESFILES I                     |\n",
      "|0102505 CIEP JOSE PEDRO VARELA                          |\n",
      "|0102504 CIEP AVENIDA DOS DESFILES                       |\n",
      "|0102501 EM TIA CIATA                                    |\n",
      "|0102005 EM CALOUSTE GULBENKIAN                          |\n",
      "|0102001 EM CELESTINO DA SILVA                           |\n",
      "|0102802 EDI CAMPOS SALLES                               |\n",
      "+--------------------------------------------------------+\n",
      "only showing top 20 rows\n",
      "\n"
     ]
    },
    {
     "name": "stderr",
     "output_type": "stream",
     "text": [
      "\r",
      "                                                                                \r"
     ]
    }
   ],
   "source": [
    "print('Quantidade de registros que iniciam com numerações que não fazem parte do nome: ', analise2.filter(F.col(\"NO_ENTIDADE\").rlike(\"^(\\d+\\.?){3,}\")).count())\n",
    "\n",
    "analise2.filter(F.col(\"NO_ENTIDADE\").rlike(\"^(\\d+\\.?){3,}\")).select(\"NO_ENTIDADE\").show(truncate=False)"
   ]
  },
  {
   "cell_type": "code",
   "execution_count": 7,
   "id": "66c6b354",
   "metadata": {},
   "outputs": [
    {
     "name": "stdout",
     "output_type": "stream",
     "text": [
      "Validando as modificações: \n"
     ]
    },
    {
     "name": "stderr",
     "output_type": "stream",
     "text": [
      "\r",
      "[Stage 59:>                                                         (0 + 1) / 1]\r"
     ]
    },
    {
     "name": "stdout",
     "output_type": "stream",
     "text": [
      "+--------------------------------------------------------+------------------------------------------------+\n",
      "|NO_ENTIDADE                                             |NOME_ENTIDADE                                   |\n",
      "+--------------------------------------------------------+------------------------------------------------+\n",
      "|29092191 - COLEGIO ESTADUAL DOM PEDRO II TEMPO INTEGRAL |COLEGIO ESTADUAL DOM PEDRO II TEMPO INTEGRAL    |\n",
      "|0101501 CIEP HENFIL                                     |CIEP HENFIL                                     |\n",
      "|0101803 EDI ANTONIO RAPOSO TAVARES                      |EDI ANTONIO RAPOSO TAVARES                      |\n",
      "|0101004 EM BENJAMIM CONSTANT                            |EM BENJAMIM CONSTANT                            |\n",
      "|0101003 EM DARCY VARGAS                                 |EM DARCY VARGAS                                 |\n",
      "|0101006 EM FRANCISCO BENJAMIN GALLOTTI                  |EM FRANCISCO BENJAMIN GALLOTTI                  |\n",
      "|0101005 EM GENERAL MITRE                                |EM GENERAL MITRE                                |\n",
      "|0101008 EM MARECHAL ESPERIDIAO ROSAS                    |EM MARECHAL ESPERIDIAO ROSAS                    |\n",
      "|0101007 EM MARECHAL MASCARENHAS DE MORAES               |EM MARECHAL MASCARENHAS DE MORAES               |\n",
      "|0101012 EM PROFESSORA LAURA SYLVIA MENDES PEREIRA       |EM PROFESSORA LAURA SYLVIA MENDES PEREIRA       |\n",
      "|0101009 EM PROFESSOR WALTER CARLOS DE MAGALHAES FRAENKEL|EM PROFESSOR WALTER CARLOS DE MAGALHAES FRAENKEL|\n",
      "|0101001 EM VICENTE LICINIO CARDOSO                      |EM VICENTE LICINIO CARDOSO                      |\n",
      "|0102503 CIEP AVENIDA DOS DESFILES II                    |CIEP AVENIDA DOS DESFILES II                    |\n",
      "|0102502 CIEP AVENIDA DOS DESFILES I                     |CIEP AVENIDA DOS DESFILES I                     |\n",
      "|0102505 CIEP JOSE PEDRO VARELA                          |CIEP JOSE PEDRO VARELA                          |\n",
      "|0102504 CIEP AVENIDA DOS DESFILES                       |CIEP AVENIDA DOS DESFILES                       |\n",
      "|0102501 EM TIA CIATA                                    |EM TIA CIATA                                    |\n",
      "|0102005 EM CALOUSTE GULBENKIAN                          |EM CALOUSTE GULBENKIAN                          |\n",
      "|0102001 EM CELESTINO DA SILVA                           |EM CELESTINO DA SILVA                           |\n",
      "|0102802 EDI CAMPOS SALLES                               |EDI CAMPOS SALLES                               |\n",
      "+--------------------------------------------------------+------------------------------------------------+\n",
      "only showing top 20 rows\n",
      "\n"
     ]
    },
    {
     "name": "stderr",
     "output_type": "stream",
     "text": [
      "\r",
      "                                                                                \r"
     ]
    }
   ],
   "source": [
    "# substituição das numerações por vázio\n",
    "analise2 = analise2.withColumn(\"NOME_ENTIDADE\", F.regexp_replace(F.col(\"NO_ENTIDADE\"), \"^(\\d+\\.?){3,} (- )?\", ''))\n",
    "\n",
    "print('Validando as modificações: ')\n",
    "analise2.filter(F.col(\"NO_ENTIDADE\").rlike(\"^(\\d+\\.?){3,}\")).select(\"NO_ENTIDADE\", \"NOME_ENTIDADE\").show(truncate=False)\n",
    "\n",
    "#removendo a variável anterior\n",
    "analise2 = analise2.drop('NO_ENTIDADE')"
   ]
  },
  {
   "cell_type": "markdown",
   "id": "0a6b4e3d",
   "metadata": {},
   "source": [
    "#### Criação e aplicação de dicionário"
   ]
  },
  {
   "cell_type": "code",
   "execution_count": 8,
   "id": "0bc30448",
   "metadata": {},
   "outputs": [],
   "source": [
    "from pyspark.sql import functions as F\n",
    "from itertools import chain\n",
    "\n",
    "mapas = {\n",
    "    \"TP_DEPENDENCIA\" : {1: \"Federal\", 2: \"Estadual\", 3: \"Municipal\", 4: \"Privada\"},\n",
    "    \"TP_LOCALIZACAO\" : {1: \"Urbana\", 2: \"Rural\"},\n",
    "    \"TP_LOCALIZACAO_DIFERENCIADA\" : {0: \"Não se aplica\", 1: \"Área de assentamento\", 2: \"Terra índigena\", 3: \"comunidade remanescente de quilombos\", 4: \"comunidades tradicionais\"},\n",
    "    \"TP_SITUACAO_FUNCIONAMENTO\" : {1: \"Em atividade\", 2: \"Paralisada\", 3: \"Extinta (ano do censo)\", 4: \"Extinta (anos anteriores)\"},\n",
    "    \"IN_INTERNET\" : {0: \"Não\", 1: \"Sim\"},\n",
    "    \"IN_INTERNET_ALUNOS\" : {0: \"Não\", 1: \"Sim\"},\n",
    "    \"IN_ALIMENTACAO\" : {0: \"Não oferece\", 1: \"Oferece\"},\n",
    "    \"IN_EDUCACAO_INDIGENA\" : {0: \"Não\", 1: \"Sim\"},\n",
    "    \"TP_INDIGENA_LINGUA\" : {1: \"Somente em Língua Indígena\", 2: \"Somente em Língua Portuguesa\", 3: \"Língua Indígena e Portuguesa\", 4: \"Não aplicável\"},\n",
    "}"
   ]
  },
  {
   "cell_type": "code",
   "execution_count": 9,
   "id": "2eb35749",
   "metadata": {},
   "outputs": [],
   "source": [
    "analise_final = analise2\n",
    "for col, dic in mapas.items():\n",
    "    mapping_expr = F.create_map([F.lit(x) for x in chain(*dic.items())])\n",
    "    analise_final = analise_final.withColumn(col, mapping_expr[F.col(col)])"
   ]
  },
  {
   "cell_type": "code",
   "execution_count": null,
   "id": "d861e8bc",
   "metadata": {
    "scrolled": true
   },
   "outputs": [
    {
     "name": "stdout",
     "output_type": "stream",
     "text": [
      "ID_UNICO\n"
     ]
    },
    {
     "name": "stderr",
     "output_type": "stream",
     "text": [
      "                                                                                \r"
     ]
    },
    {
     "name": "stdout",
     "output_type": "stream",
     "text": [
      "+--------+-----+\n",
      "|ID_UNICO|count|\n",
      "+--------+-----+\n",
      "|       1|    1|\n",
      "|       2|    1|\n",
      "|       3|    1|\n",
      "|       4|    1|\n",
      "|       5|    1|\n",
      "|       6|    1|\n",
      "|       7|    1|\n",
      "|       8|    1|\n",
      "|       9|    1|\n",
      "|      10|    1|\n",
      "|      11|    1|\n",
      "|      12|    1|\n",
      "|      13|    1|\n",
      "|      14|    1|\n",
      "|      15|    1|\n",
      "|      16|    1|\n",
      "|      17|    1|\n",
      "|      18|    1|\n",
      "|      19|    1|\n",
      "|      20|    1|\n",
      "+--------+-----+\n",
      "only showing top 20 rows\n",
      "\n",
      "NO_REGIAO\n"
     ]
    },
    {
     "name": "stderr",
     "output_type": "stream",
     "text": [
      "                                                                                \r"
     ]
    },
    {
     "name": "stdout",
     "output_type": "stream",
     "text": [
      "+------------+-----+\n",
      "|   NO_REGIAO|count|\n",
      "+------------+-----+\n",
      "|Centro-Oeste|11459|\n",
      "|    Nordeste|76348|\n",
      "|       Norte|25498|\n",
      "|     Sudeste|75658|\n",
      "|         Sul|28662|\n",
      "+------------+-----+\n",
      "\n",
      "SG_UF\n"
     ]
    },
    {
     "name": "stderr",
     "output_type": "stream",
     "text": [
      "                                                                                \r"
     ]
    },
    {
     "name": "stdout",
     "output_type": "stream",
     "text": [
      "+-----+-----+\n",
      "|SG_UF|count|\n",
      "+-----+-----+\n",
      "|   AC| 1658|\n",
      "|   AL| 3473|\n",
      "|   AM| 6148|\n",
      "|   AP|  950|\n",
      "|   BA|19611|\n",
      "|   CE|10648|\n",
      "|   DF| 1319|\n",
      "|   ES| 4037|\n",
      "|   GO| 5047|\n",
      "|   MA|13635|\n",
      "|   MG|24293|\n",
      "|   MS| 1939|\n",
      "|   MT| 3154|\n",
      "|   PA|12092|\n",
      "|   PB| 5479|\n",
      "|   PE|10219|\n",
      "|   PI| 5849|\n",
      "|   PR| 9999|\n",
      "|   RJ|13229|\n",
      "|   RN| 4867|\n",
      "+-----+-----+\n",
      "only showing top 20 rows\n",
      "\n",
      "NO_MUNICIPIO\n"
     ]
    },
    {
     "name": "stderr",
     "output_type": "stream",
     "text": [
      "                                                                                \r"
     ]
    },
    {
     "name": "stdout",
     "output_type": "stream",
     "text": [
      "+-------------------+-----+\n",
      "|       NO_MUNICIPIO|count|\n",
      "+-------------------+-----+\n",
      "|    Abadia de Goiás|    9|\n",
      "|Abadia dos Dourados|    8|\n",
      "|          Abadiânia|   13|\n",
      "|         Abaetetuba|  212|\n",
      "|             Abaeté|   24|\n",
      "|            Abaiara|   18|\n",
      "|              Abaré|   45|\n",
      "|             Abatiá|    6|\n",
      "|             Abaíra|    8|\n",
      "|      Abdon Batista|    7|\n",
      "|    Abel Figueiredo|   13|\n",
      "|       Abelardo Luz|   23|\n",
      "|         Abre Campo|   19|\n",
      "|       Abreu e Lima|   95|\n",
      "|        Abreulândia|    6|\n",
      "|            Acaiaca|    8|\n",
      "|          Acajutiba|   32|\n",
      "|            Acarape|   17|\n",
      "|             Acaraú|   60|\n",
      "|              Acari|   20|\n",
      "+-------------------+-----+\n",
      "only showing top 20 rows\n",
      "\n",
      "TP_DEPENDENCIA\n"
     ]
    },
    {
     "name": "stderr",
     "output_type": "stream",
     "text": [
      "                                                                                \r"
     ]
    },
    {
     "name": "stdout",
     "output_type": "stream",
     "text": [
      "+--------------+------+\n",
      "|TP_DEPENDENCIA| count|\n",
      "+--------------+------+\n",
      "|      Estadual| 33546|\n",
      "|       Federal|   725|\n",
      "|     Municipal|130709|\n",
      "|       Privada| 52645|\n",
      "+--------------+------+\n",
      "\n",
      "TP_LOCALIZACAO\n"
     ]
    },
    {
     "name": "stderr",
     "output_type": "stream",
     "text": [
      "                                                                                \r"
     ]
    },
    {
     "name": "stdout",
     "output_type": "stream",
     "text": [
      "+--------------+------+\n",
      "|TP_LOCALIZACAO| count|\n",
      "+--------------+------+\n",
      "|         Rural| 73463|\n",
      "|        Urbana|144162|\n",
      "+--------------+------+\n",
      "\n",
      "TP_LOCALIZACAO_DIFERENCIADA\n"
     ]
    },
    {
     "name": "stderr",
     "output_type": "stream",
     "text": [
      "                                                                                \r"
     ]
    },
    {
     "name": "stdout",
     "output_type": "stream",
     "text": [
      "+---------------------------+------+\n",
      "|TP_LOCALIZACAO_DIFERENCIADA| count|\n",
      "+---------------------------+------+\n",
      "|                       null| 38161|\n",
      "|              Não se aplica|168720|\n",
      "|             Terra índigena|  3589|\n",
      "|       comunidade remane...|  2602|\n",
      "|       Área de assentamento|  4553|\n",
      "+---------------------------+------+\n",
      "\n",
      "TP_SITUACAO_FUNCIONAMENTO\n"
     ]
    },
    {
     "name": "stderr",
     "output_type": "stream",
     "text": [
      "                                                                                \r"
     ]
    },
    {
     "name": "stdout",
     "output_type": "stream",
     "text": [
      "+-------------------------+------+\n",
      "|TP_SITUACAO_FUNCIONAMENTO| count|\n",
      "+-------------------------+------+\n",
      "|             Em atividade|180230|\n",
      "|     Extinta (ano do c...|  5312|\n",
      "|               Paralisada| 32083|\n",
      "+-------------------------+------+\n",
      "\n",
      "IN_INTERNET\n"
     ]
    },
    {
     "name": "stderr",
     "output_type": "stream",
     "text": [
      "                                                                                \r"
     ]
    },
    {
     "name": "stdout",
     "output_type": "stream",
     "text": [
      "+-----------+------+\n",
      "|IN_INTERNET| count|\n",
      "+-----------+------+\n",
      "|       null| 37395|\n",
      "|        Não| 16375|\n",
      "|        Sim|163855|\n",
      "+-----------+------+\n",
      "\n",
      "IN_INTERNET_ALUNOS\n"
     ]
    },
    {
     "name": "stderr",
     "output_type": "stream",
     "text": [
      "                                                                                \r"
     ]
    },
    {
     "name": "stdout",
     "output_type": "stream",
     "text": [
      "+------------------+------+\n",
      "|IN_INTERNET_ALUNOS| count|\n",
      "+------------------+------+\n",
      "|              null| 37395|\n",
      "|               Não|107148|\n",
      "|               Sim| 73082|\n",
      "+------------------+------+\n",
      "\n",
      "IN_ALIMENTACAO\n"
     ]
    },
    {
     "name": "stderr",
     "output_type": "stream",
     "text": [
      "                                                                                \r"
     ]
    },
    {
     "name": "stdout",
     "output_type": "stream",
     "text": [
      "+--------------+------+\n",
      "|IN_ALIMENTACAO| count|\n",
      "+--------------+------+\n",
      "|          null| 37395|\n",
      "|   Não oferece| 28828|\n",
      "|       Oferece|151402|\n",
      "+--------------+------+\n",
      "\n",
      "IN_EDUCACAO_INDIGENA\n"
     ]
    }
   ],
   "source": [
    "for col in analise_final.columns:\n",
    "    print(col)\n",
    "    analise_final.groupBy(col).count().orderBy(F.col(col).asc()).show()"
   ]
  },
  {
   "cell_type": "code",
   "execution_count": null,
   "id": "626058a9",
   "metadata": {
    "scrolled": true
   },
   "outputs": [],
   "source": [
    "analise_final = analise_final.withColumnRenamed('NOME_ENTIDADE', 'NO_ENTIDADE')\n",
    "pessoal.completudeSchema(analise_final)"
   ]
  },
  {
   "cell_type": "markdown",
   "id": "a63b7472",
   "metadata": {},
   "source": [
    "#### Escrita"
   ]
  },
  {
   "cell_type": "code",
   "execution_count": null,
   "id": "defd3a56",
   "metadata": {
    "scrolled": true
   },
   "outputs": [],
   "source": [
    "writeSingleCsv(analise2, write_path)"
   ]
  },
  {
   "cell_type": "markdown",
   "id": "984f94c5",
   "metadata": {},
   "source": [
    "### Finalização do notebook"
   ]
  },
  {
   "cell_type": "code",
   "execution_count": null,
   "id": "37ccea25",
   "metadata": {},
   "outputs": [],
   "source": [
    "executionTime()"
   ]
  },
  {
   "cell_type": "code",
   "execution_count": null,
   "id": "de11307f",
   "metadata": {},
   "outputs": [],
   "source": [
    "sc.stop()"
   ]
  }
 ],
 "metadata": {
  "kernelspec": {
   "display_name": "Python 3 (ipykernel)",
   "language": "python",
   "name": "python3"
  },
  "language_info": {
   "codemirror_mode": {
    "name": "ipython",
    "version": 3
   },
   "file_extension": ".py",
   "mimetype": "text/x-python",
   "name": "python",
   "nbconvert_exporter": "python",
   "pygments_lexer": "ipython3",
   "version": "3.9.7"
  }
 },
 "nbformat": 4,
 "nbformat_minor": 5
}
