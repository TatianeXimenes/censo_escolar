{
 "cells": [
  {
   "cell_type": "code",
   "execution_count": 1,
   "id": "c61d3daa",
   "metadata": {},
   "outputs": [
    {
     "name": "stdout",
     "output_type": "stream",
     "text": [
      "Tempo inicial da execucao: 2025-06-30 17:26:33.624612\n",
      "User: tatiane\n",
      "Node: Inspiron-3583\n",
      "AppID:  local-1751315180547\n"
     ]
    }
   ],
   "source": [
    "import sys, os, time, getpass\n",
    "\n",
    "sys.path.append(\"/home/tatiane/lib/\")\n",
    "\n",
    "import pessoal\n",
    "from pessoal import *\n",
    "print('AppID: ', sc.applicationId)\n",
    "\n",
    "# Pedir ao spark para exibir só erros, escondendo avisos (WARN) e infos\n",
    "# O correto é resolver a causa como, por exemplo: ordenados = Window.partitionBy().orderBy(dfs[i].columns[0])\n",
    "spark.sparkContext.setLogLevel(\"ERROR\")"
   ]
  },
  {
   "cell_type": "markdown",
   "id": "75d6ff8b",
   "metadata": {},
   "source": [
    "# Censo escolar 2023"
   ]
  },
  {
   "cell_type": "code",
   "execution_count": 2,
   "id": "35923a71",
   "metadata": {},
   "outputs": [
    {
     "name": "stderr",
     "output_type": "stream",
     "text": [
      "                                                                                \r"
     ]
    }
   ],
   "source": [
    "# Leitura com encoding apropriado para o conteúdo da base\n",
    "censo = spark.read.csv('/home/tatiane/Documentos/censo_escolar2/projeto_2/microdados_censo_escolar_2023/dados/microdados_ed_basica_2023.csv', header = True, multiLine = True, sep = ';', encoding=\"latin1\")\n",
    "write_path = '/home/tatiane/Documentos/censo_escolar2/projeto_2/analise3/'"
   ]
  },
  {
   "cell_type": "code",
   "execution_count": 3,
   "id": "10f0a27d",
   "metadata": {},
   "outputs": [
    {
     "name": "stderr",
     "output_type": "stream",
     "text": [
      "\r",
      "[Stage 1:>                                                          (0 + 1) / 1]\r"
     ]
    },
    {
     "name": "stdout",
     "output_type": "stream",
     "text": [
      "Qtd. registros: 217625 | Quantidade de colunas:  408\n",
      "root\n",
      " |-- NU_ANO_CENSO: string (nullable = true)\n",
      " |-- NO_REGIAO: string (nullable = true)\n",
      " |-- CO_REGIAO: string (nullable = true)\n",
      " |-- NO_UF: string (nullable = true)\n",
      " |-- SG_UF: string (nullable = true)\n",
      " |-- CO_UF: string (nullable = true)\n",
      " |-- NO_MUNICIPIO: string (nullable = true)\n",
      " |-- CO_MUNICIPIO: string (nullable = true)\n",
      " |-- NO_REGIAO_GEOG_INTERM: string (nullable = true)\n",
      " |-- CO_REGIAO_GEOG_INTERM: string (nullable = true)\n",
      " |-- NO_REGIAO_GEOG_IMED: string (nullable = true)\n",
      " |-- CO_REGIAO_GEOG_IMED: string (nullable = true)\n",
      " |-- NO_MESORREGIAO: string (nullable = true)\n",
      " |-- CO_MESORREGIAO: string (nullable = true)\n",
      " |-- NO_MICRORREGIAO: string (nullable = true)\n",
      " |-- CO_MICRORREGIAO: string (nullable = true)\n",
      " |-- CO_DISTRITO: string (nullable = true)\n",
      " |-- NO_ENTIDADE: string (nullable = true)\n",
      " |-- CO_ENTIDADE: string (nullable = true)\n",
      " |-- TP_DEPENDENCIA: string (nullable = true)\n",
      " |-- TP_CATEGORIA_ESCOLA_PRIVADA: string (nullable = true)\n",
      " |-- TP_LOCALIZACAO: string (nullable = true)\n",
      " |-- TP_LOCALIZACAO_DIFERENCIADA: string (nullable = true)\n",
      " |-- DS_ENDERECO: string (nullable = true)\n",
      " |-- NU_ENDERECO: string (nullable = true)\n",
      " |-- DS_COMPLEMENTO: string (nullable = true)\n",
      " |-- NO_BAIRRO: string (nullable = true)\n",
      " |-- CO_CEP: string (nullable = true)\n",
      " |-- NU_DDD: string (nullable = true)\n",
      " |-- NU_TELEFONE: string (nullable = true)\n",
      " |-- TP_SITUACAO_FUNCIONAMENTO: string (nullable = true)\n",
      " |-- CO_ORGAO_REGIONAL: string (nullable = true)\n",
      " |-- DT_ANO_LETIVO_INICIO: string (nullable = true)\n",
      " |-- DT_ANO_LETIVO_TERMINO: string (nullable = true)\n",
      " |-- IN_VINCULO_SECRETARIA_EDUCACAO: string (nullable = true)\n",
      " |-- IN_VINCULO_SEGURANCA_PUBLICA: string (nullable = true)\n",
      " |-- IN_VINCULO_SECRETARIA_SAUDE: string (nullable = true)\n",
      " |-- IN_VINCULO_OUTRO_ORGAO: string (nullable = true)\n",
      " |-- IN_PODER_PUBLICO_PARCERIA: string (nullable = true)\n",
      " |-- TP_PODER_PUBLICO_PARCERIA: string (nullable = true)\n",
      " |-- IN_FORMA_CONT_TERMO_COLABORA: string (nullable = true)\n",
      " |-- IN_FORMA_CONT_TERMO_FOMENTO: string (nullable = true)\n",
      " |-- IN_FORMA_CONT_ACORDO_COOP: string (nullable = true)\n",
      " |-- IN_FORMA_CONT_PRESTACAO_SERV: string (nullable = true)\n",
      " |-- IN_FORMA_CONT_COOP_TEC_FIN: string (nullable = true)\n",
      " |-- IN_FORMA_CONT_CONSORCIO_PUB: string (nullable = true)\n",
      " |-- IN_FORMA_CONT_MU_TERMO_COLAB: string (nullable = true)\n",
      " |-- IN_FORMA_CONT_MU_TERMO_FOMENTO: string (nullable = true)\n",
      " |-- IN_FORMA_CONT_MU_ACORDO_COOP: string (nullable = true)\n",
      " |-- IN_FORMA_CONT_MU_PREST_SERV: string (nullable = true)\n",
      " |-- IN_FORMA_CONT_MU_COOP_TEC_FIN: string (nullable = true)\n",
      " |-- IN_FORMA_CONT_MU_CONSORCIO_PUB: string (nullable = true)\n",
      " |-- IN_FORMA_CONT_ES_TERMO_COLAB: string (nullable = true)\n",
      " |-- IN_FORMA_CONT_ES_TERMO_FOMENTO: string (nullable = true)\n",
      " |-- IN_FORMA_CONT_ES_ACORDO_COOP: string (nullable = true)\n",
      " |-- IN_FORMA_CONT_ES_PREST_SERV: string (nullable = true)\n",
      " |-- IN_FORMA_CONT_ES_COOP_TEC_FIN: string (nullable = true)\n",
      " |-- IN_FORMA_CONT_ES_CONSORCIO_PUB: string (nullable = true)\n",
      " |-- IN_MANT_ESCOLA_PRIVADA_EMP: string (nullable = true)\n",
      " |-- IN_MANT_ESCOLA_PRIVADA_ONG: string (nullable = true)\n",
      " |-- IN_MANT_ESCOLA_PRIVADA_OSCIP: string (nullable = true)\n",
      " |-- IN_MANT_ESCOLA_PRIV_ONG_OSCIP: string (nullable = true)\n",
      " |-- IN_MANT_ESCOLA_PRIVADA_SIND: string (nullable = true)\n",
      " |-- IN_MANT_ESCOLA_PRIVADA_SIST_S: string (nullable = true)\n",
      " |-- IN_MANT_ESCOLA_PRIVADA_S_FINS: string (nullable = true)\n",
      " |-- NU_CNPJ_ESCOLA_PRIVADA: string (nullable = true)\n",
      " |-- NU_CNPJ_MANTENEDORA: string (nullable = true)\n",
      " |-- TP_REGULAMENTACAO: string (nullable = true)\n",
      " |-- TP_RESPONSAVEL_REGULAMENTACAO: string (nullable = true)\n",
      " |-- CO_ESCOLA_SEDE_VINCULADA: string (nullable = true)\n",
      " |-- CO_IES_OFERTANTE: string (nullable = true)\n",
      " |-- IN_LOCAL_FUNC_PREDIO_ESCOLAR: string (nullable = true)\n",
      " |-- TP_OCUPACAO_PREDIO_ESCOLAR: string (nullable = true)\n",
      " |-- IN_LOCAL_FUNC_SOCIOEDUCATIVO: string (nullable = true)\n",
      " |-- IN_LOCAL_FUNC_UNID_PRISIONAL: string (nullable = true)\n",
      " |-- IN_LOCAL_FUNC_PRISIONAL_SOCIO: string (nullable = true)\n",
      " |-- IN_LOCAL_FUNC_GALPAO: string (nullable = true)\n",
      " |-- TP_OCUPACAO_GALPAO: string (nullable = true)\n",
      " |-- IN_LOCAL_FUNC_SALAS_OUTRA_ESC: string (nullable = true)\n",
      " |-- IN_LOCAL_FUNC_OUTROS: string (nullable = true)\n",
      " |-- IN_PREDIO_COMPARTILHADO: string (nullable = true)\n",
      " |-- IN_AGUA_POTAVEL: string (nullable = true)\n",
      " |-- IN_AGUA_REDE_PUBLICA: string (nullable = true)\n",
      " |-- IN_AGUA_POCO_ARTESIANO: string (nullable = true)\n",
      " |-- IN_AGUA_CACIMBA: string (nullable = true)\n",
      " |-- IN_AGUA_FONTE_RIO: string (nullable = true)\n",
      " |-- IN_AGUA_INEXISTENTE: string (nullable = true)\n",
      " |-- IN_ENERGIA_REDE_PUBLICA: string (nullable = true)\n",
      " |-- IN_ENERGIA_GERADOR_FOSSIL: string (nullable = true)\n",
      " |-- IN_ENERGIA_RENOVAVEL: string (nullable = true)\n",
      " |-- IN_ENERGIA_INEXISTENTE: string (nullable = true)\n",
      " |-- IN_ESGOTO_REDE_PUBLICA: string (nullable = true)\n",
      " |-- IN_ESGOTO_FOSSA_SEPTICA: string (nullable = true)\n",
      " |-- IN_ESGOTO_FOSSA_COMUM: string (nullable = true)\n",
      " |-- IN_ESGOTO_FOSSA: string (nullable = true)\n",
      " |-- IN_ESGOTO_INEXISTENTE: string (nullable = true)\n",
      " |-- IN_LIXO_SERVICO_COLETA: string (nullable = true)\n",
      " |-- IN_LIXO_QUEIMA: string (nullable = true)\n",
      " |-- IN_LIXO_ENTERRA: string (nullable = true)\n",
      " |-- IN_LIXO_DESTINO_FINAL_PUBLICO: string (nullable = true)\n",
      " |-- IN_LIXO_DESCARTA_OUTRA_AREA: string (nullable = true)\n",
      " |-- IN_TRATAMENTO_LIXO_SEPARACAO: string (nullable = true)\n",
      " |-- IN_TRATAMENTO_LIXO_REUTILIZA: string (nullable = true)\n",
      " |-- IN_TRATAMENTO_LIXO_RECICLAGEM: string (nullable = true)\n",
      " |-- IN_TRATAMENTO_LIXO_INEXISTENTE: string (nullable = true)\n",
      " |-- IN_ALMOXARIFADO: string (nullable = true)\n",
      " |-- IN_AREA_VERDE: string (nullable = true)\n",
      " |-- IN_AUDITORIO: string (nullable = true)\n",
      " |-- IN_BANHEIRO: string (nullable = true)\n",
      " |-- IN_BANHEIRO_EI: string (nullable = true)\n",
      " |-- IN_BANHEIRO_PNE: string (nullable = true)\n",
      " |-- IN_BANHEIRO_FUNCIONARIOS: string (nullable = true)\n",
      " |-- IN_BANHEIRO_CHUVEIRO: string (nullable = true)\n",
      " |-- IN_BIBLIOTECA: string (nullable = true)\n",
      " |-- IN_BIBLIOTECA_SALA_LEITURA: string (nullable = true)\n",
      " |-- IN_COZINHA: string (nullable = true)\n",
      " |-- IN_DESPENSA: string (nullable = true)\n",
      " |-- IN_DORMITORIO_ALUNO: string (nullable = true)\n",
      " |-- IN_DORMITORIO_PROFESSOR: string (nullable = true)\n",
      " |-- IN_LABORATORIO_CIENCIAS: string (nullable = true)\n",
      " |-- IN_LABORATORIO_INFORMATICA: string (nullable = true)\n",
      " |-- IN_LABORATORIO_EDUC_PROF: string (nullable = true)\n",
      " |-- IN_PATIO_COBERTO: string (nullable = true)\n",
      " |-- IN_PATIO_DESCOBERTO: string (nullable = true)\n",
      " |-- IN_PARQUE_INFANTIL: string (nullable = true)\n",
      " |-- IN_PISCINA: string (nullable = true)\n",
      " |-- IN_QUADRA_ESPORTES: string (nullable = true)\n",
      " |-- IN_QUADRA_ESPORTES_COBERTA: string (nullable = true)\n",
      " |-- IN_QUADRA_ESPORTES_DESCOBERTA: string (nullable = true)\n",
      " |-- IN_REFEITORIO: string (nullable = true)\n",
      " |-- IN_SALA_ATELIE_ARTES: string (nullable = true)\n",
      " |-- IN_SALA_MUSICA_CORAL: string (nullable = true)\n",
      " |-- IN_SALA_ESTUDIO_DANCA: string (nullable = true)\n",
      " |-- IN_SALA_MULTIUSO: string (nullable = true)\n",
      " |-- IN_SALA_ESTUDIO_GRAVACAO: string (nullable = true)\n",
      " |-- IN_SALA_OFICINAS_EDUC_PROF: string (nullable = true)\n",
      " |-- IN_SALA_DIRETORIA: string (nullable = true)\n",
      " |-- IN_SALA_LEITURA: string (nullable = true)\n",
      " |-- IN_SALA_PROFESSOR: string (nullable = true)\n",
      " |-- IN_SALA_REPOUSO_ALUNO: string (nullable = true)\n",
      " |-- IN_SECRETARIA: string (nullable = true)\n",
      " |-- IN_SALA_ATENDIMENTO_ESPECIAL: string (nullable = true)\n",
      " |-- IN_TERREIRAO: string (nullable = true)\n",
      " |-- IN_VIVEIRO: string (nullable = true)\n",
      " |-- IN_DEPENDENCIAS_OUTRAS: string (nullable = true)\n",
      " |-- IN_ACESSIBILIDADE_CORRIMAO: string (nullable = true)\n",
      " |-- IN_ACESSIBILIDADE_ELEVADOR: string (nullable = true)\n",
      " |-- IN_ACESSIBILIDADE_PISOS_TATEIS: string (nullable = true)\n",
      " |-- IN_ACESSIBILIDADE_VAO_LIVRE: string (nullable = true)\n",
      " |-- IN_ACESSIBILIDADE_RAMPAS: string (nullable = true)\n",
      " |-- IN_ACESSIBILIDADE_SINAL_SONORO: string (nullable = true)\n",
      " |-- IN_ACESSIBILIDADE_SINAL_TATIL: string (nullable = true)\n",
      " |-- IN_ACESSIBILIDADE_SINAL_VISUAL: string (nullable = true)\n",
      " |-- IN_ACESSIBILIDADE_INEXISTENTE: string (nullable = true)\n",
      " |-- QT_SALAS_UTILIZADAS_DENTRO: string (nullable = true)\n",
      " |-- QT_SALAS_UTILIZADAS_FORA: string (nullable = true)\n",
      " |-- QT_SALAS_UTILIZADAS: string (nullable = true)\n",
      " |-- QT_SALAS_UTILIZA_CLIMATIZADAS: string (nullable = true)\n",
      " |-- QT_SALAS_UTILIZADAS_ACESSIVEIS: string (nullable = true)\n",
      " |-- IN_EQUIP_PARABOLICA: string (nullable = true)\n",
      " |-- IN_COMPUTADOR: string (nullable = true)\n",
      " |-- IN_EQUIP_COPIADORA: string (nullable = true)\n",
      " |-- IN_EQUIP_IMPRESSORA: string (nullable = true)\n",
      " |-- IN_EQUIP_IMPRESSORA_MULT: string (nullable = true)\n",
      " |-- IN_EQUIP_SCANNER: string (nullable = true)\n",
      " |-- IN_EQUIP_NENHUM: string (nullable = true)\n",
      " |-- IN_EQUIP_DVD: string (nullable = true)\n",
      " |-- QT_EQUIP_DVD: string (nullable = true)\n",
      " |-- IN_EQUIP_SOM: string (nullable = true)\n",
      " |-- QT_EQUIP_SOM: string (nullable = true)\n",
      " |-- IN_EQUIP_TV: string (nullable = true)\n",
      " |-- QT_EQUIP_TV: string (nullable = true)\n",
      " |-- IN_EQUIP_LOUSA_DIGITAL: string (nullable = true)\n",
      " |-- QT_EQUIP_LOUSA_DIGITAL: string (nullable = true)\n",
      " |-- IN_EQUIP_MULTIMIDIA: string (nullable = true)\n",
      " |-- QT_EQUIP_MULTIMIDIA: string (nullable = true)\n",
      " |-- IN_DESKTOP_ALUNO: string (nullable = true)\n",
      " |-- QT_DESKTOP_ALUNO: string (nullable = true)\n",
      " |-- IN_COMP_PORTATIL_ALUNO: string (nullable = true)\n",
      " |-- QT_COMP_PORTATIL_ALUNO: string (nullable = true)\n",
      " |-- IN_TABLET_ALUNO: string (nullable = true)\n",
      " |-- QT_TABLET_ALUNO: string (nullable = true)\n",
      " |-- IN_INTERNET: string (nullable = true)\n",
      " |-- IN_INTERNET_ALUNOS: string (nullable = true)\n",
      " |-- IN_INTERNET_ADMINISTRATIVO: string (nullable = true)\n",
      " |-- IN_INTERNET_APRENDIZAGEM: string (nullable = true)\n",
      " |-- IN_INTERNET_COMUNIDADE: string (nullable = true)\n",
      " |-- IN_ACESSO_INTERNET_COMPUTADOR: string (nullable = true)\n",
      " |-- IN_ACES_INTERNET_DISP_PESSOAIS: string (nullable = true)\n",
      " |-- TP_REDE_LOCAL: string (nullable = true)\n",
      " |-- IN_BANDA_LARGA: string (nullable = true)\n",
      " |-- IN_PROF_ADMINISTRATIVOS: string (nullable = true)\n",
      " |-- QT_PROF_ADMINISTRATIVOS: string (nullable = true)\n",
      " |-- IN_PROF_SERVICOS_GERAIS: string (nullable = true)\n",
      " |-- QT_PROF_SERVICOS_GERAIS: string (nullable = true)\n",
      " |-- IN_PROF_BIBLIOTECARIO: string (nullable = true)\n",
      " |-- QT_PROF_BIBLIOTECARIO: string (nullable = true)\n",
      " |-- IN_PROF_SAUDE: string (nullable = true)\n",
      " |-- QT_PROF_SAUDE: string (nullable = true)\n",
      " |-- IN_PROF_COORDENADOR: string (nullable = true)\n",
      " |-- QT_PROF_COORDENADOR: string (nullable = true)\n",
      " |-- IN_PROF_FONAUDIOLOGO: string (nullable = true)\n",
      " |-- QT_PROF_FONAUDIOLOGO: string (nullable = true)\n",
      " |-- IN_PROF_NUTRICIONISTA: string (nullable = true)\n",
      " |-- QT_PROF_NUTRICIONISTA: string (nullable = true)\n",
      " |-- IN_PROF_PSICOLOGO: string (nullable = true)\n",
      " |-- QT_PROF_PSICOLOGO: string (nullable = true)\n",
      " |-- IN_PROF_ALIMENTACAO: string (nullable = true)\n",
      " |-- QT_PROF_ALIMENTACAO: string (nullable = true)\n",
      " |-- IN_PROF_PEDAGOGIA: string (nullable = true)\n",
      " |-- QT_PROF_PEDAGOGIA: string (nullable = true)\n",
      " |-- IN_PROF_SECRETARIO: string (nullable = true)\n",
      " |-- QT_PROF_SECRETARIO: string (nullable = true)\n",
      " |-- IN_PROF_SEGURANCA: string (nullable = true)\n",
      " |-- QT_PROF_SEGURANCA: string (nullable = true)\n",
      " |-- IN_PROF_MONITORES: string (nullable = true)\n",
      " |-- QT_PROF_MONITORES: string (nullable = true)\n",
      " |-- IN_PROF_GESTAO: string (nullable = true)\n",
      " |-- QT_PROF_GESTAO: string (nullable = true)\n",
      " |-- IN_PROF_ASSIST_SOCIAL: string (nullable = true)\n",
      " |-- QT_PROF_ASSIST_SOCIAL: string (nullable = true)\n",
      " |-- IN_PROF_TRAD_LIBRAS: string (nullable = true)\n",
      " |-- QT_PROF_TRAD_LIBRAS: string (nullable = true)\n",
      " |-- IN_ALIMENTACAO: string (nullable = true)\n",
      " |-- IN_MATERIAL_PED_MULTIMIDIA: string (nullable = true)\n",
      " |-- IN_MATERIAL_PED_INFANTIL: string (nullable = true)\n",
      " |-- IN_MATERIAL_PED_CIENTIFICO: string (nullable = true)\n",
      " |-- IN_MATERIAL_PED_DIFUSAO: string (nullable = true)\n",
      " |-- IN_MATERIAL_PED_MUSICAL: string (nullable = true)\n",
      " |-- IN_MATERIAL_PED_JOGOS: string (nullable = true)\n",
      " |-- IN_MATERIAL_PED_ARTISTICAS: string (nullable = true)\n",
      " |-- IN_MATERIAL_PED_PROFISSIONAL: string (nullable = true)\n",
      " |-- IN_MATERIAL_PED_DESPORTIVA: string (nullable = true)\n",
      " |-- IN_MATERIAL_PED_INDIGENA: string (nullable = true)\n",
      " |-- IN_MATERIAL_PED_ETNICO: string (nullable = true)\n",
      " |-- IN_MATERIAL_PED_CAMPO: string (nullable = true)\n",
      " |-- IN_MATERIAL_PED_BIL_SURDOS: string (nullable = true)\n",
      " |-- IN_MATERIAL_PED_NENHUM: string (nullable = true)\n",
      " |-- IN_EDUCACAO_INDIGENA: string (nullable = true)\n",
      " |-- TP_INDIGENA_LINGUA: string (nullable = true)\n",
      " |-- CO_LINGUA_INDIGENA_1: string (nullable = true)\n",
      " |-- CO_LINGUA_INDIGENA_2: string (nullable = true)\n",
      " |-- CO_LINGUA_INDIGENA_3: string (nullable = true)\n",
      " |-- IN_EXAME_SELECAO: string (nullable = true)\n",
      " |-- IN_RESERVA_PPI: string (nullable = true)\n",
      " |-- IN_RESERVA_RENDA: string (nullable = true)\n",
      " |-- IN_RESERVA_PUBLICA: string (nullable = true)\n",
      " |-- IN_RESERVA_PCD: string (nullable = true)\n",
      " |-- IN_RESERVA_OUTROS: string (nullable = true)\n",
      " |-- IN_RESERVA_NENHUMA: string (nullable = true)\n",
      " |-- IN_REDES_SOCIAIS: string (nullable = true)\n",
      " |-- IN_ESPACO_ATIVIDADE: string (nullable = true)\n",
      " |-- IN_ESPACO_EQUIPAMENTO: string (nullable = true)\n",
      " |-- IN_ORGAO_ASS_PAIS: string (nullable = true)\n",
      " |-- IN_ORGAO_ASS_PAIS_MESTRES: string (nullable = true)\n",
      " |-- IN_ORGAO_CONSELHO_ESCOLAR: string (nullable = true)\n",
      " |-- IN_ORGAO_GREMIO_ESTUDANTIL: string (nullable = true)\n",
      " |-- IN_ORGAO_OUTROS: string (nullable = true)\n",
      " |-- IN_ORGAO_NENHUM: string (nullable = true)\n",
      " |-- TP_PROPOSTA_PEDAGOGICA: string (nullable = true)\n",
      " |-- TP_AEE: string (nullable = true)\n",
      " |-- TP_ATIVIDADE_COMPLEMENTAR: string (nullable = true)\n",
      " |-- IN_MEDIACAO_PRESENCIAL: string (nullable = true)\n",
      " |-- IN_MEDIACAO_SEMIPRESENCIAL: string (nullable = true)\n",
      " |-- IN_MEDIACAO_EAD: string (nullable = true)\n",
      " |-- IN_REGULAR: string (nullable = true)\n",
      " |-- IN_DIURNO: string (nullable = true)\n",
      " |-- IN_NOTURNO: string (nullable = true)\n",
      " |-- IN_EAD: string (nullable = true)\n",
      " |-- IN_ESCOLARIZACAO: string (nullable = true)\n",
      " |-- IN_INF: string (nullable = true)\n",
      " |-- IN_INF_CRE: string (nullable = true)\n",
      " |-- IN_INF_PRE: string (nullable = true)\n",
      " |-- IN_FUND: string (nullable = true)\n",
      " |-- IN_FUND_AI: string (nullable = true)\n",
      " |-- IN_FUND_AF: string (nullable = true)\n",
      " |-- IN_MED: string (nullable = true)\n",
      " |-- IN_PROF: string (nullable = true)\n",
      " |-- IN_PROF_TEC: string (nullable = true)\n",
      " |-- IN_EJA: string (nullable = true)\n",
      " |-- IN_EJA_FUND: string (nullable = true)\n",
      " |-- IN_EJA_MED: string (nullable = true)\n",
      " |-- IN_ESP: string (nullable = true)\n",
      " |-- IN_ESP_CC: string (nullable = true)\n",
      " |-- IN_ESP_CE: string (nullable = true)\n",
      " |-- QT_MAT_BAS: string (nullable = true)\n",
      " |-- QT_MAT_INF: string (nullable = true)\n",
      " |-- QT_MAT_INF_CRE: string (nullable = true)\n",
      " |-- QT_MAT_INF_PRE: string (nullable = true)\n",
      " |-- QT_MAT_FUND: string (nullable = true)\n",
      " |-- QT_MAT_FUND_AI: string (nullable = true)\n",
      " |-- QT_MAT_FUND_AI_1: string (nullable = true)\n",
      " |-- QT_MAT_FUND_AI_2: string (nullable = true)\n",
      " |-- QT_MAT_FUND_AI_3: string (nullable = true)\n",
      " |-- QT_MAT_FUND_AI_4: string (nullable = true)\n",
      " |-- QT_MAT_FUND_AI_5: string (nullable = true)\n",
      " |-- QT_MAT_FUND_AF: string (nullable = true)\n",
      " |-- QT_MAT_FUND_AF_6: string (nullable = true)\n",
      " |-- QT_MAT_FUND_AF_7: string (nullable = true)\n",
      " |-- QT_MAT_FUND_AF_8: string (nullable = true)\n",
      " |-- QT_MAT_FUND_AF_9: string (nullable = true)\n",
      " |-- QT_MAT_MED: string (nullable = true)\n",
      " |-- QT_MAT_MED_PROP: string (nullable = true)\n",
      " |-- QT_MAT_MED_PROP_1: string (nullable = true)\n",
      " |-- QT_MAT_MED_PROP_2: string (nullable = true)\n",
      " |-- QT_MAT_MED_PROP_3: string (nullable = true)\n",
      " |-- QT_MAT_MED_PROP_4: string (nullable = true)\n",
      " |-- QT_MAT_MED_PROP_NS: string (nullable = true)\n",
      " |-- QT_MAT_MED_CT: string (nullable = true)\n",
      " |-- QT_MAT_MED_CT_1: string (nullable = true)\n",
      " |-- QT_MAT_MED_CT_2: string (nullable = true)\n",
      " |-- QT_MAT_MED_CT_3: string (nullable = true)\n",
      " |-- QT_MAT_MED_CT_4: string (nullable = true)\n",
      " |-- QT_MAT_MED_CT_NS: string (nullable = true)\n",
      " |-- QT_MAT_MED_NM: string (nullable = true)\n",
      " |-- QT_MAT_MED_NM_1: string (nullable = true)\n",
      " |-- QT_MAT_MED_NM_2: string (nullable = true)\n",
      " |-- QT_MAT_MED_NM_3: string (nullable = true)\n",
      " |-- QT_MAT_MED_NM_4: string (nullable = true)\n",
      " |-- QT_MAT_PROF: string (nullable = true)\n",
      " |-- QT_MAT_PROF_TEC: string (nullable = true)\n",
      " |-- QT_MAT_PROF_TEC_CONC: string (nullable = true)\n",
      " |-- QT_MAT_PROF_TEC_SUBS: string (nullable = true)\n",
      " |-- QT_MAT_PROF_FIC_CONC: string (nullable = true)\n",
      " |-- QT_MAT_EJA: string (nullable = true)\n",
      " |-- QT_MAT_EJA_FUND: string (nullable = true)\n",
      " |-- QT_MAT_EJA_FUND_AI: string (nullable = true)\n",
      " |-- QT_MAT_EJA_FUND_AF: string (nullable = true)\n",
      " |-- QT_MAT_EJA_FUND_FIC: string (nullable = true)\n",
      " |-- QT_MAT_EJA_MED: string (nullable = true)\n",
      " |-- QT_MAT_EJA_MED_NPROF: string (nullable = true)\n",
      " |-- QT_MAT_EJA_MED_FIC: string (nullable = true)\n",
      " |-- QT_MAT_EJA_MED_TEC: string (nullable = true)\n",
      " |-- QT_MAT_ESP: string (nullable = true)\n",
      " |-- QT_MAT_ESP_CC: string (nullable = true)\n",
      " |-- QT_MAT_ESP_CE: string (nullable = true)\n",
      " |-- QT_MAT_BAS_FEM: string (nullable = true)\n",
      " |-- QT_MAT_BAS_MASC: string (nullable = true)\n",
      " |-- QT_MAT_BAS_ND: string (nullable = true)\n",
      " |-- QT_MAT_BAS_BRANCA: string (nullable = true)\n",
      " |-- QT_MAT_BAS_PRETA: string (nullable = true)\n",
      " |-- QT_MAT_BAS_PARDA: string (nullable = true)\n",
      " |-- QT_MAT_BAS_AMARELA: string (nullable = true)\n",
      " |-- QT_MAT_BAS_INDIGENA: string (nullable = true)\n",
      " |-- QT_MAT_BAS_0_3: string (nullable = true)\n",
      " |-- QT_MAT_BAS_4_5: string (nullable = true)\n",
      " |-- QT_MAT_BAS_6_10: string (nullable = true)\n",
      " |-- QT_MAT_BAS_11_14: string (nullable = true)\n",
      " |-- QT_MAT_BAS_15_17: string (nullable = true)\n",
      " |-- QT_MAT_BAS_18_MAIS: string (nullable = true)\n",
      " |-- QT_MAT_BAS_D: string (nullable = true)\n",
      " |-- QT_MAT_BAS_N: string (nullable = true)\n",
      " |-- QT_MAT_BAS_EAD: string (nullable = true)\n",
      " |-- QT_MAT_INF_INT: string (nullable = true)\n",
      " |-- QT_MAT_INF_CRE_INT: string (nullable = true)\n",
      " |-- QT_MAT_INF_PRE_INT: string (nullable = true)\n",
      " |-- QT_MAT_FUND_INT: string (nullable = true)\n",
      " |-- QT_MAT_FUND_AI_INT: string (nullable = true)\n",
      " |-- QT_MAT_FUND_AF_INT: string (nullable = true)\n",
      " |-- QT_MAT_MED_INT: string (nullable = true)\n",
      " |-- QT_MAT_ZR_URB: string (nullable = true)\n",
      " |-- QT_MAT_ZR_RUR: string (nullable = true)\n",
      " |-- QT_MAT_ZR_NA: string (nullable = true)\n",
      " |-- QT_TRANSP_PUBLICO: string (nullable = true)\n",
      " |-- QT_TRANSP_RESP_EST: string (nullable = true)\n",
      " |-- QT_TRANSP_RESP_MUN: string (nullable = true)\n",
      " |-- QT_DOC_BAS: string (nullable = true)\n",
      " |-- QT_DOC_INF: string (nullable = true)\n",
      " |-- QT_DOC_INF_CRE: string (nullable = true)\n",
      " |-- QT_DOC_INF_PRE: string (nullable = true)\n",
      " |-- QT_DOC_FUND: string (nullable = true)\n",
      " |-- QT_DOC_FUND_AI: string (nullable = true)\n",
      " |-- QT_DOC_FUND_AF: string (nullable = true)\n",
      " |-- QT_DOC_MED: string (nullable = true)\n",
      " |-- QT_DOC_PROF: string (nullable = true)\n",
      " |-- QT_DOC_PROF_TEC: string (nullable = true)\n",
      " |-- QT_DOC_EJA: string (nullable = true)\n",
      " |-- QT_DOC_EJA_FUND: string (nullable = true)\n",
      " |-- QT_DOC_EJA_MED: string (nullable = true)\n",
      " |-- QT_DOC_ESP: string (nullable = true)\n",
      " |-- QT_DOC_ESP_CC: string (nullable = true)\n",
      " |-- QT_DOC_ESP_CE: string (nullable = true)\n",
      " |-- QT_TUR_BAS: string (nullable = true)\n",
      " |-- QT_TUR_INF: string (nullable = true)\n",
      " |-- QT_TUR_INF_CRE: string (nullable = true)\n",
      " |-- QT_TUR_INF_PRE: string (nullable = true)\n",
      " |-- QT_TUR_FUND: string (nullable = true)\n",
      " |-- QT_TUR_FUND_AI: string (nullable = true)\n",
      " |-- QT_TUR_FUND_AF: string (nullable = true)\n",
      " |-- QT_TUR_MED: string (nullable = true)\n",
      " |-- QT_TUR_PROF: string (nullable = true)\n",
      " |-- QT_TUR_PROF_TEC: string (nullable = true)\n",
      " |-- QT_TUR_EJA: string (nullable = true)\n",
      " |-- QT_TUR_EJA_FUND: string (nullable = true)\n",
      " |-- QT_TUR_EJA_MED: string (nullable = true)\n",
      " |-- QT_TUR_ESP: string (nullable = true)\n",
      " |-- QT_TUR_ESP_CC: string (nullable = true)\n",
      " |-- QT_TUR_ESP_CE: string (nullable = true)\n",
      " |-- QT_TUR_BAS_D: string (nullable = true)\n",
      " |-- QT_TUR_BAS_N: string (nullable = true)\n",
      " |-- QT_TUR_BAS_EAD: string (nullable = true)\n",
      " |-- QT_TUR_INF_INT: string (nullable = true)\n",
      " |-- QT_TUR_INF_CRE_INT: string (nullable = true)\n",
      " |-- QT_TUR_INF_PRE_INT: string (nullable = true)\n",
      " |-- QT_TUR_FUND_INT: string (nullable = true)\n",
      " |-- QT_TUR_FUND_AI_INT: string (nullable = true)\n",
      " |-- QT_TUR_FUND_AF_INT: string (nullable = true)\n",
      " |-- QT_TUR_MED_INT: string (nullable = true)\n",
      "\n"
     ]
    },
    {
     "name": "stderr",
     "output_type": "stream",
     "text": [
      "\r",
      "                                                                                \r"
     ]
    }
   ],
   "source": [
    "pessoal.completudeSchema(censo)"
   ]
  },
  {
   "cell_type": "code",
   "execution_count": 4,
   "id": "873f0764",
   "metadata": {},
   "outputs": [
    {
     "name": "stderr",
     "output_type": "stream",
     "text": [
      "[Stage 7:>                                                          (0 + 1) / 1]\r"
     ]
    },
    {
     "name": "stdout",
     "output_type": "stream",
     "text": [
      "+-------------+-------------+\n",
      "|min(id_unico)|max(id_unico)|\n",
      "+-------------+-------------+\n",
      "|            1|       217625|\n",
      "+-------------+-------------+\n",
      "\n"
     ]
    },
    {
     "name": "stderr",
     "output_type": "stream",
     "text": [
      "\r",
      "                                                                                \r"
     ]
    }
   ],
   "source": [
    "censo = createId(censo, 'id_unico')\n",
    "censo.select(F.min(F.col('id_unico')), F.max(F.col('id_unico'))).show()"
   ]
  },
  {
   "cell_type": "markdown",
   "id": "66cc66b6",
   "metadata": {},
   "source": [
    "### Transformação dos dados"
   ]
  },
  {
   "cell_type": "code",
   "execution_count": 5,
   "id": "5ff108c7",
   "metadata": {},
   "outputs": [],
   "source": [
    "analise3 = censo.withColumn('tipo_vinculo', F.when(F.col('IN_VINCULO_SECRETARIA_EDUCACAO') == 1, 'secretaria da educacao').\\\n",
    "                         when(F.col('IN_VINCULO_SEGURANCA_PUBLICA') == 1, 'seguranca publica').\\\n",
    "                         when(F.col('IN_VINCULO_SECRETARIA_SAUDE') == 1, 'secretaria da saúde').\\\n",
    "                         when(F.col('IN_VINCULO_OUTRO_ORGAO') == 1, 'outro orgão').otherwise('Não aplicavel para escolas particulares'))"
   ]
  },
  {
   "cell_type": "code",
   "execution_count": 6,
   "id": "065249b3",
   "metadata": {
    "collapsed": true
   },
   "outputs": [
    {
     "name": "stderr",
     "output_type": "stream",
     "text": [
      "                                                                                \r"
     ]
    },
    {
     "name": "stdout",
     "output_type": "stream",
     "text": [
      "+---------------------------------------+------+\n",
      "|tipo_vinculo                           |count |\n",
      "+---------------------------------------+------+\n",
      "|outro orgão                            |335   |\n",
      "|secretaria da educacao                 |137540|\n",
      "|secretaria da saúde                    |5     |\n",
      "|seguranca publica                      |34    |\n",
      "|Não aplicavel para escolas particulares|79711 |\n",
      "+---------------------------------------+------+\n",
      "\n",
      "Distribuição original do Órgão ao qual a escola pública está vinculada:\n"
     ]
    },
    {
     "name": "stderr",
     "output_type": "stream",
     "text": [
      "                                                                                \r"
     ]
    },
    {
     "name": "stdout",
     "output_type": "stream",
     "text": [
      "+------------------------------+------+\n",
      "|IN_VINCULO_SECRETARIA_EDUCACAO| count|\n",
      "+------------------------------+------+\n",
      "|                             0|   374|\n",
      "|                          null| 79711|\n",
      "|                             1|137540|\n",
      "+------------------------------+------+\n",
      "\n"
     ]
    },
    {
     "name": "stderr",
     "output_type": "stream",
     "text": [
      "                                                                                \r"
     ]
    },
    {
     "name": "stdout",
     "output_type": "stream",
     "text": [
      "+----------------------------+------+\n",
      "|IN_VINCULO_SEGURANCA_PUBLICA| count|\n",
      "+----------------------------+------+\n",
      "|                           0|137684|\n",
      "|                        null| 79711|\n",
      "|                           1|   230|\n",
      "+----------------------------+------+\n",
      "\n"
     ]
    },
    {
     "name": "stderr",
     "output_type": "stream",
     "text": [
      "                                                                                \r"
     ]
    },
    {
     "name": "stdout",
     "output_type": "stream",
     "text": [
      "+---------------------------+------+\n",
      "|IN_VINCULO_SECRETARIA_SAUDE| count|\n",
      "+---------------------------+------+\n",
      "|                          0|137894|\n",
      "|                       null| 79711|\n",
      "|                          1|    20|\n",
      "+---------------------------+------+\n",
      "\n"
     ]
    },
    {
     "name": "stderr",
     "output_type": "stream",
     "text": [
      "                                                                                \r"
     ]
    },
    {
     "name": "stdout",
     "output_type": "stream",
     "text": [
      "+----------------------+------+\n",
      "|IN_VINCULO_OUTRO_ORGAO| count|\n",
      "+----------------------+------+\n",
      "|                     0|137524|\n",
      "|                  null| 79711|\n",
      "|                     1|   390|\n",
      "+----------------------+------+\n",
      "\n",
      "É possível possuir mais de um tipo de vinculo.\n"
     ]
    },
    {
     "name": "stderr",
     "output_type": "stream",
     "text": [
      "\r",
      "[Stage 25:>                                                         (0 + 1) / 1]\r"
     ]
    },
    {
     "name": "stdout",
     "output_type": "stream",
     "text": [
      "Quantidade de registros marcados como vinculo com a secretaria da educação e outros:  259\n"
     ]
    },
    {
     "name": "stderr",
     "output_type": "stream",
     "text": [
      "\r",
      "                                                                                \r"
     ]
    }
   ],
   "source": [
    "analise3.groupBy('tipo_vinculo').count().show(truncate=False)\n",
    "\n",
    "print('Distribuição original do Órgão ao qual a escola pública está vinculada:')\n",
    "for col in censo.columns:\n",
    "    if col.startswith('IN_VINCULO_'):\n",
    "        censo.groupBy(col).count().show()\n",
    "\n",
    "# O count abaixo é apenas referente a um conjunto de combinações com o vinculo das escolas. A quantidade pode ser maior ou menor a depender das combinações.\n",
    "print('É possível possuir mais de um tipo de vinculo.')\n",
    "print('Quantidade de registros marcados como vinculo com a secretaria da educação e outros: ', censo.filter((F.col('IN_VINCULO_SECRETARIA_EDUCACAO') == 1) & ((F.col('IN_VINCULO_SEGURANCA_PUBLICA') == 1) | (F.col('IN_VINCULO_SECRETARIA_SAUDE') == 1) | (F.col('IN_VINCULO_OUTRO_ORGAO') == 1))).count())"
   ]
  },
  {
   "cell_type": "code",
   "execution_count": 7,
   "id": "2c698078",
   "metadata": {},
   "outputs": [],
   "source": [
    "analise3 = analise3.withColumn('local_func_escola', F.when(F.col('IN_LOCAL_FUNC_PREDIO_ESCOLAR') == 1, 'Prédio Escolar').\\\n",
    "                         when(F.col('IN_LOCAL_FUNC_SALAS_OUTRA_ESC') == 1, 'Salas em outra escola').\\\n",
    "                         when(F.col('IN_LOCAL_FUNC_SOCIOEDUCATIVO') == 1, 'Unidade de Atendimento socioeducativo').\\\n",
    "                         when(F.col('IN_LOCAL_FUNC_UNID_PRISIONAL') == 1, 'Unidade Prisional').\\\n",
    "                         when(F.col('IN_LOCAL_FUNC_PRISIONAL_SOCIO') == 1, 'Unidade Prisional ou Unidade de atendimento socioeducativo').\\\n",
    "                         when(F.col('IN_LOCAL_FUNC_GALPAO') == 1, 'Galpão/Rancho/Paiol/Barracão').\\\n",
    "                         when(F.col('IN_LOCAL_FUNC_OUTROS') == 1, 'Outro').otherwise('Sem informação'))"
   ]
  },
  {
   "cell_type": "code",
   "execution_count": 8,
   "id": "5485ed4a",
   "metadata": {
    "collapsed": true
   },
   "outputs": [
    {
     "name": "stderr",
     "output_type": "stream",
     "text": [
      "                                                                                \r"
     ]
    },
    {
     "name": "stdout",
     "output_type": "stream",
     "text": [
      "+-------------------------------------+------+\n",
      "|local_func_escola                    |count |\n",
      "+-------------------------------------+------+\n",
      "|Unidade Prisional                    |236   |\n",
      "|Galpão/Rancho/Paiol/Barracão         |1342  |\n",
      "|Unidade de Atendimento socioeducativo|53    |\n",
      "|Salas em outra escola                |685   |\n",
      "|Prédio Escolar                       |176052|\n",
      "|Sem informação                       |37395 |\n",
      "|Outro                                |1862  |\n",
      "+-------------------------------------+------+\n",
      "\n",
      "Distribuição original do Local de funcionamento da escola:\n"
     ]
    },
    {
     "name": "stderr",
     "output_type": "stream",
     "text": [
      "                                                                                \r"
     ]
    },
    {
     "name": "stdout",
     "output_type": "stream",
     "text": [
      "+----------------------------+------+\n",
      "|IN_LOCAL_FUNC_PREDIO_ESCOLAR| count|\n",
      "+----------------------------+------+\n",
      "|                           0|  4178|\n",
      "|                        null| 37395|\n",
      "|                           1|176052|\n",
      "+----------------------------+------+\n",
      "\n"
     ]
    },
    {
     "name": "stderr",
     "output_type": "stream",
     "text": [
      "                                                                                \r"
     ]
    },
    {
     "name": "stdout",
     "output_type": "stream",
     "text": [
      "+----------------------------+------+\n",
      "|IN_LOCAL_FUNC_SOCIOEDUCATIVO| count|\n",
      "+----------------------------+------+\n",
      "|                           0|179997|\n",
      "|                        null| 37395|\n",
      "|                           1|   233|\n",
      "+----------------------------+------+\n",
      "\n"
     ]
    },
    {
     "name": "stderr",
     "output_type": "stream",
     "text": [
      "                                                                                \r"
     ]
    },
    {
     "name": "stdout",
     "output_type": "stream",
     "text": [
      "+----------------------------+------+\n",
      "|IN_LOCAL_FUNC_UNID_PRISIONAL| count|\n",
      "+----------------------------+------+\n",
      "|                           0|179610|\n",
      "|                        null| 37395|\n",
      "|                           1|   620|\n",
      "+----------------------------+------+\n",
      "\n"
     ]
    },
    {
     "name": "stderr",
     "output_type": "stream",
     "text": [
      "                                                                                \r"
     ]
    },
    {
     "name": "stdout",
     "output_type": "stream",
     "text": [
      "+-----------------------------+------+\n",
      "|IN_LOCAL_FUNC_PRISIONAL_SOCIO| count|\n",
      "+-----------------------------+------+\n",
      "|                            0|179405|\n",
      "|                         null| 37395|\n",
      "|                            1|   825|\n",
      "+-----------------------------+------+\n",
      "\n"
     ]
    },
    {
     "name": "stderr",
     "output_type": "stream",
     "text": [
      "                                                                                \r"
     ]
    },
    {
     "name": "stdout",
     "output_type": "stream",
     "text": [
      "+--------------------+------+\n",
      "|IN_LOCAL_FUNC_GALPAO| count|\n",
      "+--------------------+------+\n",
      "|                   0|177755|\n",
      "|                null| 37395|\n",
      "|                   1|  2475|\n",
      "+--------------------+------+\n",
      "\n"
     ]
    },
    {
     "name": "stderr",
     "output_type": "stream",
     "text": [
      "                                                                                \r"
     ]
    },
    {
     "name": "stdout",
     "output_type": "stream",
     "text": [
      "+-----------------------------+------+\n",
      "|IN_LOCAL_FUNC_SALAS_OUTRA_ESC| count|\n",
      "+-----------------------------+------+\n",
      "|                            0|174513|\n",
      "|                         null| 37395|\n",
      "|                            1|  5717|\n",
      "+-----------------------------+------+\n",
      "\n"
     ]
    },
    {
     "name": "stderr",
     "output_type": "stream",
     "text": [
      "                                                                                \r"
     ]
    },
    {
     "name": "stdout",
     "output_type": "stream",
     "text": [
      "+--------------------+------+\n",
      "|IN_LOCAL_FUNC_OUTROS| count|\n",
      "+--------------------+------+\n",
      "|                   0|169061|\n",
      "|                null| 37395|\n",
      "|                   1| 11169|\n",
      "+--------------------+------+\n",
      "\n",
      "É possível possuir mais de um local de funcionamento.\n"
     ]
    },
    {
     "name": "stderr",
     "output_type": "stream",
     "text": [
      "\r",
      "[Stage 52:>                                                         (0 + 1) / 1]\r"
     ]
    },
    {
     "name": "stdout",
     "output_type": "stream",
     "text": [
      "Quantidade de registros marcados com mais de um local de funcionamento:  14974\n"
     ]
    },
    {
     "name": "stderr",
     "output_type": "stream",
     "text": [
      "\r",
      "                                                                                \r"
     ]
    }
   ],
   "source": [
    "analise3.groupBy('local_func_escola').count().show(truncate=False)\n",
    "\n",
    "print('Distribuição original do Local de funcionamento da escola:')\n",
    "for col in censo.columns:\n",
    "    if col.startswith('IN_LOCAL_FUNC'):\n",
    "        censo.groupBy(col).count().show()\n",
    "        \n",
    "# O count abaixo é apenas referente a um conjunto de combinações com o local de funcionamento. A quantidade pode ser maior ou menor a depender das combinações.\n",
    "print('É possível possuir mais de um local de funcionamento.')\n",
    "print('Quantidade de registros marcados com mais de um local de funcionamento: ', censo.filter((F.col('IN_LOCAL_FUNC_PREDIO_ESCOLAR') == 1) & ((F.col('IN_LOCAL_FUNC_SALAS_OUTRA_ESC') == 1) | (F.col('IN_LOCAL_FUNC_SOCIOEDUCATIVO') == 1) | (F.col('IN_LOCAL_FUNC_UNID_PRISIONAL') == 1) | (F.col('IN_LOCAL_FUNC_PRISIONAL_SOCIO') == 1) | (F.col('IN_LOCAL_FUNC_GALPAO') == 1) | (F.col('IN_LOCAL_FUNC_OUTROS') == 1))).count())"
   ]
  },
  {
   "cell_type": "code",
   "execution_count": 9,
   "id": "7a40abd3",
   "metadata": {},
   "outputs": [],
   "source": [
    "analise3 = analise3.withColumn('tipo_agua', F.when(F.col('IN_AGUA_REDE_PUBLICA') == 1, 'Rede pública').\\\n",
    "                         when(F.col('IN_AGUA_POCO_ARTESIANO') == 1, 'Poço artesiano').\\\n",
    "                         when(F.col('IN_AGUA_CACIMBA') == 1, 'Cacimba/Cisterna/Poço').\\\n",
    "                         when(F.col('IN_AGUA_FONTE_RIO') == 1, 'Fonte/Rio/Igarapé/Riacho/Córrego').\\\n",
    "                         when(F.col('IN_AGUA_INEXISTENTE') == 1, 'Não há abastecimento de água').otherwise('Sem informação'))"
   ]
  },
  {
   "cell_type": "code",
   "execution_count": 10,
   "id": "afb15511",
   "metadata": {
    "collapsed": true
   },
   "outputs": [
    {
     "name": "stderr",
     "output_type": "stream",
     "text": [
      "                                                                                \r"
     ]
    },
    {
     "name": "stdout",
     "output_type": "stream",
     "text": [
      "+--------------------------------+------+\n",
      "|tipo_agua                       |count |\n",
      "+--------------------------------+------+\n",
      "|Não há abastecimento de água    |3063  |\n",
      "|Fonte/Rio/Igarapé/Riacho/Córrego|5957  |\n",
      "|Poço artesiano                  |21506 |\n",
      "|Cacimba/Cisterna/Poço           |10338 |\n",
      "|Rede pública                    |139366|\n",
      "|Sem informação                  |37395 |\n",
      "+--------------------------------+------+\n",
      "\n",
      "Distribuição original do Abastecimento de água:\n"
     ]
    },
    {
     "name": "stderr",
     "output_type": "stream",
     "text": [
      "                                                                                \r"
     ]
    },
    {
     "name": "stdout",
     "output_type": "stream",
     "text": [
      "+---------------+------+\n",
      "|IN_AGUA_POTAVEL| count|\n",
      "+---------------+------+\n",
      "|              0|  7912|\n",
      "|           null| 37395|\n",
      "|              1|172318|\n",
      "+---------------+------+\n",
      "\n"
     ]
    },
    {
     "name": "stderr",
     "output_type": "stream",
     "text": [
      "                                                                                \r"
     ]
    },
    {
     "name": "stdout",
     "output_type": "stream",
     "text": [
      "+--------------------+------+\n",
      "|IN_AGUA_REDE_PUBLICA| count|\n",
      "+--------------------+------+\n",
      "|                   0| 40864|\n",
      "|                null| 37395|\n",
      "|                   1|139366|\n",
      "+--------------------+------+\n",
      "\n"
     ]
    },
    {
     "name": "stderr",
     "output_type": "stream",
     "text": [
      "                                                                                \r"
     ]
    },
    {
     "name": "stdout",
     "output_type": "stream",
     "text": [
      "+----------------------+------+\n",
      "|IN_AGUA_POCO_ARTESIANO| count|\n",
      "+----------------------+------+\n",
      "|                     0|151675|\n",
      "|                  null| 37395|\n",
      "|                     1| 28555|\n",
      "+----------------------+------+\n",
      "\n"
     ]
    },
    {
     "name": "stderr",
     "output_type": "stream",
     "text": [
      "                                                                                \r"
     ]
    },
    {
     "name": "stdout",
     "output_type": "stream",
     "text": [
      "+---------------+------+\n",
      "|IN_AGUA_CACIMBA| count|\n",
      "+---------------+------+\n",
      "|              0|164832|\n",
      "|           null| 37395|\n",
      "|              1| 15398|\n",
      "+---------------+------+\n",
      "\n"
     ]
    },
    {
     "name": "stderr",
     "output_type": "stream",
     "text": [
      "                                                                                \r"
     ]
    },
    {
     "name": "stdout",
     "output_type": "stream",
     "text": [
      "+-----------------+------+\n",
      "|IN_AGUA_FONTE_RIO| count|\n",
      "+-----------------+------+\n",
      "|                0|173303|\n",
      "|             null| 37395|\n",
      "|                1|  6927|\n",
      "+-----------------+------+\n",
      "\n"
     ]
    },
    {
     "name": "stderr",
     "output_type": "stream",
     "text": [
      "                                                                                \r"
     ]
    },
    {
     "name": "stdout",
     "output_type": "stream",
     "text": [
      "+-------------------+------+\n",
      "|IN_AGUA_INEXISTENTE| count|\n",
      "+-------------------+------+\n",
      "|                  0|177167|\n",
      "|               null| 37395|\n",
      "|                  1|  3063|\n",
      "+-------------------+------+\n",
      "\n",
      "É possível possuir mais de um local de abastecimento.\n"
     ]
    },
    {
     "name": "stderr",
     "output_type": "stream",
     "text": [
      "\r",
      "[Stage 76:>                                                         (0 + 1) / 1]\r"
     ]
    },
    {
     "name": "stdout",
     "output_type": "stream",
     "text": [
      "Quantidade de registros marcados com mais de um local de abastecimento:  11247\n"
     ]
    },
    {
     "name": "stderr",
     "output_type": "stream",
     "text": [
      "\r",
      "                                                                                \r"
     ]
    }
   ],
   "source": [
    "analise3.groupBy('tipo_agua').count().show(truncate=False)\n",
    "\n",
    "print('Distribuição original do Abastecimento de água:')\n",
    "for col in censo.columns:\n",
    "    if col.startswith('IN_AGUA'):\n",
    "        censo.groupBy(col).count().show()\n",
    "        \n",
    "# O count abaixo é apenas referente a um conjunto de combinações com o local de abastecimento. A quantidade pode ser maior ou menor a depender das combinações.\n",
    "print('É possível possuir mais de um local de abastecimento.')\n",
    "print('Quantidade de registros marcados com mais de um local de abastecimento: ', censo.filter((F.col('IN_AGUA_REDE_PUBLICA') == 1) & ((F.col('IN_AGUA_POCO_ARTESIANO') == 1) | (F.col('IN_AGUA_CACIMBA') == 1) | (F.col('IN_AGUA_FONTE_RIO') == 1))).count())"
   ]
  },
  {
   "cell_type": "code",
   "execution_count": 11,
   "id": "4b92e424",
   "metadata": {},
   "outputs": [],
   "source": [
    "analise3 = analise3.withColumn('tipo_energia', F.when(F.col('IN_ENERGIA_REDE_PUBLICA') == 1, 'Rede pública').\\\n",
    "                         when(F.col('IN_ENERGIA_RENOVAVEL') == 1, 'Fontes de energia renováveis ou alternativas').\\\n",
    "                         when(F.col('IN_ENERGIA_INEXISTENTE') == 1, 'Não há energia elétrica').\\\n",
    "                         when(F.col('IN_ENERGIA_GERADOR_FOSSIL') == 1, 'Gerador movido a combustível fóssil').otherwise('Sem informação'))"
   ]
  },
  {
   "cell_type": "code",
   "execution_count": 12,
   "id": "35770273",
   "metadata": {
    "collapsed": true
   },
   "outputs": [
    {
     "name": "stderr",
     "output_type": "stream",
     "text": [
      "                                                                                \r"
     ]
    },
    {
     "name": "stdout",
     "output_type": "stream",
     "text": [
      "+--------------------------------------------+------+\n",
      "|tipo_energia                                |count |\n",
      "+--------------------------------------------+------+\n",
      "|Não há energia elétrica                     |2585  |\n",
      "|Rede pública                                |174594|\n",
      "|Gerador movido a combustível fóssil         |1554  |\n",
      "|Sem informação                              |37395 |\n",
      "|Fontes de energia renováveis ou alternativas|1497  |\n",
      "+--------------------------------------------+------+\n",
      "\n",
      "Distribuição original do Abastecimento de energia elétrica:\n"
     ]
    },
    {
     "name": "stderr",
     "output_type": "stream",
     "text": [
      "                                                                                \r"
     ]
    },
    {
     "name": "stdout",
     "output_type": "stream",
     "text": [
      "+-----------------------+------+\n",
      "|IN_ENERGIA_REDE_PUBLICA| count|\n",
      "+-----------------------+------+\n",
      "|                      0|  5636|\n",
      "|                   null| 37395|\n",
      "|                      1|174594|\n",
      "+-----------------------+------+\n",
      "\n"
     ]
    },
    {
     "name": "stderr",
     "output_type": "stream",
     "text": [
      "                                                                                \r"
     ]
    },
    {
     "name": "stdout",
     "output_type": "stream",
     "text": [
      "+-------------------------+------+\n",
      "|IN_ENERGIA_GERADOR_FOSSIL| count|\n",
      "+-------------------------+------+\n",
      "|                        0|178237|\n",
      "|                     null| 37395|\n",
      "|                        1|  1993|\n",
      "+-------------------------+------+\n",
      "\n"
     ]
    },
    {
     "name": "stderr",
     "output_type": "stream",
     "text": [
      "                                                                                \r"
     ]
    },
    {
     "name": "stdout",
     "output_type": "stream",
     "text": [
      "+--------------------+------+\n",
      "|IN_ENERGIA_RENOVAVEL| count|\n",
      "+--------------------+------+\n",
      "|                   0|176088|\n",
      "|                null| 37395|\n",
      "|                   1|  4142|\n",
      "+--------------------+------+\n",
      "\n"
     ]
    },
    {
     "name": "stderr",
     "output_type": "stream",
     "text": [
      "                                                                                \r"
     ]
    },
    {
     "name": "stdout",
     "output_type": "stream",
     "text": [
      "+----------------------+------+\n",
      "|IN_ENERGIA_INEXISTENTE| count|\n",
      "+----------------------+------+\n",
      "|                     0|177645|\n",
      "|                  null| 37395|\n",
      "|                     1|  2585|\n",
      "+----------------------+------+\n",
      "\n",
      "É possível possuir mais de um tipo de eneria.\n"
     ]
    },
    {
     "name": "stderr",
     "output_type": "stream",
     "text": [
      "\r",
      "[Stage 94:>                                                         (0 + 1) / 1]\r"
     ]
    },
    {
     "name": "stdout",
     "output_type": "stream",
     "text": [
      "Quantidade de registros marcados com mais de um tipo de energia:  2700\n"
     ]
    },
    {
     "name": "stderr",
     "output_type": "stream",
     "text": [
      "\r",
      "                                                                                \r"
     ]
    }
   ],
   "source": [
    "analise3.groupBy('tipo_energia').count().show(truncate=False)\n",
    "\n",
    "print('Distribuição original do Abastecimento de energia elétrica:')\n",
    "for col in censo.columns:\n",
    "    if col.startswith('IN_ENERGIA'):\n",
    "        censo.groupBy(col).count().show()\n",
    "        \n",
    "# O count abaixo é apenas referente a um conjunto de combinações com o tipo de eneria. A quantidade pode ser maior ou menor a depender das combinações.\n",
    "print('É possível possuir mais de um tipo de eneria.')\n",
    "print('Quantidade de registros marcados com mais de um tipo de energia: ', censo.filter((F.col('IN_ENERGIA_RENOVAVEL') == 1) & ((F.col('IN_ENERGIA_GERADOR_FOSSIL') == 1) | (F.col('IN_ENERGIA_REDE_PUBLICA') == 1) | (F.col('IN_ENERGIA_INEXISTENTE') == 1))).count())"
   ]
  },
  {
   "cell_type": "code",
   "execution_count": 13,
   "id": "e4c39536",
   "metadata": {},
   "outputs": [],
   "source": [
    "analise3 = analise3.withColumn('tipo_esgoto', F.when(F.col('IN_ESGOTO_REDE_PUBLICA') == 1, 'Rede pública').\\\n",
    "                         when(F.col('IN_ESGOTO_FOSSA_SEPTICA') == 1, 'Fossa septica').\\\n",
    "                         when(F.col('IN_ESGOTO_FOSSA_COMUM') == 1, 'Fossa rudimentar/comum').\\\n",
    "                         when(F.col('IN_ESGOTO_FOSSA') == 1, 'Fossa').\\\n",
    "                         when(F.col('IN_ESGOTO_INEXISTENTE') == 1, 'Não há esgotamento sanitário').otherwise('Sem informação'))"
   ]
  },
  {
   "cell_type": "code",
   "execution_count": 14,
   "id": "700b22d5",
   "metadata": {
    "collapsed": true
   },
   "outputs": [
    {
     "name": "stderr",
     "output_type": "stream",
     "text": [
      "                                                                                \r"
     ]
    },
    {
     "name": "stdout",
     "output_type": "stream",
     "text": [
      "+----------------------------+------+\n",
      "|tipo_esgoto                 |count |\n",
      "+----------------------------+------+\n",
      "|Não há esgotamento sanitário|6363  |\n",
      "|Fossa septica               |38948 |\n",
      "|Fossa rudimentar/comum      |31599 |\n",
      "|Rede pública                |103320|\n",
      "|Sem informação              |37395 |\n",
      "+----------------------------+------+\n",
      "\n",
      "Distribuição original do Esgoto sanitário:\n"
     ]
    },
    {
     "name": "stderr",
     "output_type": "stream",
     "text": [
      "                                                                                \r"
     ]
    },
    {
     "name": "stdout",
     "output_type": "stream",
     "text": [
      "+----------------------+------+\n",
      "|IN_ESGOTO_REDE_PUBLICA| count|\n",
      "+----------------------+------+\n",
      "|                     0| 76910|\n",
      "|                  null| 37395|\n",
      "|                     1|103320|\n",
      "+----------------------+------+\n",
      "\n"
     ]
    },
    {
     "name": "stderr",
     "output_type": "stream",
     "text": [
      "                                                                                \r"
     ]
    },
    {
     "name": "stdout",
     "output_type": "stream",
     "text": [
      "+-----------------------+------+\n",
      "|IN_ESGOTO_FOSSA_SEPTICA| count|\n",
      "+-----------------------+------+\n",
      "|                      0|138704|\n",
      "|                   null| 37395|\n",
      "|                      1| 41526|\n",
      "+-----------------------+------+\n",
      "\n"
     ]
    },
    {
     "name": "stderr",
     "output_type": "stream",
     "text": [
      "                                                                                \r"
     ]
    },
    {
     "name": "stdout",
     "output_type": "stream",
     "text": [
      "+---------------------+------+\n",
      "|IN_ESGOTO_FOSSA_COMUM| count|\n",
      "+---------------------+------+\n",
      "|                    0|147634|\n",
      "|                 null| 37395|\n",
      "|                    1| 32596|\n",
      "+---------------------+------+\n",
      "\n"
     ]
    },
    {
     "name": "stderr",
     "output_type": "stream",
     "text": [
      "                                                                                \r"
     ]
    },
    {
     "name": "stdout",
     "output_type": "stream",
     "text": [
      "+---------------+------+\n",
      "|IN_ESGOTO_FOSSA| count|\n",
      "+---------------+------+\n",
      "|              0|106108|\n",
      "|           null| 37395|\n",
      "|              1| 74122|\n",
      "+---------------+------+\n",
      "\n"
     ]
    },
    {
     "name": "stderr",
     "output_type": "stream",
     "text": [
      "                                                                                \r"
     ]
    },
    {
     "name": "stdout",
     "output_type": "stream",
     "text": [
      "+---------------------+------+\n",
      "|IN_ESGOTO_INEXISTENTE| count|\n",
      "+---------------------+------+\n",
      "|                    0|173867|\n",
      "|                 null| 37395|\n",
      "|                    1|  6363|\n",
      "+---------------------+------+\n",
      "\n",
      "É possível possuir mais de um tipo de esgoto.\n"
     ]
    },
    {
     "name": "stderr",
     "output_type": "stream",
     "text": [
      "\r",
      "[Stage 115:>                                                        (0 + 1) / 1]\r"
     ]
    },
    {
     "name": "stdout",
     "output_type": "stream",
     "text": [
      "Quantidade de registros marcados com mais de um tipo de esgoto:  3575\n"
     ]
    },
    {
     "name": "stderr",
     "output_type": "stream",
     "text": [
      "\r",
      "                                                                                \r"
     ]
    }
   ],
   "source": [
    "analise3.groupBy('tipo_esgoto').count().show(truncate=False)\n",
    "\n",
    "print('Distribuição original do Esgoto sanitário:')\n",
    "for col in censo.columns:\n",
    "    if col.startswith('IN_ESGOTO'):\n",
    "        censo.groupBy(col).count().show()\n",
    "        \n",
    "# O count abaixo é apenas referente a um conjunto de combinações com o tipo de esgoto. A quantidade pode ser maior ou menor a depender das combinações.\n",
    "print('É possível possuir mais de um tipo de esgoto.')\n",
    "print('Quantidade de registros marcados com mais de um tipo de esgoto: ', censo.filter((F.col('IN_ESGOTO_REDE_PUBLICA') == 1) & ((F.col('IN_ESGOTO_FOSSA_SEPTICA') == 1) | (F.col('IN_ESGOTO_FOSSA_COMUM') == 1) | (F.col('IN_ESGOTO_FOSSA') == 1))).count())"
   ]
  },
  {
   "cell_type": "code",
   "execution_count": 15,
   "id": "ac773222",
   "metadata": {},
   "outputs": [],
   "source": [
    "analise3 = analise3.withColumn('descarte_lixo', F.when(F.col('IN_LIXO_QUEIMA') == 1, 'Queima').\\\n",
    "                         when(F.col('IN_LIXO_ENTERRA') == 1, 'Enterra').\\\n",
    "                         when(F.col('IN_LIXO_DESTINO_FINAL_PUBLICO') == 1, 'Leva a uma destinação final financiada pelo poder público').\\\n",
    "                         when(F.col('IN_LIXO_DESCARTA_OUTRA_AREA') == 1, 'Descarte em outra área').otherwise('Sem informação'))"
   ]
  },
  {
   "cell_type": "code",
   "execution_count": 16,
   "id": "88cd57d7",
   "metadata": {
    "collapsed": true
   },
   "outputs": [
    {
     "name": "stderr",
     "output_type": "stream",
     "text": [
      "                                                                                \r"
     ]
    },
    {
     "name": "stdout",
     "output_type": "stream",
     "text": [
      "+---------------------------------------------------------+------+\n",
      "|descarte_lixo                                            |count |\n",
      "+---------------------------------------------------------+------+\n",
      "|Leva a uma destinação final financiada pelo poder público|3913  |\n",
      "|Descarte em outra área                                   |2999  |\n",
      "|Queima                                                   |29769 |\n",
      "|Enterra                                                  |1246  |\n",
      "|Sem informação                                           |179698|\n",
      "+---------------------------------------------------------+------+\n",
      "\n",
      "Distribuição original de Destinação do lixo:\n"
     ]
    },
    {
     "name": "stderr",
     "output_type": "stream",
     "text": [
      "                                                                                \r"
     ]
    },
    {
     "name": "stdout",
     "output_type": "stream",
     "text": [
      "+----------------------+------+\n",
      "|IN_ESGOTO_REDE_PUBLICA| count|\n",
      "+----------------------+------+\n",
      "|                     0| 76910|\n",
      "|                  null| 37395|\n",
      "|                     1|103320|\n",
      "+----------------------+------+\n",
      "\n"
     ]
    },
    {
     "name": "stderr",
     "output_type": "stream",
     "text": [
      "                                                                                \r"
     ]
    },
    {
     "name": "stdout",
     "output_type": "stream",
     "text": [
      "+-----------------------+------+\n",
      "|IN_ESGOTO_FOSSA_SEPTICA| count|\n",
      "+-----------------------+------+\n",
      "|                      0|138704|\n",
      "|                   null| 37395|\n",
      "|                      1| 41526|\n",
      "+-----------------------+------+\n",
      "\n"
     ]
    },
    {
     "name": "stderr",
     "output_type": "stream",
     "text": [
      "                                                                                \r"
     ]
    },
    {
     "name": "stdout",
     "output_type": "stream",
     "text": [
      "+---------------------+------+\n",
      "|IN_ESGOTO_FOSSA_COMUM| count|\n",
      "+---------------------+------+\n",
      "|                    0|147634|\n",
      "|                 null| 37395|\n",
      "|                    1| 32596|\n",
      "+---------------------+------+\n",
      "\n"
     ]
    },
    {
     "name": "stderr",
     "output_type": "stream",
     "text": [
      "                                                                                \r"
     ]
    },
    {
     "name": "stdout",
     "output_type": "stream",
     "text": [
      "+---------------+------+\n",
      "|IN_ESGOTO_FOSSA| count|\n",
      "+---------------+------+\n",
      "|              0|106108|\n",
      "|           null| 37395|\n",
      "|              1| 74122|\n",
      "+---------------+------+\n",
      "\n"
     ]
    },
    {
     "name": "stderr",
     "output_type": "stream",
     "text": [
      "                                                                                \r"
     ]
    },
    {
     "name": "stdout",
     "output_type": "stream",
     "text": [
      "+---------------------+------+\n",
      "|IN_ESGOTO_INEXISTENTE| count|\n",
      "+---------------------+------+\n",
      "|                    0|173867|\n",
      "|                 null| 37395|\n",
      "|                    1|  6363|\n",
      "+---------------------+------+\n",
      "\n",
      "É possível possuir mais de um tipo de descarte do lixo.\n"
     ]
    },
    {
     "name": "stderr",
     "output_type": "stream",
     "text": [
      "\r",
      "[Stage 136:>                                                        (0 + 1) / 1]\r"
     ]
    },
    {
     "name": "stdout",
     "output_type": "stream",
     "text": [
      "Quantidade de registros marcados com mais de um tipo de descarte do lixo:  6170\n"
     ]
    },
    {
     "name": "stderr",
     "output_type": "stream",
     "text": [
      "\r",
      "                                                                                \r"
     ]
    }
   ],
   "source": [
    "analise3.groupBy('descarte_lixo').count().show(truncate=False)\n",
    "\n",
    "print('Distribuição original de Destinação do lixo:')\n",
    "for col in censo.columns:\n",
    "    if col.startswith('IN_ESGOTO'):\n",
    "        censo.groupBy(col).count().show()\n",
    "        \n",
    "# O count abaixo é apenas referente a um conjunto de combinações com o tipo de descarte do lixo. A quantidade pode ser maior ou menor a depender das combinações.\n",
    "print('É possível possuir mais de um tipo de descarte do lixo.')\n",
    "print('Quantidade de registros marcados com mais de um tipo de descarte do lixo: ', censo.filter((F.col('IN_LIXO_QUEIMA') == 1) & ((F.col('IN_LIXO_ENTERRA') == 1) | (F.col('IN_LIXO_DESTINO_FINAL_PUBLICO') == 1) | (F.col('IN_LIXO_DESCARTA_OUTRA_AREA') == 1))).count())"
   ]
  },
  {
   "cell_type": "code",
   "execution_count": 17,
   "id": "0f85a0af",
   "metadata": {
    "scrolled": false
   },
   "outputs": [
    {
     "name": "stderr",
     "output_type": "stream",
     "text": [
      "\r",
      "[Stage 139:>                                                        (0 + 1) / 1]\r"
     ]
    },
    {
     "name": "stdout",
     "output_type": "stream",
     "text": [
      "Qtd. registros: 217625 | Quantidade de colunas:  12\n",
      "root\n",
      " |-- NO_REGIAO: string (nullable = true)\n",
      " |-- NO_UF: string (nullable = true)\n",
      " |-- SG_UF: string (nullable = true)\n",
      " |-- NO_MUNICIPIO: string (nullable = true)\n",
      " |-- NO_MICRORREGIAO: string (nullable = true)\n",
      " |-- NO_ENTIDADE: string (nullable = true)\n",
      " |-- TIPO_VINCULO: string (nullable = false)\n",
      " |-- LOCAL_FUNC_ESCOLA: string (nullable = false)\n",
      " |-- TIPO_AGUA: string (nullable = false)\n",
      " |-- TIPO_ENERGIA: string (nullable = false)\n",
      " |-- TIPO_ESGOTO: string (nullable = false)\n",
      " |-- DESCARTE_LIXO: string (nullable = false)\n",
      "\n"
     ]
    },
    {
     "name": "stderr",
     "output_type": "stream",
     "text": [
      "\r",
      "                                                                                \r"
     ]
    }
   ],
   "source": [
    "analise3 = analise3.select('NO_REGIAO', 'NO_UF', 'SG_UF', 'NO_MUNICIPIO', 'NO_MICRORREGIAO', 'NO_ENTIDADE', 'tipo_vinculo', 'local_func_escola',  'tipo_agua', 'tipo_energia', 'tipo_esgoto', 'descarte_lixo')\n",
    "analise3 = analise3.toDF(*[c.upper() for c in analise3.columns])\n",
    "completudeSchema(analise3)"
   ]
  },
  {
   "cell_type": "markdown",
   "id": "2a9f4452",
   "metadata": {},
   "source": [
    "#### Tratamento das variáveis\n",
    "\n",
    "- Remoção de numerações no nome da escola"
   ]
  },
  {
   "cell_type": "code",
   "execution_count": 18,
   "id": "a2935178",
   "metadata": {
    "scrolled": true
   },
   "outputs": [
    {
     "name": "stderr",
     "output_type": "stream",
     "text": [
      "                                                                                \r"
     ]
    },
    {
     "name": "stdout",
     "output_type": "stream",
     "text": [
      "Quantidade de registros que iniciam com numerações que não fazem parte do nome:  1771\n"
     ]
    },
    {
     "name": "stderr",
     "output_type": "stream",
     "text": [
      "\r",
      "[Stage 145:>                                                        (0 + 1) / 1]\r"
     ]
    },
    {
     "name": "stdout",
     "output_type": "stream",
     "text": [
      "+--------------------------------------------------------+\n",
      "|NO_ENTIDADE                                             |\n",
      "+--------------------------------------------------------+\n",
      "|29092191 - COLEGIO ESTADUAL DOM PEDRO II TEMPO INTEGRAL |\n",
      "|0101501 CIEP HENFIL                                     |\n",
      "|0101803 EDI ANTONIO RAPOSO TAVARES                      |\n",
      "|0101004 EM BENJAMIM CONSTANT                            |\n",
      "|0101003 EM DARCY VARGAS                                 |\n",
      "|0101006 EM FRANCISCO BENJAMIN GALLOTTI                  |\n",
      "|0101005 EM GENERAL MITRE                                |\n",
      "|0101008 EM MARECHAL ESPERIDIAO ROSAS                    |\n",
      "|0101007 EM MARECHAL MASCARENHAS DE MORAES               |\n",
      "|0101012 EM PROFESSORA LAURA SYLVIA MENDES PEREIRA       |\n",
      "|0101009 EM PROFESSOR WALTER CARLOS DE MAGALHAES FRAENKEL|\n",
      "|0101001 EM VICENTE LICINIO CARDOSO                      |\n",
      "|0102503 CIEP AVENIDA DOS DESFILES II                    |\n",
      "|0102502 CIEP AVENIDA DOS DESFILES I                     |\n",
      "|0102505 CIEP JOSE PEDRO VARELA                          |\n",
      "|0102504 CIEP AVENIDA DOS DESFILES                       |\n",
      "|0102501 EM TIA CIATA                                    |\n",
      "|0102005 EM CALOUSTE GULBENKIAN                          |\n",
      "|0102001 EM CELESTINO DA SILVA                           |\n",
      "|0102802 EDI CAMPOS SALLES                               |\n",
      "+--------------------------------------------------------+\n",
      "only showing top 20 rows\n",
      "\n"
     ]
    },
    {
     "name": "stderr",
     "output_type": "stream",
     "text": [
      "\r",
      "                                                                                \r"
     ]
    }
   ],
   "source": [
    "print('Quantidade de registros que iniciam com numerações que não fazem parte do nome: ', analise3.filter(F.col(\"NO_ENTIDADE\").rlike(\"^(\\d+\\.?){3,}\")).count())\n",
    "\n",
    "analise3.filter(F.col(\"NO_ENTIDADE\").rlike(\"^(\\d+\\.?){3,}\")).select(\"NO_ENTIDADE\").show(truncate=False)"
   ]
  },
  {
   "cell_type": "code",
   "execution_count": 19,
   "id": "06ccc9e4",
   "metadata": {},
   "outputs": [
    {
     "name": "stdout",
     "output_type": "stream",
     "text": [
      "Validando as modificações: \n"
     ]
    },
    {
     "name": "stderr",
     "output_type": "stream",
     "text": [
      "\r",
      "[Stage 146:>                                                        (0 + 1) / 1]\r"
     ]
    },
    {
     "name": "stdout",
     "output_type": "stream",
     "text": [
      "+--------------------------------------------------------+------------------------------------------------+\n",
      "|NO_ENTIDADE                                             |NOME_ENTIDADE                                   |\n",
      "+--------------------------------------------------------+------------------------------------------------+\n",
      "|29092191 - COLEGIO ESTADUAL DOM PEDRO II TEMPO INTEGRAL |COLEGIO ESTADUAL DOM PEDRO II TEMPO INTEGRAL    |\n",
      "|0101501 CIEP HENFIL                                     |CIEP HENFIL                                     |\n",
      "|0101803 EDI ANTONIO RAPOSO TAVARES                      |EDI ANTONIO RAPOSO TAVARES                      |\n",
      "|0101004 EM BENJAMIM CONSTANT                            |EM BENJAMIM CONSTANT                            |\n",
      "|0101003 EM DARCY VARGAS                                 |EM DARCY VARGAS                                 |\n",
      "|0101006 EM FRANCISCO BENJAMIN GALLOTTI                  |EM FRANCISCO BENJAMIN GALLOTTI                  |\n",
      "|0101005 EM GENERAL MITRE                                |EM GENERAL MITRE                                |\n",
      "|0101008 EM MARECHAL ESPERIDIAO ROSAS                    |EM MARECHAL ESPERIDIAO ROSAS                    |\n",
      "|0101007 EM MARECHAL MASCARENHAS DE MORAES               |EM MARECHAL MASCARENHAS DE MORAES               |\n",
      "|0101012 EM PROFESSORA LAURA SYLVIA MENDES PEREIRA       |EM PROFESSORA LAURA SYLVIA MENDES PEREIRA       |\n",
      "|0101009 EM PROFESSOR WALTER CARLOS DE MAGALHAES FRAENKEL|EM PROFESSOR WALTER CARLOS DE MAGALHAES FRAENKEL|\n",
      "|0101001 EM VICENTE LICINIO CARDOSO                      |EM VICENTE LICINIO CARDOSO                      |\n",
      "|0102503 CIEP AVENIDA DOS DESFILES II                    |CIEP AVENIDA DOS DESFILES II                    |\n",
      "|0102502 CIEP AVENIDA DOS DESFILES I                     |CIEP AVENIDA DOS DESFILES I                     |\n",
      "|0102505 CIEP JOSE PEDRO VARELA                          |CIEP JOSE PEDRO VARELA                          |\n",
      "|0102504 CIEP AVENIDA DOS DESFILES                       |CIEP AVENIDA DOS DESFILES                       |\n",
      "|0102501 EM TIA CIATA                                    |EM TIA CIATA                                    |\n",
      "|0102005 EM CALOUSTE GULBENKIAN                          |EM CALOUSTE GULBENKIAN                          |\n",
      "|0102001 EM CELESTINO DA SILVA                           |EM CELESTINO DA SILVA                           |\n",
      "|0102802 EDI CAMPOS SALLES                               |EDI CAMPOS SALLES                               |\n",
      "+--------------------------------------------------------+------------------------------------------------+\n",
      "only showing top 20 rows\n",
      "\n"
     ]
    },
    {
     "name": "stderr",
     "output_type": "stream",
     "text": [
      "\r",
      "                                                                                \r"
     ]
    }
   ],
   "source": [
    "# substituição das numerações por vázio\n",
    "analise3 = analise3.withColumn(\"NOME_ENTIDADE\", F.regexp_replace(F.col(\"NO_ENTIDADE\"), \"^(\\d+\\.?){3,} (- )?\", ''))\n",
    "\n",
    "print('Validando as modificações: ')\n",
    "analise3.filter(F.col(\"NO_ENTIDADE\").rlike(\"^(\\d+\\.?){3,}\")).select(\"NO_ENTIDADE\", \"NOME_ENTIDADE\").show(truncate=False)"
   ]
  },
  {
   "cell_type": "code",
   "execution_count": 20,
   "id": "f61d07e7",
   "metadata": {},
   "outputs": [
    {
     "name": "stderr",
     "output_type": "stream",
     "text": [
      "\r",
      "[Stage 147:>                                                        (0 + 1) / 1]\r"
     ]
    },
    {
     "name": "stdout",
     "output_type": "stream",
     "text": [
      "Qtd. registros: 217625 | Quantidade de colunas:  13\n",
      "root\n",
      " |-- NO_REGIAO: string (nullable = true)\n",
      " |-- NO_UF: string (nullable = true)\n",
      " |-- SG_UF: string (nullable = true)\n",
      " |-- NO_MUNICIPIO: string (nullable = true)\n",
      " |-- NO_MICRORREGIAO: string (nullable = true)\n",
      " |-- NO_ENTIDADE: string (nullable = true)\n",
      " |-- TIPO_VINCULO: string (nullable = false)\n",
      " |-- LOCAL_FUNC_ESCOLA: string (nullable = false)\n",
      " |-- TIPO_AGUA: string (nullable = false)\n",
      " |-- TIPO_ENERGIA: string (nullable = false)\n",
      " |-- TIPO_ESGOTO: string (nullable = false)\n",
      " |-- DESCARTE_LIXO: string (nullable = false)\n",
      " |-- NOME_ENTIDADE: string (nullable = true)\n",
      "\n"
     ]
    },
    {
     "name": "stderr",
     "output_type": "stream",
     "text": [
      "\r",
      "                                                                                \r"
     ]
    }
   ],
   "source": [
    "analise3.drop('NO_ENTIDADE')\n",
    "pessoal.completudeSchema(analise3)"
   ]
  },
  {
   "cell_type": "markdown",
   "id": "f95245da",
   "metadata": {},
   "source": [
    "#### Escrita"
   ]
  },
  {
   "cell_type": "code",
   "execution_count": 21,
   "id": "7e65b7cf",
   "metadata": {
    "scrolled": true
   },
   "outputs": [
    {
     "name": "stderr",
     "output_type": "stream",
     "text": [
      "                                                                                \r"
     ]
    },
    {
     "data": {
      "text/plain": [
       "('/home/tatiane/Documentos/censo_escolar2/projeto_2/analise3/analise3.csv',\n",
       " 4.4367333549998875,\n",
       " 5.267749419000211)"
      ]
     },
     "execution_count": 21,
     "metadata": {},
     "output_type": "execute_result"
    }
   ],
   "source": [
    "writeSingleCsv(analise3, write_path)"
   ]
  },
  {
   "cell_type": "markdown",
   "id": "984f94c5",
   "metadata": {},
   "source": [
    "### Finalização do notebook"
   ]
  },
  {
   "cell_type": "code",
   "execution_count": 22,
   "id": "37ccea25",
   "metadata": {},
   "outputs": [
    {
     "name": "stdout",
     "output_type": "stream",
     "text": [
      "Tempo de execucao ate este ponto: 0:02:17.981846\n"
     ]
    }
   ],
   "source": [
    "executionTime()"
   ]
  },
  {
   "cell_type": "code",
   "execution_count": 23,
   "id": "de11307f",
   "metadata": {},
   "outputs": [],
   "source": [
    "sc.stop()"
   ]
  }
 ],
 "metadata": {
  "kernelspec": {
   "display_name": "Python 3 (ipykernel)",
   "language": "python",
   "name": "python3"
  },
  "language_info": {
   "codemirror_mode": {
    "name": "ipython",
    "version": 3
   },
   "file_extension": ".py",
   "mimetype": "text/x-python",
   "name": "python",
   "nbconvert_exporter": "python",
   "pygments_lexer": "ipython3",
   "version": "3.9.7"
  }
 },
 "nbformat": 4,
 "nbformat_minor": 5
}
